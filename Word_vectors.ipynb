{
 "cells": [
  {
   "cell_type": "code",
   "execution_count": 1,
   "id": "1Zd5KOyFYU5-",
   "metadata": {
    "id": "1Zd5KOyFYU5-"
   },
   "outputs": [],
   "source": [
    "#import the necessary libraries\n",
    "\n",
    "import scipy.stats as stats\n",
    "import numpy as np\n",
    "import pandas as pd\n",
    "\n",
    "from tqdm import tqdm\n",
    "from typing import Callable\n",
    "from numpy.linalg import norm\n",
    "from heapq import nlargest, nsmallest"
   ]
  },
  {
   "cell_type": "markdown",
   "id": "35ad8fa2",
   "metadata": {},
   "source": [
    "# Part 1"
   ]
  },
  {
   "cell_type": "markdown",
   "id": "309287b4",
   "metadata": {},
   "source": [
    "The following code is used to count the number of times that word y appears in a context window with size $w$ centered at the word $x$, using the provided wiki-1percent.txt corpus. A context window contains up to $w$\n",
    "words to either side of the center word, so it contains up to $2w + 1$ words in total (including the center\n",
    "word). If y appears multiple times in a single window, we count each occurrence separately. We will use the\n",
    "notation $#(x, y)$ to denote the count of the tuple $⟨x, y⟩$, i.e., the number of times that word $y$ appeared\n",
    "within $w$ words to the left or right of $x$. Keep in mind that the tuples are ordered: the first item in the tuple\n",
    "$⟨x, y⟩$ is the center word and the second item is the context word."
   ]
  },
  {
   "cell_type": "code",
   "execution_count": null,
   "id": "e8be84a8",
   "metadata": {},
   "outputs": [],
   "source": [
    "w = int(input('Window size: '))\n",
    "V = set(x for x in input('Vocabulary: ').split())\n",
    "V_c = set(x for x in input('Context vocabulary: ').split())\n",
    "\n",
    "\n",
    "pairs = { }\n",
    "\n",
    "for line in (open(\"wiki-1percent.txt\", \"r+\")).readlines():\n",
    "    #follow each line\n",
    "    a = line.split()\n",
    "    for i in range(len(a)):\n",
    "        window = []\n",
    "        #add words within range to window if word is in Vocabulary\n",
    "        if (a[i]+'\\n') in V and i >= w and i < (len(a) - w):\n",
    "            window = a[i - w: i + w + 1]\n",
    "            window.remove(window[w])\n",
    "        elif (a[i]+'\\n') in V and i < w:\n",
    "            window = a[0: i + w + 1]\n",
    "            window.remove(window[i])\n",
    "        elif (a[i]+'\\n') in V and i >= (len(a) - w):\n",
    "            window = a[i - w: len(a)]\n",
    "            window.remove(window[w])\n",
    "        #remove words not in V_c from window and add to count\n",
    "        for con in window:\n",
    "            if (con+'\\n') in V_c:\n",
    "               try:\n",
    "                   pairs[(a[i], con)] += 1\n",
    "               except KeyError:\n",
    "                   pairs[(a[i], con)] = 1\n",
    "\n",
    "\n",
    "print(pairs)\n"
   ]
  },
  {
   "cell_type": "markdown",
   "id": "6d0e5feb",
   "metadata": {},
   "source": [
    "After having computed these counts, we can use them to form word vectors for the words in $V$ . The\n",
    "word vector for a word $x ∈ V$ is $|V_{C}|$−dimensional; that is, it has an entry for each context word y ∈ VC\n",
    "with value $#(x, y)$. Therefore, the counts $#(\\cdot, \\cdot)$ can be viewed as representing word vectors for the\n",
    "words in $V$ . Note that zero counts do not need to be represented explicitly in the counts $#(·, ·)$. You can\n",
    "just store nonzero counts and assume that all other tuples have count zero. By doing so, word vectors\n",
    "can be represented sparsely, saving memory and speeding up the computation of word similarities. We implement a cosine similarity function to obtain correlations between the obtained vectors and a function to provide an evaluation metric based on counting alone, IDF, or PMI."
   ]
  },
  {
   "cell_type": "code",
   "execution_count": 5,
   "id": "dcbf9cc5",
   "metadata": {
    "id": "dcbf9cc5"
   },
   "outputs": [],
   "source": [
    "#algorithm is the same as above\n",
    "V = set(x for x in (open(\"vocab-15kws.txt\", \"r+\")).read().splitlines())\n",
    "V_c = set(x for x in (open(\"vocab-5k.txt\", \"r+\")).read().splitlines())\n",
    "corpus = open(\"wiki-1percent.txt\", \"r+\").readlines()\n",
    "lc = len(corpus)\n",
    "def counting(w):\n",
    "    pairs = {}\n",
    "    for line in corpus:\n",
    "        a = line.split()\n",
    "        for i in range(len(a)):\n",
    "            window = []\n",
    "            if (a[i]) in V and i >= w and i < (len(a) - w):\n",
    "                window = a[i - w: i + w + 1]\n",
    "                window.remove(window[w])\n",
    "            elif (a[i]) in V and i < w:\n",
    "                window = a[0: i + w + 1]\n",
    "                window.remove(window[i])\n",
    "            elif (a[i]) in V and i >= (len(a) - w):\n",
    "                window = a[i - w: len(a)]\n",
    "                window.remove(window[w])\n",
    "            for con in window:\n",
    "                if (con) in V_c:\n",
    "                   try:\n",
    "                       pairs[(a[i], con)] += 1\n",
    "                   except KeyError:\n",
    "                       pairs[(a[i], con)] = 1\n",
    "    return pairs\n",
    "                \n"
   ]
  },
  {
   "cell_type": "code",
   "execution_count": 17,
   "id": "WOQWqZvzanX4",
   "metadata": {
    "id": "WOQWqZvzanX4"
   },
   "outputs": [],
   "source": [
    "#creating the vectors where each component corresponds to the count with respect to another word\n",
    "vectors_3 = {}\n",
    "for voc in V:\n",
    "    vectors_3[voc] = []\n",
    "    for con in V_c:\n",
    "        try:\n",
    "            vectors_3[voc].append(pairs_3[(voc, con)])\n",
    "        except KeyError:\n",
    "              vectors_3[voc].append(0)\n",
    "    "
   ]
  },
  {
   "cell_type": "code",
   "execution_count": 18,
   "id": "55e471ca",
   "metadata": {},
   "outputs": [],
   "source": [
    "#cosine similarity (inner product) function\n",
    "def cos_sim_3(voc1, voc2):\n",
    "    if (norm(vectors_3[voc1]) != 0) and (norm(vectors_3[voc2]) != 0):\n",
    "        cosine = np.dot(vectors_3[voc1], vectors_3[voc2])/(norm(vectors_3[voc1])*norm(vectors_3[voc2]))\n",
    "    else:\n",
    "        cosine = 0\n",
    "    return cosine"
   ]
  },
  {
   "cell_type": "code",
   "execution_count": 19,
   "id": "7aa320f1",
   "metadata": {},
   "outputs": [],
   "source": [
    "counts_3 = {}\n",
    "for voc in V:\n",
    "    counts_3[voc] = {}\n",
    "    for con in V_c:\n",
    "        try:\n",
    "            counts_3[voc][con] = { con : pairs_3[(voc,con)]}\n",
    "        except KeyError:\n",
    "            pass"
   ]
  },
  {
   "cell_type": "code",
   "execution_count": 28,
   "id": "Bw5wpn8vdaAu",
   "metadata": {
    "colab": {
     "base_uri": "https://localhost:8080/",
     "height": 232
    },
    "id": "Bw5wpn8vdaAu",
    "outputId": "b110ca8f-8886-4063-dae0-57490e67824d"
   },
   "outputs": [],
   "source": [
    "#EvalWS evaluation metric\n",
    "def EvalWS(hum_an: pd.DataFrame, counts: dict[str, dict[str, int]], \n",
    "           metric: Callable[[any], float], name: str, **kwargs) -> float:\n",
    "\n",
    "    voc1 = hum_an.iloc[:,0]\n",
    "    voc2 = hum_an.iloc[:,1]\n",
    "    sim = np.zeros(len(hum_an))\n",
    "    for i in range(len(hum_an)):\n",
    "        if voc1[i] not in counts or voc2[i] not in counts:\n",
    "            continue\n",
    "        elif name == 'count': \n",
    "            sim[i] = metric(voc1[i], voc2[i])\n",
    "        elif name == 'IDF': \n",
    "            sim[i] = metric(voc1[i], voc2[i])\n",
    "        elif name == 'PMI': \n",
    "            sim[i] = metric(voc1[i], voc2[i])\n",
    "    hum_scores = hum_an.iloc[:,2].values\n",
    "    corr = stats.spearmanr(hum_scores, sim)\n",
    "    return corr\n",
    "    "
   ]
  },
  {
   "cell_type": "code",
   "execution_count": 21,
   "id": "OhlS-thIf7hd",
   "metadata": {
    "colab": {
     "base_uri": "https://localhost:8080/"
    },
    "id": "OhlS-thIf7hd",
    "outputId": "3b3b44be-dcec-4821-e1d0-5acaa3042ef6"
   },
   "outputs": [
    {
     "data": {
      "text/plain": [
       "SignificanceResult(statistic=0.2251396048448754, pvalue=8.800788745595221e-36)"
      ]
     },
     "execution_count": 21,
     "metadata": {},
     "output_type": "execute_result"
    }
   ],
   "source": [
    "EvalWS((pd.read_csv('men.txt', sep=\"\\t\", header=None, skiprows = [0])), counts_3, cos_sim_3, 'count') "
   ]
  },
  {
   "cell_type": "code",
   "execution_count": 22,
   "id": "fc875ef3",
   "metadata": {},
   "outputs": [
    {
     "data": {
      "text/plain": [
       "SignificanceResult(statistic=0.05876135331349779, pvalue=0.0633756392544004)"
      ]
     },
     "execution_count": 22,
     "metadata": {},
     "output_type": "execute_result"
    }
   ],
   "source": [
    "EvalWS((pd.read_csv('simlex-999.txt', sep=\"\\t\", header=None, skiprows = [0])), counts_3, cos_sim_3, 'count') "
   ]
  },
  {
   "cell_type": "markdown",
   "id": "9215dea1",
   "metadata": {},
   "source": [
    "# Part 2"
   ]
  },
  {
   "cell_type": "markdown",
   "id": "3df7de06",
   "metadata": {},
   "source": [
    "One problem with using raw counts is that they place too much weight on extremely common words.\n",
    "We’ll try to address this by using inverse document frequency (IDF). IDF was developed in the context\n",
    "of document retrieval, but here we’re working with sentences so we’ll be applying the idea to sentences\n",
    "rather than documents.\n",
    "Let $S$ denote the set of sentences in the corpus. Then, instead of defining word vector entries using counts\n",
    "$#(x, y)$, we will define them as follows. The word vector for a word $x ∈ V$ has an entry for each word\n",
    "$y ∈ V_{C}$ with value given by: $$ #(x, y) \\times |S|/|{s ∈ S : s contains y}| $$ The first term above is the “term frequency” (TF) and the second is the inverse of the “sentence frequency” for the context word. Note that if a word vector entry was previously zero when only using\n",
    "counts, it is still zero when using the above formula, so we can still use sparse data structures."
   ]
  },
  {
   "cell_type": "code",
   "execution_count": 21,
   "id": "9f2327a1",
   "metadata": {},
   "outputs": [],
   "source": [
    "#function to count frequency of word within sentence\n",
    "def sen_freq(word):\n",
    "    val = 0\n",
    "    for line in corpus:\n",
    "        if word in line:\n",
    "            val += 1\n",
    "    return val"
   ]
  },
  {
   "cell_type": "code",
   "execution_count": 22,
   "id": "2a1b7732",
   "metadata": {},
   "outputs": [
    {
     "name": "stderr",
     "output_type": "stream",
     "text": [
      "100%|███████████████████████████████████████| 5000/5000 [06:38<00:00, 12.55it/s]\n"
     ]
    }
   ],
   "source": [
    "sen_freqs = {}\n",
    "for con in tqdm(V_c):\n",
    "    sen_freqs[con] = sen_freq(con)"
   ]
  },
  {
   "cell_type": "code",
   "execution_count": 25,
   "id": "06133d47",
   "metadata": {},
   "outputs": [],
   "source": [
    "#function to compute IDF with a window size of 3\n",
    "def IDF_3(voc, con):\n",
    "    if sen_freqs[con] != 0:\n",
    "        val = (pairs_3[(voc,con)])*(lc/(sen_freqs[con]))\n",
    "    else:\n",
    "        val = 0\n",
    "    return val\n",
    "    "
   ]
  },
  {
   "cell_type": "code",
   "execution_count": 26,
   "id": "6bce76cb",
   "metadata": {},
   "outputs": [
    {
     "name": "stderr",
     "output_type": "stream",
     "text": [
      "100%|████████████████████████████████████| 15228/15228 [00:31<00:00, 485.18it/s]\n"
     ]
    }
   ],
   "source": [
    "#computing vectors obtained\n",
    "idf_3_vectors = {}\n",
    "for voc in tqdm(counts_3):\n",
    "    idf_3_vectors[voc] = []\n",
    "    for con in V_c:\n",
    "        try: \n",
    "            pairs_3[(voc,con)] *= 1\n",
    "            idf_3_vectors[voc].append(IDF_3(voc,con))\n",
    "        except KeyError:\n",
    "            idf_3_vectors[voc].append(0)"
   ]
  },
  {
   "cell_type": "code",
   "execution_count": 27,
   "id": "f652231d",
   "metadata": {},
   "outputs": [],
   "source": [
    "def idf_sim_3(voc1, voc2):\n",
    "    if (norm(idf_3_vectors[voc1]) != 0) and (norm(idf_3_vectors[voc2]) != 0):\n",
    "        cosine = np.dot(idf_3_vectors[voc1], idf_3_vectors[voc2])/(norm(idf_3_vectors[voc1])*norm(idf_3_vectors[voc2]))\n",
    "    else:\n",
    "        cosine = 0\n",
    "    return cosine"
   ]
  },
  {
   "cell_type": "code",
   "execution_count": 28,
   "id": "c915dd7c",
   "metadata": {},
   "outputs": [
    {
     "data": {
      "text/plain": [
       "SignificanceResult(statistic=0.44646592054501644, pvalue=6.145013710758384e-147)"
      ]
     },
     "execution_count": 28,
     "metadata": {},
     "output_type": "execute_result"
    }
   ],
   "source": [
    "EvalWS((pd.read_csv('men.txt', sep=\"\\t\", header=None, skiprows = [0])), counts_3, idf_sim_3, 'IDF') "
   ]
  },
  {
   "cell_type": "code",
   "execution_count": 29,
   "id": "c5017c96",
   "metadata": {},
   "outputs": [
    {
     "data": {
      "text/plain": [
       "SignificanceResult(statistic=0.16111999057244053, pvalue=3.0614957547676104e-07)"
      ]
     },
     "execution_count": 29,
     "metadata": {},
     "output_type": "execute_result"
    }
   ],
   "source": [
    "EvalWS((pd.read_csv('simlex-999.txt', sep=\"\\t\", header=None, skiprows = [0])), counts_3, idf_sim_3, 'IDF') "
   ]
  },
  {
   "cell_type": "markdown",
   "id": "f0519cb1",
   "metadata": {},
   "source": [
    "# Part 3"
   ]
  },
  {
   "cell_type": "markdown",
   "id": "40c95dd7",
   "metadata": {},
   "source": [
    "While IDF helps by downweighting frequent words, the IDF for a context word is computed independently of the center word it is paired with. Next, we’ll define word vectors using pointwise mutual\n",
    "information (PMI), which captures some information about the relationship between the center word\n",
    "and context word in a single number.\n",
    "\n",
    "We define two random variables: $X$ is a random variable representing the center word and $Y$ is a random\n",
    "variable representing the context word. The set of possible events for $X$ is the vocabulary $V$ , while the set\n",
    "of possible events for $Y$ is $V_{C}$. PMI is defined for the event pair $X = x$, $Y = y$ as follows:\n",
    "$$ pmi(x, y) = \\log_{2}p_{X,Y} (x, y)/p_{X}(x)p_{Y}(y) $$\n",
    "where $p_{X}(x)$ and $p_{Y}(y)$ are the probability mass functions for $X$ and $Y$ , and $p_{X,Y} (x, y)$ is the joint distribution. "
   ]
  },
  {
   "cell_type": "markdown",
   "id": "f84adb5b",
   "metadata": {},
   "source": [
    "We will compute PMIs by using the counts $#(x, y)$ that we computed above. First, we define the total\n",
    "count N:\n",
    "\n",
    "$$ N = \\sum_{x}\\sum_{y}#(x, y) $$\n",
    "\n",
    "Then, we estimate the joint probabilities as follows:\n",
    "\n",
    "$$ p_{X,Y} (x, y) = #(x, y)/N $$\n",
    "\n",
    "$$p_{X}(x) = \\sum_{y} #(x, y)/N $$\n",
    "$$ p_{Y}(y) = \\sum_{x} #(x, y)/N $$\n"
   ]
  },
  {
   "cell_type": "markdown",
   "id": "f63284a0",
   "metadata": {},
   "source": [
    "Plugging this into our formula for PMI gives:\n",
    "$$ pmi(x,y) = \\log_{2}\\frac{#(x,y) N}{sum_{x'}#(x',y)sum_{y'}#(x,y')} $$\n",
    "We implement it here:"
   ]
  },
  {
   "cell_type": "code",
   "execution_count": null,
   "id": "41738496",
   "metadata": {},
   "outputs": [],
   "source": [
    "N = 0\n",
    "#compute N as above\n",
    "for x in tqdm(V):\n",
    "    for y in V_c:\n",
    "        try:\n",
    "            N += pairs_3[(x, y)]\n",
    "        except KeyError:\n",
    "            N += 0"
   ]
  },
  {
   "cell_type": "code",
   "execution_count": 31,
   "id": "c094eb2e",
   "metadata": {},
   "outputs": [],
   "source": [
    "#compute mass probability for x\n",
    "def prob_x(voc):\n",
    "    val = 0\n",
    "    for con in V_c:\n",
    "        try:\n",
    "            val += pairs_3[(voc, con)]\n",
    "        except KeyError:\n",
    "            val += 0\n",
    "    return val"
   ]
  },
  {
   "cell_type": "code",
   "execution_count": 32,
   "id": "2ec413a3",
   "metadata": {},
   "outputs": [],
   "source": [
    "#compute mass probability for y\n",
    "def prob_y(con):\n",
    "    val = 0\n",
    "    for voc in counts_3:\n",
    "        try:\n",
    "            val += pairs_3[(voc, con)]\n",
    "        except KeyError:\n",
    "            val += 0\n",
    "    return val"
   ]
  },
  {
   "cell_type": "code",
   "execution_count": 33,
   "id": "f28adf84",
   "metadata": {},
   "outputs": [
    {
     "name": "stderr",
     "output_type": "stream",
     "text": [
      "100%|██████████████████████████████████████| 5000/5000 [00:23<00:00, 208.65it/s]\n"
     ]
    }
   ],
   "source": [
    "probs_y = {}\n",
    "for con in tqdm(V_c):\n",
    "    probs_y[con] = prob_y(con)"
   ]
  },
  {
   "cell_type": "code",
   "execution_count": 34,
   "id": "60be77ea",
   "metadata": {},
   "outputs": [
    {
     "name": "stderr",
     "output_type": "stream",
     "text": [
      "100%|████████████████████████████████████| 15228/15228 [00:23<00:00, 635.49it/s]\n"
     ]
    }
   ],
   "source": [
    "probs_x = {}\n",
    "for voc in tqdm(counts_3):\n",
    "    probs_x[voc] = prob_x(voc)"
   ]
  },
  {
   "cell_type": "code",
   "execution_count": 35,
   "id": "5f269e2b",
   "metadata": {},
   "outputs": [],
   "source": [
    "def pmi_3(voc, con):\n",
    "    if probs_x[voc] != 0 and probs_y[con] != 0:\n",
    "        val = np.log2((pairs_3[(voc, con)]*N)/(probs_x[voc]*probs_y[con]))\n",
    "    else:\n",
    "        val = 0\n",
    "    return val"
   ]
  },
  {
   "cell_type": "code",
   "execution_count": 36,
   "id": "2f13811d",
   "metadata": {},
   "outputs": [],
   "source": [
    "pmi_coffee = {}\n",
    "for con in V_c:\n",
    "    try:\n",
    "        pmi_coffee[con] = pmi_3('coffee', con)\n",
    "    except KeyError:\n",
    "        pmi_coffee[con] = 0"
   ]
  },
  {
   "cell_type": "code",
   "execution_count": 37,
   "id": "baab1e34",
   "metadata": {},
   "outputs": [
    {
     "name": "stdout",
     "output_type": "stream",
     "text": [
      "{'tea': 8.16600126243293, 'drinking': 7.58797865873193, 'shop': 7.411693771493207, 'costa': 7.350256393786161, 'shops': 7.260751873418467, 'sugar': 6.533949521544205, 'coffee': 6.501977131805925, 'mix': 6.131195903101976, 'seattle': 5.950816325067398, 'houses': 5.868161497268183}\n"
     ]
    }
   ],
   "source": [
    "print({ x : pmi_coffee[x] for x in nlargest(10, pmi_coffee, key = pmi_coffee.get) })"
   ]
  },
  {
   "cell_type": "code",
   "execution_count": 40,
   "id": "d6d57f29",
   "metadata": {},
   "outputs": [
    {
     "name": "stdout",
     "output_type": "stream",
     "text": [
      "{'he': -2.26033826495274, 'be': -2.1509730526875237, 'had': -1.9875291676196303, 'this': -1.979549817934235, 'not': -1.9115928402014317, 'its': -1.839457915441101, 'after': -1.598505205571959, 'more': -1.4785257922880328, 'when': -1.4043486976803334, 'page': -1.2805627423998573}\n"
     ]
    }
   ],
   "source": [
    "print({ x : pmi_coffee[x] for x in nsmallest(10, pmi_coffee, key = pmi_coffee.get) })"
   ]
  },
  {
   "cell_type": "markdown",
   "id": "fa8dad7b",
   "metadata": {},
   "source": [
    "3.2"
   ]
  },
  {
   "cell_type": "code",
   "execution_count": 39,
   "id": "6ad602d4",
   "metadata": {},
   "outputs": [
    {
     "name": "stderr",
     "output_type": "stream",
     "text": [
      "100%|████████████████████████████████████| 15228/15228 [00:33<00:00, 451.13it/s]\n"
     ]
    }
   ],
   "source": [
    "pmi_3_vectors = {}\n",
    "for voc in tqdm(counts_3):\n",
    "    pmi_3_vectors[voc] = []\n",
    "    for con in V_c:\n",
    "        try: \n",
    "            pairs_3[(voc,con)] *= 1\n",
    "            pmi_3_vectors[voc].append(pmi_3(voc,con))\n",
    "        except KeyError:\n",
    "            pmi_3_vectors[voc].append(0)"
   ]
  },
  {
   "cell_type": "code",
   "execution_count": 41,
   "id": "7750185c",
   "metadata": {},
   "outputs": [],
   "source": [
    "def pmi_sim_3(voc1, voc2):\n",
    "    if (norm(pmi_3_vectors[voc1]) != 0) and (norm(pmi_3_vectors[voc2]) != 0):\n",
    "        cosine = np.dot(pmi_3_vectors[voc1], pmi_3_vectors[voc2])/(norm(pmi_3_vectors[voc1])*norm(pmi_3_vectors[voc2]))\n",
    "    else:\n",
    "        cosine = 0\n",
    "    return cosine"
   ]
  },
  {
   "cell_type": "code",
   "execution_count": 42,
   "id": "05cfef3b",
   "metadata": {},
   "outputs": [
    {
     "data": {
      "text/plain": [
       "SignificanceResult(statistic=0.46563240836038006, pvalue=2.5050388889148127e-161)"
      ]
     },
     "execution_count": 42,
     "metadata": {},
     "output_type": "execute_result"
    }
   ],
   "source": [
    "EvalWS((pd.read_csv('men.txt', sep=\"\\t\", header=None, skiprows = [0])), counts_3, pmi_sim_3, 'PMI') "
   ]
  },
  {
   "cell_type": "code",
   "execution_count": 43,
   "id": "8f414943",
   "metadata": {},
   "outputs": [
    {
     "data": {
      "text/plain": [
       "SignificanceResult(statistic=0.18643183126956037, pvalue=2.8976468276084516e-09)"
      ]
     },
     "execution_count": 43,
     "metadata": {},
     "output_type": "execute_result"
    }
   ],
   "source": [
    "EvalWS((pd.read_csv('simlex-999.txt', sep=\"\\t\", header=None, skiprows = [0])), counts_3, pmi_sim_3, 'PMI')"
   ]
  },
  {
   "cell_type": "markdown",
   "id": "f6b551d9",
   "metadata": {},
   "source": [
    "# Part 4"
   ]
  },
  {
   "cell_type": "markdown",
   "id": "0d3238c3",
   "metadata": {},
   "source": [
    "Now we repeat the same experiments with a different context vocabulary and different window sizes."
   ]
  },
  {
   "cell_type": "markdown",
   "id": "63f44eb9",
   "metadata": {},
   "source": [
    "w = 1"
   ]
  },
  {
   "cell_type": "code",
   "execution_count": 11,
   "id": "619f5406",
   "metadata": {},
   "outputs": [],
   "source": [
    "def counting_15(w):\n",
    "    pairs = {}\n",
    "    for line in corpus:\n",
    "        a = line.split()\n",
    "        for i in range(len(a)):\n",
    "            window = []\n",
    "            if (a[i]) in V and i >= w and i < (len(a) - w):\n",
    "                window = a[i - w: i + w + 1]\n",
    "                window.remove(window[w])\n",
    "            elif (a[i]) in V and i < w:\n",
    "                window = a[0: i + w + 1]\n",
    "                window.remove(window[i])\n",
    "            elif (a[i]) in V and i >= (len(a) - w):\n",
    "                window = a[i - w: len(a)]\n",
    "                window.remove(window[w])\n",
    "            for con in window:\n",
    "                if (con) in V:\n",
    "                   try:\n",
    "                       pairs[(a[i], con)] += 1\n",
    "                   except KeyError:\n",
    "                       pairs[(a[i], con)] = 1\n",
    "    return pairs\n",
    "                \n"
   ]
  },
  {
   "cell_type": "code",
   "execution_count": 12,
   "id": "12053c03",
   "metadata": {},
   "outputs": [],
   "source": [
    "pairs_1_15 = counting_15(1)"
   ]
  },
  {
   "cell_type": "code",
   "execution_count": 136,
   "id": "a60eb50b",
   "metadata": {},
   "outputs": [
    {
     "name": "stderr",
     "output_type": "stream",
     "text": [
      "100%|████████████████████████████████████| 15228/15228 [01:22<00:00, 184.86it/s]\n"
     ]
    }
   ],
   "source": [
    "vectors_1_15 = {}\n",
    "for voc in tqdm(V):\n",
    "    vectors_1_15[voc] = []\n",
    "    for con in V:\n",
    "        try:\n",
    "            vectors_1_15[voc].append(pairs_1_15[(voc, con)])\n",
    "        except KeyError:\n",
    "              vectors_1_15[voc].append(0)"
   ]
  },
  {
   "cell_type": "code",
   "execution_count": 13,
   "id": "eb973062",
   "metadata": {},
   "outputs": [
    {
     "name": "stderr",
     "output_type": "stream",
     "text": [
      "100%|████████████████████████████████████| 15228/15228 [01:12<00:00, 209.48it/s]\n"
     ]
    }
   ],
   "source": [
    "counts_1_15 = {}\n",
    "for voc in tqdm(V):\n",
    "    counts_1_15[voc] = {}\n",
    "    for con in V:\n",
    "        try:\n",
    "            counts_1_15[voc][con] = { con : pairs_1_15[(voc,con)]}\n",
    "        except KeyError:\n",
    "            pass"
   ]
  },
  {
   "cell_type": "code",
   "execution_count": 48,
   "id": "83933c2c",
   "metadata": {},
   "outputs": [],
   "source": [
    "def cos_sim_1_15(voc1, voc2):\n",
    "    if (norm(vectors_1_15[voc1]) != 0) and (norm(vectors_1_15[voc2]) != 0):\n",
    "        cosine = np.dot(vectors_1_15[voc1], vectors_1_15[voc2])/(norm(vectors_1_15[voc1])*norm(vectors_1_15[voc2]))\n",
    "    else:\n",
    "        cosine = 0\n",
    "    return cosine"
   ]
  },
  {
   "cell_type": "markdown",
   "id": "d4e31b21",
   "metadata": {},
   "source": [
    "------------------------Results------------------------------"
   ]
  },
  {
   "cell_type": "code",
   "execution_count": 49,
   "id": "12060c97",
   "metadata": {},
   "outputs": [
    {
     "data": {
      "text/plain": [
       "SignificanceResult(statistic=0.2063976325574214, pvalue=3.196256617167331e-30)"
      ]
     },
     "execution_count": 49,
     "metadata": {},
     "output_type": "execute_result"
    }
   ],
   "source": [
    "EvalWS((pd.read_csv('men.txt', sep=\"\\t\", header=None, skiprows = [0])), counts_1_15, cos_sim_1_15, 'count')"
   ]
  },
  {
   "cell_type": "code",
   "execution_count": 50,
   "id": "31dce503",
   "metadata": {},
   "outputs": [
    {
     "data": {
      "text/plain": [
       "SignificanceResult(statistic=0.07001369489995889, pvalue=0.026906915488976564)"
      ]
     },
     "execution_count": 50,
     "metadata": {},
     "output_type": "execute_result"
    }
   ],
   "source": [
    "EvalWS((pd.read_csv('simlex-999.txt', sep=\"\\t\", header=None, skiprows = [0])), counts_1_15, cos_sim_1_15, 'count')"
   ]
  },
  {
   "cell_type": "markdown",
   "id": "feb1aab4",
   "metadata": {},
   "source": [
    "---- w = 3"
   ]
  },
  {
   "cell_type": "code",
   "execution_count": 35,
   "id": "e5765db9",
   "metadata": {},
   "outputs": [],
   "source": [
    "pairs_3_15 = counting_15(3)"
   ]
  },
  {
   "cell_type": "code",
   "execution_count": 150,
   "id": "3dd59fe0",
   "metadata": {},
   "outputs": [
    {
     "name": "stderr",
     "output_type": "stream",
     "text": [
      "100%|████████████████████████████████████| 15228/15228 [01:42<00:00, 148.59it/s]\n"
     ]
    }
   ],
   "source": [
    "vectors_3_15 = {}\n",
    "for voc in tqdm(V):\n",
    "    vectors_3_15[voc] = []\n",
    "    for con in V:\n",
    "        try:\n",
    "            vectors_3_15[voc].append(pairs_3_15[(voc, con)])\n",
    "        except KeyError:\n",
    "              vectors_3_15[voc].append(0)"
   ]
  },
  {
   "cell_type": "code",
   "execution_count": 36,
   "id": "5adc9d5c",
   "metadata": {},
   "outputs": [
    {
     "name": "stderr",
     "output_type": "stream",
     "text": [
      "100%|████████████████████████████████████| 15228/15228 [01:26<00:00, 175.93it/s]\n"
     ]
    }
   ],
   "source": [
    "counts_3_15 = {}\n",
    "for voc in tqdm(V):\n",
    "    counts_3_15[voc] = {}\n",
    "    for con in V:\n",
    "        try:\n",
    "            counts_3_15[voc][con] = { con : pairs_3_15[(voc,con)]}\n",
    "        except KeyError:\n",
    "            pass"
   ]
  },
  {
   "cell_type": "code",
   "execution_count": 151,
   "id": "6d92a566",
   "metadata": {},
   "outputs": [],
   "source": [
    "def cos_sim_3_15(voc1, voc2):\n",
    "    if (norm(vectors_3_15[voc1]) != 0) and (norm(vectors_3_15[voc2]) != 0):\n",
    "        cosine = np.dot(vectors_3_15[voc1], vectors_3_15[voc2])/(norm(vectors_3_15[voc1])*norm(vectors_3_15[voc2]))\n",
    "    else:\n",
    "        cosine = 0\n",
    "    return cosine"
   ]
  },
  {
   "cell_type": "markdown",
   "id": "47ed31c1",
   "metadata": {},
   "source": [
    "-----------------------Results---------------------------------"
   ]
  },
  {
   "cell_type": "code",
   "execution_count": 152,
   "id": "b5276af9",
   "metadata": {},
   "outputs": [
    {
     "data": {
      "text/plain": [
       "SignificanceResult(statistic=0.2207784201051131, pvalue=1.928303905976344e-34)"
      ]
     },
     "execution_count": 152,
     "metadata": {},
     "output_type": "execute_result"
    }
   ],
   "source": [
    "EvalWS((pd.read_csv('men.txt', sep=\"\\t\", header=None, skiprows = [0])), counts_3_15, cos_sim_3_15, 'count')"
   ]
  },
  {
   "cell_type": "code",
   "execution_count": 153,
   "id": "75b8f37e",
   "metadata": {},
   "outputs": [
    {
     "data": {
      "text/plain": [
       "SignificanceResult(statistic=0.05714229789355398, pvalue=0.07102643005951532)"
      ]
     },
     "execution_count": 153,
     "metadata": {},
     "output_type": "execute_result"
    }
   ],
   "source": [
    "EvalWS((pd.read_csv('simlex-999.txt', sep=\"\\t\", header=None, skiprows = [0])), counts_3_15, cos_sim_3_15, 'count')"
   ]
  },
  {
   "cell_type": "markdown",
   "id": "f3f6bfa3",
   "metadata": {},
   "source": [
    "w = 6"
   ]
  },
  {
   "cell_type": "code",
   "execution_count": 32,
   "id": "a9cec67e",
   "metadata": {},
   "outputs": [],
   "source": [
    "pairs_6_15 = counting_15(6)"
   ]
  },
  {
   "cell_type": "code",
   "execution_count": 58,
   "id": "a6d35367",
   "metadata": {},
   "outputs": [
    {
     "name": "stderr",
     "output_type": "stream",
     "text": [
      "100%|████████████████████████████████████| 15228/15228 [02:17<00:00, 110.77it/s]\n"
     ]
    }
   ],
   "source": [
    "vectors_6_15 = {}\n",
    "for voc in tqdm(V):\n",
    "    vectors_6_15[voc] = []\n",
    "    for con in V:\n",
    "        try:\n",
    "            vectors_6_15[voc].append(pairs_6_15[(voc, con)])\n",
    "        except KeyError:\n",
    "              vectors_6_15[voc].append(0)"
   ]
  },
  {
   "cell_type": "code",
   "execution_count": 33,
   "id": "48235855",
   "metadata": {},
   "outputs": [
    {
     "name": "stderr",
     "output_type": "stream",
     "text": [
      "100%|████████████████████████████████████| 15228/15228 [01:49<00:00, 138.52it/s]\n"
     ]
    }
   ],
   "source": [
    "counts_6_15 = {}\n",
    "for voc in tqdm(V):\n",
    "    counts_6_15[voc] = {}\n",
    "    for con in V:\n",
    "        try:\n",
    "            counts_6_15[voc][con] = { con : pairs_6_15[(voc,con)]}\n",
    "        except KeyError:\n",
    "            pass"
   ]
  },
  {
   "cell_type": "code",
   "execution_count": 60,
   "id": "28649021",
   "metadata": {},
   "outputs": [],
   "source": [
    "def cos_sim_6_15(voc1, voc2):\n",
    "    if (norm(vectors_6_15[voc1]) != 0) and (norm(vectors_6_15[voc2]) != 0):\n",
    "        cosine = np.dot(vectors_6_15[voc1], vectors_6_15[voc2])/(norm(vectors_6_15[voc1])*norm(vectors_6_15[voc2]))\n",
    "    else:\n",
    "        cosine = 0\n",
    "    return cosine"
   ]
  },
  {
   "cell_type": "markdown",
   "id": "9ba50519",
   "metadata": {},
   "source": [
    "-------------- Results -----------------"
   ]
  },
  {
   "cell_type": "code",
   "execution_count": 61,
   "id": "11f679b2",
   "metadata": {},
   "outputs": [
    {
     "data": {
      "text/plain": [
       "SignificanceResult(statistic=0.23691121807651294, pvalue=1.5204903371938184e-39)"
      ]
     },
     "execution_count": 61,
     "metadata": {},
     "output_type": "execute_result"
    }
   ],
   "source": [
    "EvalWS((pd.read_csv('men.txt', sep=\"\\t\", header=None, skiprows = [0])), counts_6_15, cos_sim_6_15, 'count')"
   ]
  },
  {
   "cell_type": "code",
   "execution_count": 62,
   "id": "7249f10a",
   "metadata": {},
   "outputs": [
    {
     "data": {
      "text/plain": [
       "SignificanceResult(statistic=0.04065367101089449, pvalue=0.1991905732194143)"
      ]
     },
     "execution_count": 62,
     "metadata": {},
     "output_type": "execute_result"
    }
   ],
   "source": [
    "EvalWS((pd.read_csv('simlex-999.txt', sep=\"\\t\", header=None, skiprows = [0])), counts_6_15, cos_sim_6_15, 'count')"
   ]
  },
  {
   "cell_type": "markdown",
   "id": "c3db33a1",
   "metadata": {},
   "source": [
    "* IDF, 15k "
   ]
  },
  {
   "cell_type": "markdown",
   "id": "84fab040",
   "metadata": {},
   "source": [
    "w = 1"
   ]
  },
  {
   "cell_type": "code",
   "execution_count": 129,
   "id": "f54ac089",
   "metadata": {},
   "outputs": [
    {
     "name": "stderr",
     "output_type": "stream",
     "text": [
      "100%|█████████████████████████████████████| 15228/15228 [20:06<00:00, 12.62it/s]\n"
     ]
    }
   ],
   "source": [
    "sen_freqs_15 = {}\n",
    "for con in tqdm(V):\n",
    "    sen_freqs_15[con] = sen_freq(con)"
   ]
  },
  {
   "cell_type": "code",
   "execution_count": 130,
   "id": "b0424fbc",
   "metadata": {},
   "outputs": [],
   "source": [
    "def IDF_1_15(voc, con):\n",
    "    if sen_freqs_15[con] != 0:\n",
    "        val = (pairs_1_15[(voc,con)])*(lc/(sen_freqs_15[con]))\n",
    "    else:\n",
    "        val = 0\n",
    "    return val"
   ]
  },
  {
   "cell_type": "code",
   "execution_count": 138,
   "id": "8ff55c70",
   "metadata": {},
   "outputs": [
    {
     "name": "stderr",
     "output_type": "stream",
     "text": [
      "100%|████████████████████████████████████| 15228/15228 [01:25<00:00, 178.29it/s]\n"
     ]
    }
   ],
   "source": [
    "idf_1_15_vectors = {}\n",
    "for voc in tqdm(counts_1_15):\n",
    "    idf_1_15_vectors[voc] = []\n",
    "    for con in V:\n",
    "        try: \n",
    "            pairs_1_15[(voc,con)] *= 1\n",
    "            idf_1_15_vectors[voc].append(IDF_1_15(voc,con))\n",
    "        except KeyError:\n",
    "            idf_1_15_vectors[voc].append(0)"
   ]
  },
  {
   "cell_type": "code",
   "execution_count": 139,
   "id": "e078d142",
   "metadata": {},
   "outputs": [],
   "source": [
    "def idf_sim_1_15(voc1, voc2):\n",
    "    if (norm(idf_1_15_vectors[voc1]) != 0) and (norm(idf_1_15_vectors[voc2]) != 0):\n",
    "        cosine = np.dot(idf_1_15_vectors[voc1], idf_1_15_vectors[voc2])/(norm(idf_1_15_vectors[voc1])*norm(idf_1_15_vectors[voc2]))\n",
    "    else:\n",
    "        cosine = 0\n",
    "    return cosine"
   ]
  },
  {
   "cell_type": "markdown",
   "id": "d5d1dbe4",
   "metadata": {},
   "source": [
    "-------------- Results -------------------------"
   ]
  },
  {
   "cell_type": "code",
   "execution_count": 140,
   "id": "0d567c7b",
   "metadata": {},
   "outputs": [
    {
     "data": {
      "text/plain": [
       "SignificanceResult(statistic=0.35374791217129503, pvalue=3.814930609372954e-89)"
      ]
     },
     "execution_count": 140,
     "metadata": {},
     "output_type": "execute_result"
    }
   ],
   "source": [
    "EvalWS((pd.read_csv('men.txt', sep=\"\\t\", header=None, skiprows = [0])), counts_1_15, idf_sim_1_15, 'IDF') "
   ]
  },
  {
   "cell_type": "code",
   "execution_count": 141,
   "id": "37ec39d0",
   "metadata": {},
   "outputs": [
    {
     "data": {
      "text/plain": [
       "SignificanceResult(statistic=0.17607311795459427, pvalue=2.119052859623529e-08)"
      ]
     },
     "execution_count": 141,
     "metadata": {},
     "output_type": "execute_result"
    }
   ],
   "source": [
    "EvalWS((pd.read_csv('simlex-999.txt', sep=\"\\t\", header=None, skiprows = [0])), counts_1_15, idf_sim_1_15, 'IDF') "
   ]
  },
  {
   "cell_type": "markdown",
   "id": "d3e9f4eb",
   "metadata": {},
   "source": [
    "w = 3"
   ]
  },
  {
   "cell_type": "code",
   "execution_count": 142,
   "id": "355fd067",
   "metadata": {},
   "outputs": [],
   "source": [
    "def IDF_3_15(voc, con):\n",
    "    val = (pairs_3_15[(voc,con)])*(lc/(sen_freqs_15[con]))\n",
    "    return val"
   ]
  },
  {
   "cell_type": "code",
   "execution_count": 155,
   "id": "42b44d4a",
   "metadata": {},
   "outputs": [
    {
     "name": "stderr",
     "output_type": "stream",
     "text": [
      "100%|████████████████████████████████████| 15228/15228 [01:40<00:00, 152.16it/s]\n"
     ]
    }
   ],
   "source": [
    "idf_3_15_vectors = {}\n",
    "for voc in tqdm(counts_3_15):\n",
    "    idf_3_15_vectors[voc] = []\n",
    "    for con in V:\n",
    "        try: \n",
    "            pairs_3_15[(voc,con)] *= 1\n",
    "            idf_3_15_vectors[voc].append(IDF_3_15(voc,con))\n",
    "        except KeyError:\n",
    "            idf_3_15_vectors[voc].append(0)"
   ]
  },
  {
   "cell_type": "code",
   "execution_count": 156,
   "id": "20708e74",
   "metadata": {},
   "outputs": [],
   "source": [
    "def idf_sim_3_15(voc1, voc2):\n",
    "    if (norm(idf_3_15_vectors[voc1]) != 0) and (norm(idf_3_15_vectors[voc2]) != 0):\n",
    "        cosine = np.dot(idf_3_15_vectors[voc1], idf_3_15_vectors[voc2])/(norm(idf_3_15_vectors[voc1])*norm(idf_3_15_vectors[voc2]))\n",
    "    else:\n",
    "        cosine = 0\n",
    "    return cosine"
   ]
  },
  {
   "cell_type": "markdown",
   "id": "461f5095",
   "metadata": {},
   "source": [
    "--------------------- Results ---------------------"
   ]
  },
  {
   "cell_type": "code",
   "execution_count": 157,
   "id": "ded6440e",
   "metadata": {},
   "outputs": [
    {
     "data": {
      "text/plain": [
       "SignificanceResult(statistic=0.45888326548120223, pvalue=3.7255880980687796e-156)"
      ]
     },
     "execution_count": 157,
     "metadata": {},
     "output_type": "execute_result"
    }
   ],
   "source": [
    "EvalWS((pd.read_csv('men.txt', sep=\"\\t\", header=None, skiprows = [0])), counts_3_15, idf_sim_3_15, 'IDF') "
   ]
  },
  {
   "cell_type": "code",
   "execution_count": 158,
   "id": "73ddb935",
   "metadata": {},
   "outputs": [
    {
     "data": {
      "text/plain": [
       "SignificanceResult(statistic=0.1489147540265972, pvalue=2.276020577804637e-06)"
      ]
     },
     "execution_count": 158,
     "metadata": {},
     "output_type": "execute_result"
    }
   ],
   "source": [
    "EvalWS((pd.read_csv('simlex-999.txt', sep=\"\\t\", header=None, skiprows = [0])), counts_3_15, idf_sim_3_15, 'IDF') "
   ]
  },
  {
   "cell_type": "markdown",
   "id": "0935aa2a",
   "metadata": {},
   "source": [
    "w = 6"
   ]
  },
  {
   "cell_type": "code",
   "execution_count": 159,
   "id": "bc0234fe",
   "metadata": {},
   "outputs": [],
   "source": [
    "def IDF_6_15(voc, con):\n",
    "    if sen_freqs_15[con] != 0:\n",
    "        val = (pairs_6_15[(voc,con)])*(lc/(sen_freqs_15[con]))\n",
    "    else:\n",
    "        val = 0\n",
    "    return val"
   ]
  },
  {
   "cell_type": "code",
   "execution_count": 164,
   "id": "054ddaf7",
   "metadata": {},
   "outputs": [
    {
     "name": "stderr",
     "output_type": "stream",
     "text": [
      "100%|████████████████████████████████████| 15228/15228 [02:01<00:00, 125.19it/s]\n"
     ]
    }
   ],
   "source": [
    "idf_6_15_vectors = {}\n",
    "for voc in tqdm(counts_6_15):\n",
    "    idf_6_15_vectors[voc] = []\n",
    "    for con in V:\n",
    "        try: \n",
    "            pairs_6_15[(voc,con)] *= 1\n",
    "            idf_6_15_vectors[voc].append(IDF_6_15(voc,con))\n",
    "        except KeyError:\n",
    "            idf_6_15_vectors[voc].append(0)"
   ]
  },
  {
   "cell_type": "code",
   "execution_count": 165,
   "id": "9225babb",
   "metadata": {},
   "outputs": [],
   "source": [
    "def idf_sim_6_15(voc1, voc2):\n",
    "    if (norm(idf_6_15_vectors[voc1]) != 0) and (norm(idf_6_15_vectors[voc2]) != 0):\n",
    "        cosine = np.dot(idf_6_15_vectors[voc1], idf_6_15_vectors[voc2])/(norm(idf_6_15_vectors[voc1])*norm(idf_6_15_vectors[voc2]))\n",
    "    else:\n",
    "        cosine = 0\n",
    "    return cosine"
   ]
  },
  {
   "cell_type": "markdown",
   "id": "dd5db4e8",
   "metadata": {},
   "source": [
    "--------------------- Results ---------------------"
   ]
  },
  {
   "cell_type": "code",
   "execution_count": 166,
   "id": "31b57aa3",
   "metadata": {},
   "outputs": [
    {
     "data": {
      "text/plain": [
       "SignificanceResult(statistic=0.5056665321215367, pvalue=1.6243213643410148e-194)"
      ]
     },
     "execution_count": 166,
     "metadata": {},
     "output_type": "execute_result"
    }
   ],
   "source": [
    "EvalWS((pd.read_csv('men.txt', sep=\"\\t\", header=None, skiprows = [0])), counts_6_15, idf_sim_6_15, 'IDF') "
   ]
  },
  {
   "cell_type": "code",
   "execution_count": 167,
   "id": "de2bc76b",
   "metadata": {},
   "outputs": [
    {
     "data": {
      "text/plain": [
       "SignificanceResult(statistic=0.11788601900660632, pvalue=0.00018817645331045238)"
      ]
     },
     "execution_count": 167,
     "metadata": {},
     "output_type": "execute_result"
    }
   ],
   "source": [
    "EvalWS((pd.read_csv('simlex-999.txt', sep=\"\\t\", header=None, skiprows = [0])), counts_6_15, idf_sim_6_15, 'IDF') "
   ]
  },
  {
   "cell_type": "markdown",
   "id": "49363d42",
   "metadata": {},
   "source": [
    "* PMI, 15k"
   ]
  },
  {
   "cell_type": "markdown",
   "id": "8478e5de",
   "metadata": {},
   "source": [
    "w = 1 "
   ]
  },
  {
   "cell_type": "code",
   "execution_count": 15,
   "id": "85732cb3",
   "metadata": {},
   "outputs": [
    {
     "name": "stderr",
     "output_type": "stream",
     "text": [
      "100%|████████████████████████████████████| 15228/15228 [01:15<00:00, 202.31it/s]\n"
     ]
    }
   ],
   "source": [
    "N_1_15 = 0\n",
    "for x in tqdm(counts_1_15):\n",
    "    for y in V:\n",
    "        try:\n",
    "            N_1_15 += pairs_1_15[(x, y)]\n",
    "        except KeyError:\n",
    "            N_1_15 += 0"
   ]
  },
  {
   "cell_type": "code",
   "execution_count": 16,
   "id": "d5b7b2ed",
   "metadata": {},
   "outputs": [],
   "source": [
    "def prob_x_1_15(voc):\n",
    "    val = 0\n",
    "    for con in V:\n",
    "        try:\n",
    "            val += pairs_1_15[(voc, con)]\n",
    "        except KeyError:\n",
    "            val += 0\n",
    "    return val"
   ]
  },
  {
   "cell_type": "code",
   "execution_count": 17,
   "id": "bd19558b",
   "metadata": {},
   "outputs": [],
   "source": [
    "def prob_y_1_15(con):\n",
    "    val = 0\n",
    "    for voc in counts_1_15:\n",
    "        try:\n",
    "            val += pairs_1_15[(voc, con)]\n",
    "        except KeyError:\n",
    "            val += 0\n",
    "    return val"
   ]
  },
  {
   "cell_type": "code",
   "execution_count": 18,
   "id": "4504d767",
   "metadata": {},
   "outputs": [
    {
     "name": "stderr",
     "output_type": "stream",
     "text": [
      "100%|████████████████████████████████████| 15228/15228 [01:02<00:00, 242.87it/s]\n"
     ]
    }
   ],
   "source": [
    "probs_y_1_15 = {}\n",
    "for con in tqdm(V):\n",
    "    probs_y_1_15[con] = prob_y_1_15(con)"
   ]
  },
  {
   "cell_type": "code",
   "execution_count": 20,
   "id": "5344ea73",
   "metadata": {},
   "outputs": [
    {
     "name": "stderr",
     "output_type": "stream",
     "text": [
      "100%|████████████████████████████████████| 15228/15228 [01:01<00:00, 247.14it/s]\n"
     ]
    }
   ],
   "source": [
    "probs_x_1_15 = {}\n",
    "for voc in tqdm(V):\n",
    "    probs_x_1_15[voc] = prob_x_1_15(voc)"
   ]
  },
  {
   "cell_type": "code",
   "execution_count": 23,
   "id": "50f18a94",
   "metadata": {},
   "outputs": [],
   "source": [
    "def pmi_1_15(voc, con):\n",
    "    if probs_x_1_15[voc] != 0 and probs_y_1_15[con] != 0:\n",
    "        val = np.log2((pairs_1_15[(voc, con)]*N_1_15)/(probs_x_1_15[voc]*probs_y_1_15[con]))\n",
    "    else:\n",
    "        val = 0\n",
    "    return val"
   ]
  },
  {
   "cell_type": "code",
   "execution_count": 24,
   "id": "c7354579",
   "metadata": {},
   "outputs": [
    {
     "name": "stderr",
     "output_type": "stream",
     "text": [
      "100%|████████████████████████████████████| 15228/15228 [01:22<00:00, 185.14it/s]\n"
     ]
    }
   ],
   "source": [
    "pmi_1_15_vectors = {}\n",
    "for voc in tqdm(counts_1_15):\n",
    "    pmi_1_15_vectors[voc] = []\n",
    "    for con in V:\n",
    "        try: \n",
    "            pairs_1_15[(voc,con)] *= 1\n",
    "            pmi_1_15_vectors[voc].append(pmi_1_15(voc,con))\n",
    "        except KeyError:\n",
    "            pmi_1_15_vectors[voc].append(0)"
   ]
  },
  {
   "cell_type": "code",
   "execution_count": 26,
   "id": "311fe186",
   "metadata": {},
   "outputs": [],
   "source": [
    "def pmi_sim_1_15(voc1, voc2):\n",
    "    try:\n",
    "        if (norm(pmi_1_15_vectors[voc1]) != 0) and (norm(pmi_1_15_vectors[voc2]) != 0):\n",
    "            cosine = np.dot(pmi_1_15_vectors[voc1], pmi_1_15_vectors[voc2])/(norm(pmi_1_15_vectors[voc1])*norm(pmi_1_15_vectors[voc2]))\n",
    "        else:\n",
    "            cosine = 0\n",
    "    except KeyError:\n",
    "        cosine = 0\n",
    "    return cosine"
   ]
  },
  {
   "cell_type": "markdown",
   "id": "a5c59b83",
   "metadata": {},
   "source": [
    "---------- Results -----------------"
   ]
  },
  {
   "cell_type": "code",
   "execution_count": 29,
   "id": "771dbe04",
   "metadata": {},
   "outputs": [
    {
     "data": {
      "text/plain": [
       "SignificanceResult(statistic=0.47023686998764175, pvalue=6.349687433050748e-165)"
      ]
     },
     "execution_count": 29,
     "metadata": {},
     "output_type": "execute_result"
    }
   ],
   "source": [
    "EvalWS((pd.read_csv('men.txt', sep=\"\\t\", header=None, skiprows = [0])), counts_1_15, pmi_sim_1_15, 'PMI') "
   ]
  },
  {
   "cell_type": "code",
   "execution_count": 30,
   "id": "411cf615",
   "metadata": {},
   "outputs": [
    {
     "data": {
      "text/plain": [
       "SignificanceResult(statistic=0.2680651460928735, pvalue=6.673823511814832e-18)"
      ]
     },
     "execution_count": 30,
     "metadata": {},
     "output_type": "execute_result"
    }
   ],
   "source": [
    "EvalWS((pd.read_csv('simlex-999.txt', sep=\"\\t\", header=None, skiprows = [0])), counts_1_15, pmi_sim_1_15, 'PMI') "
   ]
  },
  {
   "cell_type": "markdown",
   "id": "693d5cb4",
   "metadata": {},
   "source": [
    "w = 3"
   ]
  },
  {
   "cell_type": "code",
   "execution_count": 37,
   "id": "b717e82d",
   "metadata": {},
   "outputs": [
    {
     "name": "stderr",
     "output_type": "stream",
     "text": [
      "100%|████████████████████████████████████| 15228/15228 [01:27<00:00, 174.82it/s]\n"
     ]
    }
   ],
   "source": [
    "N_3_15 = 0\n",
    "for x in tqdm(counts_3_15):\n",
    "    for y in V:\n",
    "        try:\n",
    "            N_3_15 += pairs_3_15[(x, y)]\n",
    "        except KeyError:\n",
    "            N_3_15 += 0"
   ]
  },
  {
   "cell_type": "code",
   "execution_count": 38,
   "id": "94d43d36",
   "metadata": {},
   "outputs": [],
   "source": [
    "def prob_x_3_15(voc):\n",
    "    val = 0\n",
    "    for con in V:\n",
    "        try:\n",
    "            val += pairs_3_15[(voc, con)]\n",
    "        except KeyError:\n",
    "            val += 0\n",
    "    return val"
   ]
  },
  {
   "cell_type": "code",
   "execution_count": 39,
   "id": "659177b7",
   "metadata": {},
   "outputs": [],
   "source": [
    "def prob_y_3_15(con):\n",
    "    val = 0\n",
    "    for voc in V:\n",
    "        try:\n",
    "            val += pairs_3_15[(voc, con)]\n",
    "        except KeyError:\n",
    "            val += 0\n",
    "    return val"
   ]
  },
  {
   "cell_type": "code",
   "execution_count": 40,
   "id": "a614eb53",
   "metadata": {},
   "outputs": [
    {
     "name": "stderr",
     "output_type": "stream",
     "text": [
      "100%|████████████████████████████████████| 15228/15228 [01:18<00:00, 193.73it/s]\n"
     ]
    }
   ],
   "source": [
    "probs_y_3_15 = {}\n",
    "for con in tqdm(V):\n",
    "    probs_y_3_15[con] = prob_y_3_15(con)"
   ]
  },
  {
   "cell_type": "code",
   "execution_count": 41,
   "id": "237ca36b",
   "metadata": {},
   "outputs": [
    {
     "name": "stderr",
     "output_type": "stream",
     "text": [
      "100%|████████████████████████████████████| 15228/15228 [01:20<00:00, 188.07it/s]\n"
     ]
    }
   ],
   "source": [
    "probs_x_3_15 = {}\n",
    "for voc in tqdm(V):\n",
    "    probs_x_3_15[voc] = prob_x_3_15(voc)"
   ]
  },
  {
   "cell_type": "code",
   "execution_count": 42,
   "id": "964cd6b3",
   "metadata": {},
   "outputs": [],
   "source": [
    "def pmi_3_15(voc, con):\n",
    "    if probs_x_3_15[voc] != 0 and probs_y_3_15[con] != 0:\n",
    "        val = np.log2((pairs_3_15[(voc, con)]*N_3_15)/(probs_x_3_15[voc]*probs_y_3_15[con]))\n",
    "    else:\n",
    "        val = 0\n",
    "    return val"
   ]
  },
  {
   "cell_type": "code",
   "execution_count": 43,
   "id": "b2a93264",
   "metadata": {},
   "outputs": [
    {
     "name": "stderr",
     "output_type": "stream",
     "text": [
      "100%|████████████████████████████████████| 15228/15228 [01:45<00:00, 143.93it/s]\n"
     ]
    }
   ],
   "source": [
    "pmi_3_15_vectors = {}\n",
    "for voc in tqdm(V):\n",
    "    pmi_3_15_vectors[voc] = []\n",
    "    for con in V:\n",
    "        try: \n",
    "            pairs_3_15[(voc,con)] *= 1\n",
    "            pmi_3_15_vectors[voc].append(pmi_3_15(voc,con))\n",
    "        except KeyError:\n",
    "            pmi_3_15_vectors[voc].append(0)"
   ]
  },
  {
   "cell_type": "code",
   "execution_count": 44,
   "id": "01c5a865",
   "metadata": {},
   "outputs": [],
   "source": [
    "def pmi_sim_3_15(voc1, voc2):\n",
    "    if (norm(pmi_3_15_vectors[voc1]) != 0) and (norm(pmi_3_15_vectors[voc2]) != 0):\n",
    "        cosine = np.dot(pmi_3_15_vectors[voc1], pmi_3_15_vectors[voc2])/(norm(pmi_3_15_vectors[voc1])*norm(pmi_3_15_vectors[voc2]))\n",
    "    else:\n",
    "        cosine = 0\n",
    "    return cosine"
   ]
  },
  {
   "cell_type": "code",
   "execution_count": 45,
   "id": "97bdf909",
   "metadata": {},
   "outputs": [
    {
     "data": {
      "text/plain": [
       "SignificanceResult(statistic=0.5193931025800151, pvalue=5.9479248995790086e-207)"
      ]
     },
     "execution_count": 45,
     "metadata": {},
     "output_type": "execute_result"
    }
   ],
   "source": [
    "EvalWS((pd.read_csv('men.txt', sep=\"\\t\", header=None, skiprows = [0])), counts_3_15, pmi_sim_3_15, 'PMI') "
   ]
  },
  {
   "cell_type": "code",
   "execution_count": 46,
   "id": "48ff6537",
   "metadata": {},
   "outputs": [
    {
     "data": {
      "text/plain": [
       "SignificanceResult(statistic=0.2122918467026247, pvalue=1.2108366674818686e-11)"
      ]
     },
     "execution_count": 46,
     "metadata": {},
     "output_type": "execute_result"
    }
   ],
   "source": [
    "EvalWS((pd.read_csv('simlex-999.txt', sep=\"\\t\", header=None, skiprows = [0])), counts_3_15, pmi_sim_3_15, 'PMI') "
   ]
  },
  {
   "cell_type": "markdown",
   "id": "bd7e9425",
   "metadata": {},
   "source": [
    "w = 6"
   ]
  },
  {
   "cell_type": "code",
   "execution_count": 47,
   "id": "a6bb7c65",
   "metadata": {},
   "outputs": [
    {
     "name": "stderr",
     "output_type": "stream",
     "text": [
      "100%|████████████████████████████████████| 15228/15228 [01:39<00:00, 152.66it/s]\n"
     ]
    }
   ],
   "source": [
    "N_6_15 = 0\n",
    "for x in tqdm(counts_6_15):\n",
    "    for y in V:\n",
    "        try:\n",
    "            N_6_15 += pairs_6_15[(x, y)]\n",
    "        except KeyError:\n",
    "            N_6_15 += 0"
   ]
  },
  {
   "cell_type": "code",
   "execution_count": 48,
   "id": "b169553a",
   "metadata": {},
   "outputs": [],
   "source": [
    "def prob_x_6_15(voc):\n",
    "    val = 0\n",
    "    for con in V:\n",
    "        try:\n",
    "            val += pairs_6_15[(voc, con)]\n",
    "        except KeyError:\n",
    "            val += 0\n",
    "    return val"
   ]
  },
  {
   "cell_type": "code",
   "execution_count": 49,
   "id": "287a4c81",
   "metadata": {},
   "outputs": [],
   "source": [
    "def prob_y_6_15(con):\n",
    "    val = 0\n",
    "    for voc in V:\n",
    "        try:\n",
    "            val += pairs_6_15[(voc, con)]\n",
    "        except KeyError:\n",
    "            val += 0\n",
    "    return val"
   ]
  },
  {
   "cell_type": "code",
   "execution_count": 50,
   "id": "2065a18a",
   "metadata": {},
   "outputs": [
    {
     "name": "stderr",
     "output_type": "stream",
     "text": [
      "100%|████████████████████████████████████| 15228/15228 [01:36<00:00, 157.60it/s]\n"
     ]
    }
   ],
   "source": [
    "probs_y_6_15 = {}\n",
    "for con in tqdm(V):\n",
    "    probs_y_6_15[con] = prob_y_6_15(con)"
   ]
  },
  {
   "cell_type": "code",
   "execution_count": 51,
   "id": "c0969095",
   "metadata": {},
   "outputs": [
    {
     "name": "stderr",
     "output_type": "stream",
     "text": [
      "100%|████████████████████████████████████| 15228/15228 [01:29<00:00, 170.50it/s]\n"
     ]
    }
   ],
   "source": [
    "probs_x_6_15 = {}\n",
    "for voc in tqdm(V):\n",
    "    probs_x_6_15[voc] = prob_x_6_15(voc)"
   ]
  },
  {
   "cell_type": "code",
   "execution_count": 52,
   "id": "2b635b6b",
   "metadata": {},
   "outputs": [],
   "source": [
    "def pmi_6_15(voc, con):\n",
    "    if probs_x_6_15[voc] != 0 and probs_y_6_15[con] != 0:\n",
    "        val = np.log2((pairs_6_15[(voc, con)]*N_6_15)/(probs_x_6_15[voc]*probs_y_6_15[con]))\n",
    "    else:\n",
    "        val = 0\n",
    "    return val"
   ]
  },
  {
   "cell_type": "code",
   "execution_count": 53,
   "id": "02dd0efc",
   "metadata": {},
   "outputs": [
    {
     "name": "stderr",
     "output_type": "stream",
     "text": [
      "100%|████████████████████████████████████| 15228/15228 [01:24<00:00, 179.94it/s]\n"
     ]
    }
   ],
   "source": [
    "pmi_6_15_vectors = {}\n",
    "for voc in tqdm(counts_6_15):\n",
    "    pmi_6_15_vectors[voc] = []\n",
    "    for con in V_c:\n",
    "        try: \n",
    "            pairs_6_15[(voc,con)] *= 1\n",
    "            pmi_6_15_vectors[voc].append(pmi_6_15(voc,con))\n",
    "        except KeyError:\n",
    "            pmi_6_15_vectors[voc].append(0)"
   ]
  },
  {
   "cell_type": "code",
   "execution_count": 54,
   "id": "83075c7f",
   "metadata": {},
   "outputs": [],
   "source": [
    "def pmi_sim_6_15(voc1, voc2):\n",
    "    if (norm(pmi_6_15_vectors[voc1]) != 0) and (norm(pmi_6_15_vectors[voc2]) != 0):\n",
    "        cosine = np.dot(pmi_6_15_vectors[voc1], pmi_6_15_vectors[voc2])/(norm(pmi_6_15_vectors[voc1])*norm(pmi_6_15_vectors[voc2]))\n",
    "    else:\n",
    "        cosine = 0\n",
    "    return cosine"
   ]
  },
  {
   "cell_type": "code",
   "execution_count": 55,
   "id": "99604b53",
   "metadata": {},
   "outputs": [
    {
     "data": {
      "text/plain": [
       "SignificanceResult(statistic=0.4720569004178326, pvalue=2.3230119403338823e-166)"
      ]
     },
     "execution_count": 55,
     "metadata": {},
     "output_type": "execute_result"
    }
   ],
   "source": [
    "EvalWS((pd.read_csv('men.txt', sep=\"\\t\", header=None, skiprows = [0])), counts_6_15, pmi_sim_6_15, 'PMI') "
   ]
  },
  {
   "cell_type": "code",
   "execution_count": 56,
   "id": "cdaaeb22",
   "metadata": {},
   "outputs": [
    {
     "data": {
      "text/plain": [
       "SignificanceResult(statistic=0.15210098244200515, pvalue=1.3683723395019382e-06)"
      ]
     },
     "execution_count": 56,
     "metadata": {},
     "output_type": "execute_result"
    }
   ],
   "source": [
    "EvalWS((pd.read_csv('simlex-999.txt', sep=\"\\t\", header=None, skiprows = [0])), counts_6_15, pmi_sim_6_15, 'PMI') "
   ]
  },
  {
   "cell_type": "markdown",
   "id": "e73ef83e",
   "metadata": {},
   "source": [
    "* Counts, 5k"
   ]
  },
  {
   "cell_type": "markdown",
   "id": "a4c483f1",
   "metadata": {},
   "source": [
    "w = 1"
   ]
  },
  {
   "cell_type": "code",
   "execution_count": 8,
   "id": "25406f6e",
   "metadata": {},
   "outputs": [],
   "source": [
    "def counting_5(w):\n",
    "    pairs = {}\n",
    "    for line in corpus:\n",
    "        a = line.split()\n",
    "        for i in range(len(a)):\n",
    "            window = []\n",
    "            if (a[i]) in V and i >= w and i < (len(a) - w):\n",
    "                window = a[i - w: i + w + 1]\n",
    "                window.remove(window[w])\n",
    "            elif (a[i]) in V and i < w:\n",
    "                window = a[0: i + w + 1]\n",
    "                window.remove(window[i])\n",
    "            elif (a[i]) in V and i >= (len(a) - w):\n",
    "                window = a[i - w: len(a)]\n",
    "                window.remove(window[w])\n",
    "            for con in window:\n",
    "                if (con) in V_c:\n",
    "                   try:\n",
    "                       pairs[(a[i], con)] += 1\n",
    "                   except KeyError:\n",
    "                       pairs[(a[i], con)] = 1\n",
    "    return pairs\n",
    "                \n"
   ]
  },
  {
   "cell_type": "code",
   "execution_count": 26,
   "id": "322255b5",
   "metadata": {},
   "outputs": [],
   "source": [
    "pairs_1_5 = counting_5(1)"
   ]
  },
  {
   "cell_type": "code",
   "execution_count": 156,
   "id": "bd07b7ad",
   "metadata": {},
   "outputs": [
    {
     "name": "stderr",
     "output_type": "stream",
     "text": [
      "100%|████████████████████████████████████| 15228/15228 [00:27<00:00, 556.47it/s]\n"
     ]
    }
   ],
   "source": [
    "vectors_1_5 = {}\n",
    "for voc in tqdm(V):\n",
    "    vectors_1_5[voc] = []\n",
    "    for con in V_c:\n",
    "        try:\n",
    "            vectors_1_5[voc].append(pairs_1_5[(voc, con)])\n",
    "        except KeyError:\n",
    "              vectors_1_5[voc].append(0)"
   ]
  },
  {
   "cell_type": "code",
   "execution_count": 30,
   "id": "8fa8b594",
   "metadata": {},
   "outputs": [
    {
     "name": "stderr",
     "output_type": "stream",
     "text": [
      "100%|████████████████████████████████████| 15228/15228 [00:23<00:00, 635.35it/s]\n"
     ]
    }
   ],
   "source": [
    "counts_1_5 = {}\n",
    "for voc in tqdm(V):\n",
    "    counts_1_5[voc] = {}\n",
    "    for con in V_c:\n",
    "        try:\n",
    "            counts_1_5[voc][con] = { con : pairs_1_5[(voc,con)]}\n",
    "        except KeyError:\n",
    "            pass"
   ]
  },
  {
   "cell_type": "code",
   "execution_count": 158,
   "id": "600e3a41",
   "metadata": {},
   "outputs": [],
   "source": [
    "def cos_sim_1_5(voc1, voc2):\n",
    "    if (norm(vectors_1_5[voc1]) != 0) and (norm(vectors_1_5[voc2]) != 0):\n",
    "        cosine = np.dot(vectors_1_5[voc1], vectors_1_5[voc2])/(norm(vectors_1_5[voc1])*norm(vectors_1_5[voc2]))\n",
    "    else:\n",
    "        cosine = 0\n",
    "    return cosine"
   ]
  },
  {
   "cell_type": "markdown",
   "id": "b1fd4ac9",
   "metadata": {},
   "source": [
    "------------------------Results------------------------------"
   ]
  },
  {
   "cell_type": "code",
   "execution_count": 159,
   "id": "203c1a29",
   "metadata": {},
   "outputs": [
    {
     "data": {
      "text/plain": [
       "SignificanceResult(statistic=0.20909154357455798, pvalue=5.464614687617875e-31)"
      ]
     },
     "execution_count": 159,
     "metadata": {},
     "output_type": "execute_result"
    }
   ],
   "source": [
    "EvalWS((pd.read_csv('men.txt', sep=\"\\t\", header=None, skiprows = [0])), counts_1_5, cos_sim_1_5, 'count')"
   ]
  },
  {
   "cell_type": "code",
   "execution_count": 160,
   "id": "92a11c72",
   "metadata": {},
   "outputs": [
    {
     "data": {
      "text/plain": [
       "SignificanceResult(statistic=0.06778569953818134, pvalue=0.03217079362556691)"
      ]
     },
     "execution_count": 160,
     "metadata": {},
     "output_type": "execute_result"
    }
   ],
   "source": [
    "EvalWS((pd.read_csv('simlex-999.txt', sep=\"\\t\", header=None, skiprows = [0])), counts_1_5, cos_sim_1_5, 'count')"
   ]
  },
  {
   "cell_type": "markdown",
   "id": "c97473bb",
   "metadata": {},
   "source": [
    "---- w = 3"
   ]
  },
  {
   "cell_type": "code",
   "execution_count": 6,
   "id": "ab2f2341",
   "metadata": {},
   "outputs": [],
   "source": [
    "pairs_3_5 = counting_5(3)"
   ]
  },
  {
   "cell_type": "code",
   "execution_count": 7,
   "id": "1c04b792",
   "metadata": {},
   "outputs": [
    {
     "name": "stderr",
     "output_type": "stream",
     "text": [
      "100%|████████████████████████████████████| 15228/15228 [00:30<00:00, 505.06it/s]\n"
     ]
    }
   ],
   "source": [
    "vectors_3_5 = {}\n",
    "for voc in tqdm(V):\n",
    "    vectors_3_5[voc] = []\n",
    "    for con in V_c:\n",
    "        try:\n",
    "            vectors_3_5[voc].append(pairs_3_5[(voc, con)])\n",
    "        except KeyError:\n",
    "              vectors_3_5[voc].append(0)"
   ]
  },
  {
   "cell_type": "code",
   "execution_count": 8,
   "id": "9f3bd70e",
   "metadata": {},
   "outputs": [
    {
     "name": "stderr",
     "output_type": "stream",
     "text": [
      "100%|████████████████████████████████████| 15228/15228 [00:27<00:00, 545.95it/s]\n"
     ]
    }
   ],
   "source": [
    "counts_3_5 = {}\n",
    "for voc in tqdm(V):\n",
    "    counts_3_5[voc] = {}\n",
    "    for con in V_c:\n",
    "        try:\n",
    "            counts_3_5[voc][con] = { con : pairs_3_5[(voc,con)]}\n",
    "        except KeyError:\n",
    "            pass"
   ]
  },
  {
   "cell_type": "code",
   "execution_count": 9,
   "id": "d53760cc",
   "metadata": {},
   "outputs": [],
   "source": [
    "def cos_sim_3_5(voc1, voc2):\n",
    "    if (norm(vectors_3_5[voc1]) != 0) and (norm(vectors_3_5[voc2]) != 0):\n",
    "        cosine = np.dot(vectors_3_5[voc1], vectors_3_5[voc2])/(norm(vectors_3_5[voc1])*norm(vectors_3_5[voc2]))\n",
    "    else:\n",
    "        cosine = 0\n",
    "    return cosine"
   ]
  },
  {
   "cell_type": "markdown",
   "id": "d8297e5a",
   "metadata": {},
   "source": [
    "-----------------------Results---------------------------------"
   ]
  },
  {
   "cell_type": "code",
   "execution_count": 12,
   "id": "202b38f8",
   "metadata": {},
   "outputs": [
    {
     "data": {
      "text/plain": [
       "SignificanceResult(statistic=0.2251396048448754, pvalue=8.800788745595221e-36)"
      ]
     },
     "execution_count": 12,
     "metadata": {},
     "output_type": "execute_result"
    }
   ],
   "source": [
    "EvalWS((pd.read_csv('men.txt', sep=\"\\t\", header=None, skiprows = [0])), counts_3_5, cos_sim_3_5, 'count')"
   ]
  },
  {
   "cell_type": "code",
   "execution_count": 13,
   "id": "2ca80a3a",
   "metadata": {},
   "outputs": [
    {
     "data": {
      "text/plain": [
       "SignificanceResult(statistic=0.05876135331349779, pvalue=0.0633756392544004)"
      ]
     },
     "execution_count": 13,
     "metadata": {},
     "output_type": "execute_result"
    }
   ],
   "source": [
    "EvalWS((pd.read_csv('simlex-999.txt', sep=\"\\t\", header=None, skiprows = [0])), counts_3_5, cos_sim_3_5, 'count')"
   ]
  },
  {
   "cell_type": "markdown",
   "id": "a1398a5b",
   "metadata": {},
   "source": [
    "w = 6"
   ]
  },
  {
   "cell_type": "code",
   "execution_count": 9,
   "id": "96563c4c",
   "metadata": {},
   "outputs": [],
   "source": [
    "pairs_6_5 = counting_5(6)"
   ]
  },
  {
   "cell_type": "code",
   "execution_count": 15,
   "id": "3767d1db",
   "metadata": {},
   "outputs": [
    {
     "name": "stderr",
     "output_type": "stream",
     "text": [
      "100%|████████████████████████████████████| 15228/15228 [00:29<00:00, 508.39it/s]\n"
     ]
    }
   ],
   "source": [
    "vectors_6_5 = {}\n",
    "for voc in tqdm(V):\n",
    "    vectors_6_5[voc] = []\n",
    "    for con in V_c:\n",
    "        try:\n",
    "            vectors_6_5[voc].append(pairs_6_5[(voc, con)])\n",
    "        except KeyError:\n",
    "              vectors_6_5[voc].append(0)"
   ]
  },
  {
   "cell_type": "code",
   "execution_count": 16,
   "id": "8ba7b8ba",
   "metadata": {},
   "outputs": [
    {
     "name": "stderr",
     "output_type": "stream",
     "text": [
      "100%|████████████████████████████████████| 15228/15228 [00:28<00:00, 534.33it/s]\n"
     ]
    }
   ],
   "source": [
    "counts_6_5 = {}\n",
    "for voc in tqdm(V):\n",
    "    counts_6_5[voc] = {}\n",
    "    for con in V_c:\n",
    "        try:\n",
    "            counts_6_5[voc][con] = { con : pairs_6_5[(voc,con)]}\n",
    "        except KeyError:\n",
    "            pass"
   ]
  },
  {
   "cell_type": "code",
   "execution_count": 17,
   "id": "67c68e48",
   "metadata": {},
   "outputs": [],
   "source": [
    "def cos_sim_6_5(voc1, voc2):\n",
    "    if (norm(vectors_6_5[voc1]) != 0) and (norm(vectors_6_5[voc2]) != 0):\n",
    "        cosine = np.dot(vectors_6_5[voc1], vectors_6_5[voc2])/(norm(vectors_6_5[voc1])*norm(vectors_6_5[voc2]))\n",
    "    else:\n",
    "        cosine = 0\n",
    "    return cosine"
   ]
  },
  {
   "cell_type": "markdown",
   "id": "33bc314c",
   "metadata": {},
   "source": [
    "-------------- Results -----------------"
   ]
  },
  {
   "cell_type": "code",
   "execution_count": 18,
   "id": "3e47c4e7",
   "metadata": {},
   "outputs": [
    {
     "data": {
      "text/plain": [
       "SignificanceResult(statistic=0.24106664963215607, pvalue=6.355522116916368e-41)"
      ]
     },
     "execution_count": 18,
     "metadata": {},
     "output_type": "execute_result"
    }
   ],
   "source": [
    "EvalWS((pd.read_csv('men.txt', sep=\"\\t\", header=None, skiprows = [0])), counts_6_5, cos_sim_6_5, 'count')"
   ]
  },
  {
   "cell_type": "code",
   "execution_count": 19,
   "id": "3b0d8618",
   "metadata": {},
   "outputs": [
    {
     "data": {
      "text/plain": [
       "SignificanceResult(statistic=0.04469576384051759, pvalue=0.1580577270004679)"
      ]
     },
     "execution_count": 19,
     "metadata": {},
     "output_type": "execute_result"
    }
   ],
   "source": [
    "EvalWS((pd.read_csv('simlex-999.txt', sep=\"\\t\", header=None, skiprows = [0])), counts_6_5, cos_sim_6_5, 'count')"
   ]
  },
  {
   "cell_type": "markdown",
   "id": "71f09381",
   "metadata": {},
   "source": [
    "* IDF, 5k "
   ]
  },
  {
   "cell_type": "markdown",
   "id": "7e6f9dfc",
   "metadata": {},
   "source": [
    "w = 1"
   ]
  },
  {
   "cell_type": "code",
   "execution_count": 23,
   "id": "fd819b3e",
   "metadata": {},
   "outputs": [],
   "source": [
    "sen_freqs_5 = sen_freqs"
   ]
  },
  {
   "cell_type": "code",
   "execution_count": 24,
   "id": "6a8e497c",
   "metadata": {},
   "outputs": [],
   "source": [
    "def IDF_1_5(voc, con):\n",
    "    if sen_freqs_5[con] != 0:\n",
    "        val = (pairs_1_5[(voc,con)])*(lc/(sen_freqs_5[con]))\n",
    "    else:\n",
    "        val = 0\n",
    "    return val"
   ]
  },
  {
   "cell_type": "code",
   "execution_count": 27,
   "id": "0d8c772f",
   "metadata": {},
   "outputs": [
    {
     "name": "stderr",
     "output_type": "stream",
     "text": [
      "100%|████████████████████████████████████| 15228/15228 [00:31<00:00, 486.16it/s]\n"
     ]
    }
   ],
   "source": [
    "idf_1_5_vectors = {}\n",
    "for voc in tqdm(V):\n",
    "    idf_1_5_vectors[voc] = []\n",
    "    for con in V_c:\n",
    "        try: \n",
    "            pairs_1_5[(voc,con)] *= 1\n",
    "            idf_1_5_vectors[voc].append(IDF_1_5(voc,con))\n",
    "        except KeyError:\n",
    "            idf_1_5_vectors[voc].append(0)"
   ]
  },
  {
   "cell_type": "code",
   "execution_count": 28,
   "id": "56b792c3",
   "metadata": {},
   "outputs": [],
   "source": [
    "def idf_sim_1_5(voc1, voc2):\n",
    "    if (norm(idf_1_5_vectors[voc1]) != 0) and (norm(idf_1_5_vectors[voc2]) != 0):\n",
    "        cosine = np.dot(idf_1_5_vectors[voc1], idf_1_5_vectors[voc2])/(norm(idf_1_5_vectors[voc1])*norm(idf_1_5_vectors[voc2]))\n",
    "    else:\n",
    "        cosine = 0\n",
    "    return cosine"
   ]
  },
  {
   "cell_type": "markdown",
   "id": "7be5c545",
   "metadata": {},
   "source": [
    "-------------- Results -------------------------"
   ]
  },
  {
   "cell_type": "code",
   "execution_count": 32,
   "id": "892861e6",
   "metadata": {},
   "outputs": [
    {
     "data": {
      "text/plain": [
       "SignificanceResult(statistic=0.3224946913281174, pvalue=1.4500412473429356e-73)"
      ]
     },
     "execution_count": 32,
     "metadata": {},
     "output_type": "execute_result"
    }
   ],
   "source": [
    "EvalWS((pd.read_csv('men.txt', sep=\"\\t\", header=None, skiprows = [0])), counts_1_5, idf_sim_1_5, 'IDF') "
   ]
  },
  {
   "cell_type": "code",
   "execution_count": 34,
   "id": "8ea5a099",
   "metadata": {},
   "outputs": [
    {
     "data": {
      "text/plain": [
       "SignificanceResult(statistic=0.16997314465621835, pvalue=6.481392516427962e-08)"
      ]
     },
     "execution_count": 34,
     "metadata": {},
     "output_type": "execute_result"
    }
   ],
   "source": [
    "EvalWS((pd.read_csv('simlex-999.txt', sep=\"\\t\", header=None, skiprows = [0])), counts_1_5, idf_sim_1_5, 'IDF') "
   ]
  },
  {
   "cell_type": "markdown",
   "id": "256a1530",
   "metadata": {},
   "source": [
    "w = 3"
   ]
  },
  {
   "cell_type": "code",
   "execution_count": 37,
   "id": "4156e2fe",
   "metadata": {},
   "outputs": [],
   "source": [
    "def IDF_3_5(voc, con):\n",
    "    val = (pairs_3_5[(voc,con)])*(lc/(sen_freqs[con]))\n",
    "    return val"
   ]
  },
  {
   "cell_type": "code",
   "execution_count": 38,
   "id": "bac0f693",
   "metadata": {},
   "outputs": [
    {
     "name": "stderr",
     "output_type": "stream",
     "text": [
      "100%|████████████████████████████████████| 15228/15228 [00:32<00:00, 462.76it/s]\n"
     ]
    }
   ],
   "source": [
    "idf_3_5_vectors = {}\n",
    "for voc in tqdm(V):\n",
    "    idf_3_5_vectors[voc] = []\n",
    "    for con in V_c:\n",
    "        try: \n",
    "            pairs_3_5[(voc,con)] *= 1\n",
    "            idf_3_5_vectors[voc].append(IDF_3_5(voc,con))\n",
    "        except KeyError:\n",
    "            idf_3_5_vectors[voc].append(0)"
   ]
  },
  {
   "cell_type": "code",
   "execution_count": 39,
   "id": "c43a0414",
   "metadata": {},
   "outputs": [],
   "source": [
    "def idf_sim_3_5(voc1, voc2):\n",
    "    if (norm(idf_3_5_vectors[voc1]) != 0) and (norm(idf_3_5_vectors[voc2]) != 0):\n",
    "        cosine = np.dot(idf_3_5_vectors[voc1], idf_3_5_vectors[voc2])/(norm(idf_3_5_vectors[voc1])*norm(idf_3_5_vectors[voc2]))\n",
    "    else:\n",
    "        cosine = 0\n",
    "    return cosine"
   ]
  },
  {
   "cell_type": "markdown",
   "id": "de72cac1",
   "metadata": {},
   "source": [
    "--------------------- Results ---------------------"
   ]
  },
  {
   "cell_type": "code",
   "execution_count": 41,
   "id": "4252fbfb",
   "metadata": {},
   "outputs": [
    {
     "data": {
      "text/plain": [
       "SignificanceResult(statistic=0.44646592054501644, pvalue=6.145013710758384e-147)"
      ]
     },
     "execution_count": 41,
     "metadata": {},
     "output_type": "execute_result"
    }
   ],
   "source": [
    "EvalWS((pd.read_csv('men.txt', sep=\"\\t\", header=None, skiprows = [0])), counts_3_5, idf_sim_3_5, 'IDF') "
   ]
  },
  {
   "cell_type": "code",
   "execution_count": 42,
   "id": "90fcf515",
   "metadata": {},
   "outputs": [
    {
     "data": {
      "text/plain": [
       "SignificanceResult(statistic=0.16111999057244053, pvalue=3.0614957547676104e-07)"
      ]
     },
     "execution_count": 42,
     "metadata": {},
     "output_type": "execute_result"
    }
   ],
   "source": [
    "EvalWS((pd.read_csv('simlex-999.txt', sep=\"\\t\", header=None, skiprows = [0])), counts_3_5, idf_sim_3_5, 'IDF') "
   ]
  },
  {
   "cell_type": "markdown",
   "id": "87497a51",
   "metadata": {},
   "source": [
    "w = 6"
   ]
  },
  {
   "cell_type": "code",
   "execution_count": 43,
   "id": "57457f0a",
   "metadata": {},
   "outputs": [],
   "source": [
    "def IDF_6_5(voc, con):\n",
    "    val = (pairs_6_5[(voc,con)])*(lc/(sen_freqs[con]))\n",
    "    return val"
   ]
  },
  {
   "cell_type": "code",
   "execution_count": 44,
   "id": "d64f1d3b",
   "metadata": {},
   "outputs": [
    {
     "name": "stderr",
     "output_type": "stream",
     "text": [
      "100%|████████████████████████████████████| 15228/15228 [00:41<00:00, 362.87it/s]\n"
     ]
    }
   ],
   "source": [
    "idf_6_5_vectors = {}\n",
    "for voc in tqdm(counts_6_5):\n",
    "    idf_6_5_vectors[voc] = []\n",
    "    for con in V_c:\n",
    "        try: \n",
    "            pairs_6_5[(voc,con)] *= 1\n",
    "            idf_6_5_vectors[voc].append(IDF_6_5(voc,con))\n",
    "        except KeyError:\n",
    "            idf_6_5_vectors[voc].append(0)"
   ]
  },
  {
   "cell_type": "code",
   "execution_count": 45,
   "id": "7e180556",
   "metadata": {},
   "outputs": [],
   "source": [
    "def idf_sim_6_5(voc1, voc2):\n",
    "    if (norm(idf_6_5_vectors[voc1]) != 0) and (norm(idf_6_5_vectors[voc2]) != 0):\n",
    "        cosine = np.dot(idf_6_5_vectors[voc1], idf_6_5_vectors[voc2])/(norm(idf_6_5_vectors[voc1])*norm(idf_6_5_vectors[voc2]))\n",
    "    else:\n",
    "        cosine = 0\n",
    "    return cosine"
   ]
  },
  {
   "cell_type": "markdown",
   "id": "45fd8756",
   "metadata": {},
   "source": [
    "--------------------- Results ---------------------"
   ]
  },
  {
   "cell_type": "code",
   "execution_count": 47,
   "id": "3eebe22d",
   "metadata": {},
   "outputs": [
    {
     "data": {
      "text/plain": [
       "SignificanceResult(statistic=0.48994814292760613, pvalue=5.892843252710712e-181)"
      ]
     },
     "execution_count": 47,
     "metadata": {},
     "output_type": "execute_result"
    }
   ],
   "source": [
    "EvalWS((pd.read_csv('men.txt', sep=\"\\t\", header=None, skiprows = [0])), counts_6_5, idf_sim_6_5, 'IDF') "
   ]
  },
  {
   "cell_type": "code",
   "execution_count": 48,
   "id": "38f50580",
   "metadata": {},
   "outputs": [
    {
     "data": {
      "text/plain": [
       "SignificanceResult(statistic=0.11291312382637779, pvalue=0.0003491403417042362)"
      ]
     },
     "execution_count": 48,
     "metadata": {},
     "output_type": "execute_result"
    }
   ],
   "source": [
    "EvalWS((pd.read_csv('simlex-999.txt', sep=\"\\t\", header=None, skiprows = [0])), counts_6_5, idf_sim_6_5, 'IDF') "
   ]
  },
  {
   "cell_type": "markdown",
   "id": "26c2cfdb",
   "metadata": {},
   "source": [
    "* PMI, 5k"
   ]
  },
  {
   "cell_type": "markdown",
   "id": "0b2ac075",
   "metadata": {},
   "source": [
    "w = 1 "
   ]
  },
  {
   "cell_type": "code",
   "execution_count": 52,
   "id": "41b46b0e",
   "metadata": {},
   "outputs": [
    {
     "name": "stderr",
     "output_type": "stream",
     "text": [
      "100%|████████████████████████████████████| 15228/15228 [00:24<00:00, 616.54it/s]\n"
     ]
    }
   ],
   "source": [
    "N_1_5 = 0\n",
    "for x in tqdm(V):\n",
    "    for y in V_c:\n",
    "        try:\n",
    "            N_1_5 += pairs_1_5[(x, y)]\n",
    "        except KeyError:\n",
    "            N_1_5 += 0"
   ]
  },
  {
   "cell_type": "code",
   "execution_count": 53,
   "id": "6835dd84",
   "metadata": {},
   "outputs": [],
   "source": [
    "def prob_x_1_5(voc):\n",
    "    val = 0\n",
    "    for con in V_c:\n",
    "        try:\n",
    "            val += pairs_1_5[(voc, con)]\n",
    "        except KeyError:\n",
    "            val += 0\n",
    "    return val"
   ]
  },
  {
   "cell_type": "code",
   "execution_count": 54,
   "id": "91c9f27c",
   "metadata": {},
   "outputs": [],
   "source": [
    "def prob_y_1_5(con):\n",
    "    val = 0\n",
    "    for voc in counts_1_5:\n",
    "        try:\n",
    "            val += pairs_1_5[(voc, con)]\n",
    "        except KeyError:\n",
    "            val += 0\n",
    "    return val"
   ]
  },
  {
   "cell_type": "code",
   "execution_count": 55,
   "id": "b6d51e35",
   "metadata": {},
   "outputs": [
    {
     "name": "stderr",
     "output_type": "stream",
     "text": [
      "100%|██████████████████████████████████████| 5000/5000 [00:19<00:00, 255.19it/s]\n"
     ]
    }
   ],
   "source": [
    "probs_y_1_5 = {}\n",
    "for con in tqdm(V_c):\n",
    "    probs_y_1_5[con] = prob_y_1_5(con)"
   ]
  },
  {
   "cell_type": "code",
   "execution_count": 56,
   "id": "f73becf5",
   "metadata": {},
   "outputs": [
    {
     "name": "stderr",
     "output_type": "stream",
     "text": [
      "100%|████████████████████████████████████| 15228/15228 [00:20<00:00, 760.85it/s]\n"
     ]
    }
   ],
   "source": [
    "probs_x_1_5 = {}\n",
    "for voc in tqdm(counts_1_5):\n",
    "    probs_x_1_5[voc] = prob_x_1_5(voc)"
   ]
  },
  {
   "cell_type": "code",
   "execution_count": 62,
   "id": "f7032264",
   "metadata": {},
   "outputs": [],
   "source": [
    "def pmi_1_5(voc, con):\n",
    "    if probs_x_1_5[voc] != 0 and probs_y_1_5[con] != 0:\n",
    "        val = np.log2((pairs_1_5[(voc, con)]*N_1_5)/(probs_x_1_5[voc]*probs_y_1_5[con]))\n",
    "    else:\n",
    "        val = 0\n",
    "    return val"
   ]
  },
  {
   "cell_type": "code",
   "execution_count": 63,
   "id": "0ef2cdc6",
   "metadata": {},
   "outputs": [
    {
     "name": "stderr",
     "output_type": "stream",
     "text": [
      "100%|████████████████████████████████████| 15228/15228 [00:38<00:00, 398.80it/s]\n"
     ]
    }
   ],
   "source": [
    "pmi_1_5_vectors = {}\n",
    "for voc in tqdm(counts_3_5):\n",
    "    pmi_1_5_vectors[voc] = []\n",
    "    for con in V_c:\n",
    "        try: \n",
    "            pairs_1_5[(voc,con)] *= 1\n",
    "            pmi_1_5_vectors[voc].append(pmi_1_5(voc,con))\n",
    "        except KeyError:\n",
    "            pmi_1_5_vectors[voc].append(0)"
   ]
  },
  {
   "cell_type": "code",
   "execution_count": 64,
   "id": "43caec14",
   "metadata": {},
   "outputs": [],
   "source": [
    "def pmi_sim_1_5(voc1, voc2):\n",
    "    if (norm(pmi_1_5_vectors[voc1]) != 0) and (norm(pmi_1_5_vectors[voc2]) != 0):\n",
    "        cosine = np.dot(pmi_1_5_vectors[voc1], pmi_1_5_vectors[voc2])/(norm(pmi_1_5_vectors[voc1])*norm(pmi_1_5_vectors[voc2]))\n",
    "    else:\n",
    "        cosine = 0\n",
    "    return cosine"
   ]
  },
  {
   "cell_type": "markdown",
   "id": "d9de0c26",
   "metadata": {},
   "source": [
    "---------- Results -----------------"
   ]
  },
  {
   "cell_type": "code",
   "execution_count": 65,
   "id": "af2ac0bf",
   "metadata": {},
   "outputs": [
    {
     "data": {
      "text/plain": [
       "SignificanceResult(statistic=0.43360312970252096, pvalue=8.727721983966118e-138)"
      ]
     },
     "execution_count": 65,
     "metadata": {},
     "output_type": "execute_result"
    }
   ],
   "source": [
    "EvalWS((pd.read_csv('men.txt', sep=\"\\t\", header=None, skiprows = [0])), counts_1_5, pmi_sim_1_5, 'PMI') "
   ]
  },
  {
   "cell_type": "code",
   "execution_count": 66,
   "id": "cbf92e14",
   "metadata": {},
   "outputs": [
    {
     "data": {
      "text/plain": [
       "SignificanceResult(statistic=0.2274977000485412, pvalue=3.409809747132032e-13)"
      ]
     },
     "execution_count": 66,
     "metadata": {},
     "output_type": "execute_result"
    }
   ],
   "source": [
    "EvalWS((pd.read_csv('simlex-999.txt', sep=\"\\t\", header=None, skiprows = [0])), counts_1_5, pmi_sim_1_5, 'PMI') "
   ]
  },
  {
   "cell_type": "markdown",
   "id": "3241740a",
   "metadata": {},
   "source": [
    "w = 3"
   ]
  },
  {
   "cell_type": "code",
   "execution_count": 67,
   "id": "19c8aae6",
   "metadata": {},
   "outputs": [
    {
     "name": "stderr",
     "output_type": "stream",
     "text": [
      "100%|████████████████████████████████████| 15228/15228 [00:28<00:00, 527.64it/s]\n"
     ]
    }
   ],
   "source": [
    "N_3_5 = 0\n",
    "for x in tqdm(counts_3_5):\n",
    "    for y in V_c:\n",
    "        try:\n",
    "            N += pairs_3_5[(x, y)]\n",
    "        except KeyError:\n",
    "            N += 0"
   ]
  },
  {
   "cell_type": "code",
   "execution_count": 68,
   "id": "29adff93",
   "metadata": {},
   "outputs": [],
   "source": [
    "def prob_x_3_5(voc):\n",
    "    val = 0\n",
    "    for con in V_c:\n",
    "        try:\n",
    "            val += pairs_3_5[(voc, con)]\n",
    "        except KeyError:\n",
    "            val += 0\n",
    "    return val"
   ]
  },
  {
   "cell_type": "code",
   "execution_count": 69,
   "id": "c7a155bb",
   "metadata": {},
   "outputs": [],
   "source": [
    "def prob_y_3_5(con):\n",
    "    val = 0\n",
    "    for voc in counts_3_5:\n",
    "        try:\n",
    "            val += pairs_3_5[(voc, con)]\n",
    "        except KeyError:\n",
    "            val += 0\n",
    "    return val"
   ]
  },
  {
   "cell_type": "code",
   "execution_count": 70,
   "id": "f498d4ff",
   "metadata": {},
   "outputs": [
    {
     "name": "stderr",
     "output_type": "stream",
     "text": [
      "100%|████████████████████████████████████| 15228/15228 [01:09<00:00, 218.91it/s]\n"
     ]
    }
   ],
   "source": [
    "probs_y_3_5 = {}\n",
    "for con in tqdm(V):\n",
    "    probs_y_3_5[con] = prob_y_3_5(con)"
   ]
  },
  {
   "cell_type": "code",
   "execution_count": 71,
   "id": "74e3981c",
   "metadata": {},
   "outputs": [
    {
     "name": "stderr",
     "output_type": "stream",
     "text": [
      "100%|████████████████████████████████████| 15228/15228 [00:24<00:00, 621.40it/s]\n"
     ]
    }
   ],
   "source": [
    "probs_x_3_5 = {}\n",
    "for voc in tqdm(counts_3_5):\n",
    "    probs_x_3_5[voc] = prob_x_3_5(voc)"
   ]
  },
  {
   "cell_type": "code",
   "execution_count": 83,
   "id": "fbe5540b",
   "metadata": {},
   "outputs": [],
   "source": [
    "def pmi_3_5(voc, con):\n",
    "    if probs_x_3_5[voc] != 0 and probs_y_3_5[con] != 0:\n",
    "        val = np.log2((pairs_3_5[(voc, con)]*N_3_5)/(probs_x_3_5[voc]*probs_y_3_5[con]))\n",
    "    else:\n",
    "        val = 0\n",
    "    return val"
   ]
  },
  {
   "cell_type": "code",
   "execution_count": 73,
   "id": "2437de09",
   "metadata": {},
   "outputs": [
    {
     "name": "stderr",
     "output_type": "stream",
     "text": [
      "100%|████████████████████████████████████| 15228/15228 [00:36<00:00, 418.96it/s]\n"
     ]
    }
   ],
   "source": [
    "pmi_3_5_vectors = {}\n",
    "for voc in tqdm(counts_3_5):\n",
    "    pmi_3_5_vectors[voc] = []\n",
    "    for con in V_c:\n",
    "        try: \n",
    "            pairs_3_5[(voc,con)] *= 1\n",
    "            pmi_3_5_vectors[voc].append(pmi_3_5(voc,con))\n",
    "        except KeyError:\n",
    "            pmi_3_5_vectors[voc].append(0)"
   ]
  },
  {
   "cell_type": "code",
   "execution_count": 84,
   "id": "8bfc313c",
   "metadata": {},
   "outputs": [],
   "source": [
    "def pmi_sim_3_5(voc1, voc2):\n",
    "    if (norm(pmi_3_5_vectors[voc1]) != 0) and (norm(pmi_3_5_vectors[voc2]) != 0):\n",
    "        cosine = np.dot(pmi_3_5_vectors[voc1], pmi_3_5_vectors[voc2])/(norm(pmi_3_5_vectors[voc1])*norm(pmi_3_5_vectors[voc2]))\n",
    "    else:\n",
    "        cosine = 0\n",
    "    return cosine"
   ]
  },
  {
   "cell_type": "code",
   "execution_count": 85,
   "id": "66f98dcd",
   "metadata": {},
   "outputs": [
    {
     "data": {
      "text/plain": [
       "SignificanceResult(statistic=0.46563240836038006, pvalue=2.5050388889148127e-161)"
      ]
     },
     "execution_count": 85,
     "metadata": {},
     "output_type": "execute_result"
    }
   ],
   "source": [
    "EvalWS((pd.read_csv('men.txt', sep=\"\\t\", header=None, skiprows = [0])), counts_3_5, pmi_sim_3_5, 'PMI') "
   ]
  },
  {
   "cell_type": "code",
   "execution_count": 86,
   "id": "f60579ea",
   "metadata": {},
   "outputs": [
    {
     "data": {
      "text/plain": [
       "SignificanceResult(statistic=0.18643183126956037, pvalue=2.8976468276084516e-09)"
      ]
     },
     "execution_count": 86,
     "metadata": {},
     "output_type": "execute_result"
    }
   ],
   "source": [
    "EvalWS((pd.read_csv('simlex-999.txt', sep=\"\\t\", header=None, skiprows = [0])), counts_3_5, pmi_sim_3_5, 'PMI') "
   ]
  },
  {
   "cell_type": "markdown",
   "id": "7f495e57",
   "metadata": {},
   "source": [
    "w = 6"
   ]
  },
  {
   "cell_type": "code",
   "execution_count": 119,
   "id": "d9071d20",
   "metadata": {},
   "outputs": [
    {
     "name": "stderr",
     "output_type": "stream",
     "text": [
      "100%|████████████████████████████████████| 15228/15228 [00:33<00:00, 456.97it/s]\n"
     ]
    }
   ],
   "source": [
    "N_6_5 = 0\n",
    "for x in tqdm(V):\n",
    "    for y in V_c:\n",
    "        try:\n",
    "            N_6_5 += pairs_6_5[(x, y)]\n",
    "        except KeyError:\n",
    "            N_6_5 += 0"
   ]
  },
  {
   "cell_type": "code",
   "execution_count": 120,
   "id": "62fb7faf",
   "metadata": {},
   "outputs": [],
   "source": [
    "def prob_x_6_5(voc):\n",
    "    val = 0\n",
    "    for con in V_c:\n",
    "        try:\n",
    "            val += pairs_6_5[(voc, con)]\n",
    "        except KeyError:\n",
    "            val += 0\n",
    "    return val"
   ]
  },
  {
   "cell_type": "code",
   "execution_count": 121,
   "id": "d52cef9b",
   "metadata": {},
   "outputs": [],
   "source": [
    "def prob_y_6_5(con):\n",
    "    val = 0\n",
    "    for voc in V:\n",
    "        try:\n",
    "            val += pairs_6_5[(voc, con)]\n",
    "        except KeyError:\n",
    "            val += 0\n",
    "    return val"
   ]
  },
  {
   "cell_type": "code",
   "execution_count": 101,
   "id": "2849b920",
   "metadata": {},
   "outputs": [
    {
     "name": "stderr",
     "output_type": "stream",
     "text": [
      "100%|██████████████████████████████████████| 5000/5000 [00:31<00:00, 156.25it/s]\n"
     ]
    }
   ],
   "source": [
    "probs_y_6_5 = {}\n",
    "for con in tqdm(V_c):\n",
    "    probs_y_6_5[con] = prob_y_6_5(con)"
   ]
  },
  {
   "cell_type": "code",
   "execution_count": 102,
   "id": "4cd0e0ea",
   "metadata": {},
   "outputs": [
    {
     "name": "stderr",
     "output_type": "stream",
     "text": [
      "100%|████████████████████████████████████| 15228/15228 [00:31<00:00, 491.08it/s]\n"
     ]
    }
   ],
   "source": [
    "probs_x_6_5 = {}\n",
    "for voc in tqdm(counts_6_5):\n",
    "    probs_x_6_5[voc] = prob_x_6_5(voc)"
   ]
  },
  {
   "cell_type": "code",
   "execution_count": 3,
   "id": "21cd58ee",
   "metadata": {},
   "outputs": [],
   "source": [
    "def pmi_6_5(voc, con):\n",
    "    if probs_x_6_5[voc] != 0 and probs_y_6_5[con] != 0:\n",
    "        val = np.log2((pairs_6_5[(voc, con)]*N_6_5)/(probs_x_6_5[voc]*probs_y_6_5[con]))\n",
    "    else:\n",
    "        val = 0\n",
    "    return val"
   ]
  },
  {
   "cell_type": "code",
   "execution_count": null,
   "id": "628dd4bd",
   "metadata": {},
   "outputs": [],
   "source": [
    "pmi_6_5_vectors = {}\n",
    "for voc in tqdm(V):\n",
    "    pmi_6_5_vectors[voc] = []\n",
    "    for con in V_c:\n",
    "        try: \n",
    "            pairs_6_5[(voc,con)] *= 1\n",
    "            pmi_6_5_vectors[voc].append(pmi_6_5(voc,con))\n",
    "        except KeyError:\n",
    "            pmi_6_5_vectors[voc].append(0)"
   ]
  },
  {
   "cell_type": "code",
   "execution_count": 125,
   "id": "1002b46c",
   "metadata": {},
   "outputs": [],
   "source": [
    "def pmi_sim_6_5(voc1, voc2):\n",
    "    if (norm(pmi_6_5_vectors[voc1]) != 0) and (norm(pmi_6_5_vectors[voc2]) != 0):\n",
    "        cosine = np.dot(pmi_6_5_vectors[voc1], pmi_6_5_vectors[voc2])/(norm(pmi_6_5_vectors[voc1])*norm(pmi_6_5_vectors[voc2]))\n",
    "    else:\n",
    "        cosine = 0\n",
    "    return cosine"
   ]
  },
  {
   "cell_type": "code",
   "execution_count": 126,
   "id": "39714df4",
   "metadata": {},
   "outputs": [
    {
     "data": {
      "text/plain": [
       "SignificanceResult(statistic=0.472408394245907, pvalue=1.2234451339873135e-166)"
      ]
     },
     "execution_count": 126,
     "metadata": {},
     "output_type": "execute_result"
    }
   ],
   "source": [
    "EvalWS((pd.read_csv('men.txt', sep=\"\\t\", header=None, skiprows = [0])), counts_6_5, pmi_sim_6_5, 'PMI') "
   ]
  },
  {
   "cell_type": "code",
   "execution_count": 127,
   "id": "f117a2fd",
   "metadata": {},
   "outputs": [
    {
     "data": {
      "text/plain": [
       "SignificanceResult(statistic=0.15033132295378585, pvalue=1.8175892851158345e-06)"
      ]
     },
     "execution_count": 127,
     "metadata": {},
     "output_type": "execute_result"
    }
   ],
   "source": [
    "EvalWS((pd.read_csv('simlex-999.txt', sep=\"\\t\", header=None, skiprows = [0])), counts_6_5, pmi_sim_6_5, 'PMI') "
   ]
  },
  {
   "cell_type": "markdown",
   "id": "924cc631",
   "metadata": {},
   "source": [
    "It seems like for both context vocabularies the correlation factor for Simlex decreases as the window size increases, for all three similarity metrics. The opposite is true for Men, as the correlation factor grows with the window size. In general , IDF and PMI do much better than Counts, although it is unclear from these findings which obtains a higher correlation factor between IDF and PMI. When context vocabulary changes it seems like the correlation factors decrease (i.e. the 15k context vocabulary obtains higher correlation factors), which I think makes sense since more context provides a better way of differentiating between words that are related and words that aren't (i.e. if the context vocabulary were populated mainly by words appearing in the corpus, it would be very hard to differentiate between them)."
   ]
  },
  {
   "cell_type": "markdown",
   "id": "0cc1186a",
   "metadata": {},
   "source": [
    "4.2. We can imagine that these trends are occuring since Men appears to contain about twice as many annotations, and as I mentioned above, having a larger sample it is easier to differentiate between the similarities between words. Moreover, the values in men.txt vary from 0 to 50 whereas those in simlex-999.txt only vary approximately between 0 and 10, so the same reasoning as above tells us that it is harder to differentiate the similarities for simlex-999."
   ]
  },
  {
   "cell_type": "markdown",
   "id": "a38fc6fe",
   "metadata": {},
   "source": [
    "# Part 5"
   ]
  },
  {
   "cell_type": "markdown",
   "id": "56c49184",
   "metadata": {},
   "source": [
    "5.1"
   ]
  },
  {
   "cell_type": "markdown",
   "id": "476db49c",
   "metadata": {},
   "source": [
    "w = 1"
   ]
  },
  {
   "cell_type": "code",
   "execution_count": 59,
   "id": "6613e910",
   "metadata": {},
   "outputs": [],
   "source": [
    "judges_cos_sims = {}\n",
    "for y in V:\n",
    "    judges_cos_sims[y] = pmi_sim_1_15('judges',y)"
   ]
  },
  {
   "cell_type": "code",
   "execution_count": 62,
   "id": "ad27b934",
   "metadata": {},
   "outputs": [
    {
     "name": "stdout",
     "output_type": "stream",
     "text": [
      "['judges', 'judge', 'justices', 'arbitrators', 'players', 'trustees', 'contestants', 'officials', 'admins', 'appeals', 'officers']\n"
     ]
    }
   ],
   "source": [
    "print(nlargest(11, judges_cos_sims, key = judges_cos_sims.get))"
   ]
  },
  {
   "cell_type": "markdown",
   "id": "4be6307c",
   "metadata": {},
   "source": [
    "w = 6"
   ]
  },
  {
   "cell_type": "code",
   "execution_count": 63,
   "id": "0d4b4ed7",
   "metadata": {},
   "outputs": [],
   "source": [
    "judges_cos_sims_6 = {}\n",
    "for y in V:\n",
    "    judges_cos_sims_6[y] = pmi_sim_6_15('judges',y)"
   ]
  },
  {
   "cell_type": "code",
   "execution_count": 64,
   "id": "10e1c576",
   "metadata": {},
   "outputs": [
    {
     "name": "stdout",
     "output_type": "stream",
     "text": [
      "['judges', 'judge', 'jury', 'appeals', 'courts', 'panel', 'supreme', 'justice', 'contestants', 'candidates', 'appeal']\n"
     ]
    }
   ],
   "source": [
    "print(nlargest(11, judges_cos_sims_6, key = judges_cos_sims_6.get))"
   ]
  },
  {
   "cell_type": "markdown",
   "id": "f3afc8a2",
   "metadata": {},
   "source": [
    "5.2"
   ]
  },
  {
   "cell_type": "markdown",
   "id": "9265ade9",
   "metadata": {},
   "source": [
    "First we try the word 'transported':"
   ]
  },
  {
   "cell_type": "code",
   "execution_count": 65,
   "id": "6b48d9fb",
   "metadata": {},
   "outputs": [],
   "source": [
    "transported_cos_sims = {}\n",
    "for y in V:\n",
    "    transported_cos_sims[y] = pmi_sim_1_15('transported',y)"
   ]
  },
  {
   "cell_type": "code",
   "execution_count": 66,
   "id": "d54a0550",
   "metadata": {},
   "outputs": [
    {
     "name": "stdout",
     "output_type": "stream",
     "text": [
      "['transported', 'marched', 'shipped', 'deported', 'reassigned', 'detected', 'relegated', 'subjected', 'vanish', 'converted', 'dragged']\n"
     ]
    }
   ],
   "source": [
    "print(nlargest(11, transported_cos_sims, key = transported_cos_sims.get))"
   ]
  },
  {
   "cell_type": "code",
   "execution_count": 69,
   "id": "d61c7fb3",
   "metadata": {},
   "outputs": [],
   "source": [
    "transported_cos_sims_6 = {}\n",
    "for y in V:\n",
    "    transported_cos_sims_6[y] = pmi_sim_6_15('transported',y)"
   ]
  },
  {
   "cell_type": "code",
   "execution_count": 71,
   "id": "b0aa9496",
   "metadata": {},
   "outputs": [
    {
     "name": "stdout",
     "output_type": "stream",
     "text": [
      "['transported', 'cargo', 'supplies', 'transport', 'carrying', 'prisoners', 'supply', 'shipping', 'passengers', 'ships', 'captured']\n"
     ]
    }
   ],
   "source": [
    "print(nlargest(11, transported_cos_sims_6, key = transported_cos_sims_6.get))"
   ]
  },
  {
   "cell_type": "markdown",
   "id": "8f769ae7",
   "metadata": {},
   "source": [
    "Now we try 'beautiful':"
   ]
  },
  {
   "cell_type": "code",
   "execution_count": 67,
   "id": "b6aeb6a8",
   "metadata": {},
   "outputs": [],
   "source": [
    "beautiful_cos_sims = {}\n",
    "for y in V:\n",
    "    beautiful_cos_sims[y] = pmi_sim_1_15('beautiful',y)"
   ]
  },
  {
   "cell_type": "code",
   "execution_count": 68,
   "id": "1a3853af",
   "metadata": {},
   "outputs": [
    {
     "name": "stdout",
     "output_type": "stream",
     "text": [
      "['beautiful', 'attractive', 'scenic', 'dark', 'amazing', 'whose', 'magnificent', 'quiet', 'picturesque', 'strange', 'surrounding']\n"
     ]
    }
   ],
   "source": [
    "print(nlargest(11, beautiful_cos_sims, key = beautiful_cos_sims.get))"
   ]
  },
  {
   "cell_type": "code",
   "execution_count": 72,
   "id": "7a5715d8",
   "metadata": {},
   "outputs": [],
   "source": [
    "beautiful_cos_sims_6 = {}\n",
    "for y in V:\n",
    "    beautiful_cos_sims_6[y] = pmi_sim_6_15('beautiful',y)"
   ]
  },
  {
   "cell_type": "code",
   "execution_count": 73,
   "id": "96697b90",
   "metadata": {},
   "outputs": [
    {
     "name": "stdout",
     "output_type": "stream",
     "text": [
      "['beautiful', 'girl', 'dark', 'beauty', 'featuring', 'rich', 'eyes', 'herself', 'theme', 'dancing', 'moon']\n"
     ]
    }
   ],
   "source": [
    "print(nlargest(11, beautiful_cos_sims_6, key = beautiful_cos_sims_6.get))"
   ]
  },
  {
   "cell_type": "markdown",
   "id": "c0ad164d",
   "metadata": {},
   "source": [
    "Now we try 'when':"
   ]
  },
  {
   "cell_type": "code",
   "execution_count": 74,
   "id": "2a4fc29f",
   "metadata": {},
   "outputs": [],
   "source": [
    "when_cos_sims = {}\n",
    "for y in V:\n",
    "    when_cos_sims[y] = pmi_sim_1_15('when',y)"
   ]
  },
  {
   "cell_type": "code",
   "execution_count": 75,
   "id": "5554fc9f",
   "metadata": {},
   "outputs": [
    {
     "name": "stdout",
     "output_type": "stream",
     "text": [
      "['when', 'after', 'by', 'while', 'if', 'before', ';', 'during', 'and', 'where', 'had']\n"
     ]
    }
   ],
   "source": [
    "print(nlargest(11, when_cos_sims, key = when_cos_sims.get))"
   ]
  },
  {
   "cell_type": "code",
   "execution_count": 76,
   "id": "e7471210",
   "metadata": {},
   "outputs": [],
   "source": [
    "when_cos_sims_6 = {}\n",
    "for y in V:\n",
    "    when_cos_sims_6[y] = pmi_sim_6_15('when',y)"
   ]
  },
  {
   "cell_type": "code",
   "execution_count": 77,
   "id": "2ce29b76",
   "metadata": {},
   "outputs": [
    {
     "name": "stdout",
     "output_type": "stream",
     "text": [
      "['when', 'after', 'then', 'but', 'she', 'he', 'had', 'him', 'her', 'before', 'they']\n"
     ]
    }
   ],
   "source": [
    "print(nlargest(11, when_cos_sims_6, key = when_cos_sims_6.get))"
   ]
  },
  {
   "cell_type": "markdown",
   "id": "f572b004",
   "metadata": {},
   "source": [
    "Now we try 'him':"
   ]
  },
  {
   "cell_type": "code",
   "execution_count": 94,
   "id": "46858a6c",
   "metadata": {},
   "outputs": [],
   "source": [
    "him_cos_sims = {}\n",
    "for y in V:\n",
    "    him_cos_sims[y] = pmi_sim_1_15('him',y)"
   ]
  },
  {
   "cell_type": "code",
   "execution_count": 95,
   "id": "0912e53f",
   "metadata": {},
   "outputs": [
    {
     "name": "stdout",
     "output_type": "stream",
     "text": [
      "['him', 'them', 'me', 'her', 'himself', 'then', 'you', 'being', 'anyone', 'been', 'someone']\n"
     ]
    }
   ],
   "source": [
    "print(nlargest(11, him_cos_sims, key = him_cos_sims.get))"
   ]
  },
  {
   "cell_type": "code",
   "execution_count": 96,
   "id": "7d6e4c6c",
   "metadata": {},
   "outputs": [],
   "source": [
    "him_cos_sims_6 = {}\n",
    "for y in V:\n",
    "    him_cos_sims_6[y] = pmi_sim_6_15('him',y)"
   ]
  },
  {
   "cell_type": "code",
   "execution_count": 97,
   "id": "579da2c1",
   "metadata": {},
   "outputs": [
    {
     "name": "stdout",
     "output_type": "stream",
     "text": [
      "['him', 'her', 'his', 'them', 'he', 'she', 'who', 'i', 'they', 'but', 'you']\n"
     ]
    }
   ],
   "source": [
    "print(nlargest(11, him_cos_sims_6, key = him_cos_sims_6.get))"
   ]
  },
  {
   "cell_type": "markdown",
   "id": "df0f555d",
   "metadata": {},
   "source": [
    "Now we try 'his':"
   ]
  },
  {
   "cell_type": "code",
   "execution_count": 78,
   "id": "e2cbd544",
   "metadata": {},
   "outputs": [],
   "source": [
    "his_cos_sims = {}\n",
    "for y in V:\n",
    "    his_cos_sims[y] = pmi_sim_1_15('his',y)"
   ]
  },
  {
   "cell_type": "code",
   "execution_count": 79,
   "id": "61c32ff2",
   "metadata": {},
   "outputs": [
    {
     "name": "stdout",
     "output_type": "stream",
     "text": [
      "['his', 'her', 'their', 'its', 'my', \"'s\", 'your', 'it', 'this', 'own', 'one']\n"
     ]
    }
   ],
   "source": [
    "print(nlargest(11, his_cos_sims, key = his_cos_sims.get))"
   ]
  },
  {
   "cell_type": "code",
   "execution_count": 80,
   "id": "2fc50db0",
   "metadata": {},
   "outputs": [],
   "source": [
    "his_cos_sims_6 = {}\n",
    "for y in V:\n",
    "    his_cos_sims_6[y] = pmi_sim_6_15('his',y)"
   ]
  },
  {
   "cell_type": "code",
   "execution_count": 81,
   "id": "0f0832f4",
   "metadata": {},
   "outputs": [
    {
     "name": "stdout",
     "output_type": "stream",
     "text": [
      "['his', 'he', 'her', \"'s\", 'who', 'she', 'him', 'after', 'had', 'later', 'when']\n"
     ]
    }
   ],
   "source": [
    "print(nlargest(11, his_cos_sims_6, key = his_cos_sims_6.get))"
   ]
  },
  {
   "cell_type": "markdown",
   "id": "33dc488a",
   "metadata": {},
   "source": [
    "Now we try 'her':"
   ]
  },
  {
   "cell_type": "code",
   "execution_count": 98,
   "id": "47121790",
   "metadata": {},
   "outputs": [],
   "source": [
    "her_cos_sims = {}\n",
    "for y in V:\n",
    "    her_cos_sims[y] = pmi_sim_1_15('her',y)"
   ]
  },
  {
   "cell_type": "code",
   "execution_count": 99,
   "id": "c40589e0",
   "metadata": {},
   "outputs": [
    {
     "name": "stdout",
     "output_type": "stream",
     "text": [
      "['her', 'his', 'their', 'him', 'them', 'my', 'its', 'your', \"'s\", 'me', 'she']\n"
     ]
    }
   ],
   "source": [
    "print(nlargest(11, her_cos_sims, key = her_cos_sims.get))"
   ]
  },
  {
   "cell_type": "code",
   "execution_count": 100,
   "id": "a40b2229",
   "metadata": {},
   "outputs": [],
   "source": [
    "her_cos_sims_6 = {}\n",
    "for y in V:\n",
    "    her_cos_sims_6[y] = pmi_sim_6_15('her',y)"
   ]
  },
  {
   "cell_type": "code",
   "execution_count": 101,
   "id": "92cb8f9c",
   "metadata": {},
   "outputs": [
    {
     "name": "stdout",
     "output_type": "stream",
     "text": [
      "['her', 'his', 'she', 'him', 'he', 'who', 'after', \"'s\", '\"', 'when', 'them']\n"
     ]
    }
   ],
   "source": [
    "print(nlargest(11, her_cos_sims_6, key = her_cos_sims_6.get))"
   ]
  },
  {
   "cell_type": "markdown",
   "id": "45e25ec5",
   "metadata": {},
   "source": [
    "Now we try 'them':"
   ]
  },
  {
   "cell_type": "code",
   "execution_count": 82,
   "id": "8a124a51",
   "metadata": {},
   "outputs": [],
   "source": [
    "them_cos_sims = {}\n",
    "for y in V:\n",
    "    them_cos_sims[y] = pmi_sim_1_15('them',y)"
   ]
  },
  {
   "cell_type": "code",
   "execution_count": 83,
   "id": "4d1bdde8",
   "metadata": {},
   "outputs": [
    {
     "name": "stdout",
     "output_type": "stream",
     "text": [
      "['them', 'him', 'me', 'her', 'you', 'then', 'others', 'up', 'himself', 'people', 'themselves']\n"
     ]
    }
   ],
   "source": [
    "print(nlargest(11, them_cos_sims, key = them_cos_sims.get))"
   ]
  },
  {
   "cell_type": "code",
   "execution_count": 84,
   "id": "aebacb11",
   "metadata": {},
   "outputs": [],
   "source": [
    "them_cos_sims_6 = {}\n",
    "for y in V:\n",
    "    them_cos_sims_6[y] = pmi_sim_6_15('them',y)"
   ]
  },
  {
   "cell_type": "code",
   "execution_count": 85,
   "id": "a4641ba1",
   "metadata": {},
   "outputs": [
    {
     "name": "stdout",
     "output_type": "stream",
     "text": [
      "['them', 'they', 'so', 'you', 'if', 'but', 'i', 'him', 'not', 'that', 'do']\n"
     ]
    }
   ],
   "source": [
    "print(nlargest(11, them_cos_sims_6, key = them_cos_sims_6.get))"
   ]
  },
  {
   "cell_type": "markdown",
   "id": "2c5e6d08",
   "metadata": {},
   "source": [
    "Now we try 'an':"
   ]
  },
  {
   "cell_type": "code",
   "execution_count": 86,
   "id": "e92cc04e",
   "metadata": {},
   "outputs": [],
   "source": [
    "an_cos_sims = {}\n",
    "for y in V:\n",
    "    an_cos_sims[y] = pmi_sim_1_15('an',y)"
   ]
  },
  {
   "cell_type": "code",
   "execution_count": 87,
   "id": "c8cc46b0",
   "metadata": {},
   "outputs": [
    {
     "name": "stdout",
     "output_type": "stream",
     "text": [
      "['an', 'its', 'more', 'not', 'one', 'it', 'no', 'but', 'or', 'most', 'this']\n"
     ]
    }
   ],
   "source": [
    "print(nlargest(11, an_cos_sims, key = an_cos_sims.get))"
   ]
  },
  {
   "cell_type": "code",
   "execution_count": 88,
   "id": "8f429737",
   "metadata": {},
   "outputs": [],
   "source": [
    "an_cos_sims_6 = {}\n",
    "for y in V:\n",
    "    an_cos_sims_6[y] = pmi_sim_6_15('an',y)"
   ]
  },
  {
   "cell_type": "code",
   "execution_count": 89,
   "id": "231d6974",
   "metadata": {},
   "outputs": [
    {
     "name": "stdout",
     "output_type": "stream",
     "text": [
      "['an', 'is', 'a', 'this', 'as', 'not', 'it', 'be', 'that', 'no', '\"']\n"
     ]
    }
   ],
   "source": [
    "print(nlargest(11, an_cos_sims_6, key = an_cos_sims_6.get))"
   ]
  },
  {
   "cell_type": "markdown",
   "id": "d070f542",
   "metadata": {},
   "source": [
    "Now we try 'running':"
   ]
  },
  {
   "cell_type": "code",
   "execution_count": 90,
   "id": "37755c0e",
   "metadata": {},
   "outputs": [],
   "source": [
    "running_cos_sims = {}\n",
    "for y in V:\n",
    "    running_cos_sims[y] = pmi_sim_1_15('running',y)"
   ]
  },
  {
   "cell_type": "code",
   "execution_count": 91,
   "id": "6a1b76f3",
   "metadata": {},
   "outputs": [
    {
     "name": "stdout",
     "output_type": "stream",
     "text": [
      "['running', 'run', 'ran', 'runs', 'operating', 'connecting', 'walking', 'heading', 'moving', 'working', 'going']\n"
     ]
    }
   ],
   "source": [
    "print(nlargest(11, running_cos_sims, key = running_cos_sims.get))"
   ]
  },
  {
   "cell_type": "code",
   "execution_count": 92,
   "id": "5024dd8b",
   "metadata": {},
   "outputs": [],
   "source": [
    "running_cos_sims_6 = {}\n",
    "for y in V:\n",
    "    running_cos_sims_6[y] = pmi_sim_6_15('running',y)"
   ]
  },
  {
   "cell_type": "code",
   "execution_count": 93,
   "id": "95bfad64",
   "metadata": {},
   "outputs": [
    {
     "name": "stdout",
     "output_type": "stream",
     "text": [
      "['running', 'runs', 'ran', 'run', 'drive', 'moving', 'train', 'pass', 'speed', 'bus', 'operating']\n"
     ]
    }
   ],
   "source": [
    "print(nlargest(11, running_cos_sims_6, key = running_cos_sims_6.get))"
   ]
  },
  {
   "cell_type": "markdown",
   "id": "c54f932a",
   "metadata": {},
   "source": [
    "According to the results above, it seems like nearest neighbors do tend to have the same POS taf as the query word, although it is clear that as the window size gets larger this is no longer the case (see for example 'transported' and 'running'). This pattern does not differ that much across different POS tags, although it holds even more often for more common POS tags such as pronouns and prepositions, and not so much for not so common tags such as conjugated verbs. In all cases we see that the nearest neighbors differ depending on the window size, where the changes occur more often for words which belongs to more than one POS tag (see for instance 'her'). Finally, since query words tend to have the same tag as their nearest neighbor, as it is expected we see that the very nearest neighbors are likely to share the same neighbors list (see 'his' and 'her')."
   ]
  },
  {
   "cell_type": "markdown",
   "id": "ce117695",
   "metadata": {},
   "source": [
    "5.3"
   ]
  },
  {
   "cell_type": "markdown",
   "id": "242e4a31",
   "metadata": {},
   "source": [
    "Now we try 'bank':"
   ]
  },
  {
   "cell_type": "code",
   "execution_count": 102,
   "id": "a98c82ba",
   "metadata": {},
   "outputs": [],
   "source": [
    "bank_cos_sims = {}\n",
    "for y in V:\n",
    "    bank_cos_sims[y] = pmi_sim_1_15('bank',y)"
   ]
  },
  {
   "cell_type": "code",
   "execution_count": 103,
   "id": "fea9f011",
   "metadata": {},
   "outputs": [
    {
     "name": "stdout",
     "output_type": "stream",
     "text": [
      "['bank', 'banks', 'company', 'insurance', 'corporation', 'railway', 'government', 'banking', 'companies', 'institute', 'conference']\n"
     ]
    }
   ],
   "source": [
    "print(nlargest(11, bank_cos_sims, key = bank_cos_sims.get))"
   ]
  },
  {
   "cell_type": "code",
   "execution_count": 104,
   "id": "28bf916b",
   "metadata": {},
   "outputs": [],
   "source": [
    "bank_cos_sims_6 = {}\n",
    "for y in V:\n",
    "    bank_cos_sims_6[y] = pmi_sim_6_15('bank',y)"
   ]
  },
  {
   "cell_type": "code",
   "execution_count": 105,
   "id": "82d75543",
   "metadata": {},
   "outputs": [
    {
     "name": "stdout",
     "output_type": "stream",
     "text": [
      "['bank', 'corporation', 'capital', 'railway', 'northern', 'branch', 'valley', 'banks', 'southern', 'lake', 'centre']\n"
     ]
    }
   ],
   "source": [
    "print(nlargest(11, bank_cos_sims_6, key = bank_cos_sims_6.get))"
   ]
  },
  {
   "cell_type": "markdown",
   "id": "c12906ae",
   "metadata": {},
   "source": [
    "Now we try 'cell':"
   ]
  },
  {
   "cell_type": "code",
   "execution_count": 106,
   "id": "f8ae65bb",
   "metadata": {},
   "outputs": [],
   "source": [
    "cell_cos_sims = {}\n",
    "for y in V:\n",
    "    cell_cos_sims[y] = pmi_sim_1_15('cell',y)"
   ]
  },
  {
   "cell_type": "code",
   "execution_count": 107,
   "id": "94a78197",
   "metadata": {},
   "outputs": [
    {
     "name": "stdout",
     "output_type": "stream",
     "text": [
      "['cell', 'cells', 'cellular', 'protein', 'tissue', 'brain', 'proteins', 'tissues', 'growth', 'human', 'enzyme']\n"
     ]
    }
   ],
   "source": [
    "print(nlargest(11, cell_cos_sims, key = cell_cos_sims.get))"
   ]
  },
  {
   "cell_type": "code",
   "execution_count": 108,
   "id": "e38036b7",
   "metadata": {},
   "outputs": [],
   "source": [
    "cell_cos_sims_6 = {}\n",
    "for y in V:\n",
    "    cell_cos_sims_6[y] = pmi_sim_6_15('cell',y)"
   ]
  },
  {
   "cell_type": "code",
   "execution_count": 109,
   "id": "7c6fd0fa",
   "metadata": {},
   "outputs": [
    {
     "name": "stdout",
     "output_type": "stream",
     "text": [
      "['cell', 'cells', 'function', 'protein', 'dna', 'surface', 'blood', 'tissue', 'membrane', 'chemical', 'flow']\n"
     ]
    }
   ],
   "source": [
    "print(nlargest(11, cell_cos_sims_6, key = cell_cos_sims_6.get))"
   ]
  },
  {
   "cell_type": "markdown",
   "id": "ae214bbb",
   "metadata": {},
   "source": [
    "Now we try 'apple':"
   ]
  },
  {
   "cell_type": "code",
   "execution_count": 110,
   "id": "5916b3e7",
   "metadata": {},
   "outputs": [],
   "source": [
    "apple_cos_sims = {}\n",
    "for y in V:\n",
    "    apple_cos_sims[y] = pmi_sim_1_15('apple',y)"
   ]
  },
  {
   "cell_type": "code",
   "execution_count": 111,
   "id": "b2331871",
   "metadata": {},
   "outputs": [
    {
     "name": "stdout",
     "output_type": "stream",
     "text": [
      "['apple', 'cherry', 'chili', 'desktop', 'olive', 'tulip', 'orange', 'palm', 'pine', 'atari', 'wines']\n"
     ]
    }
   ],
   "source": [
    "print(nlargest(11, apple_cos_sims, key = apple_cos_sims.get))"
   ]
  },
  {
   "cell_type": "code",
   "execution_count": 112,
   "id": "228fae23",
   "metadata": {},
   "outputs": [],
   "source": [
    "apple_cos_sims_6 = {}\n",
    "for y in V:\n",
    "    apple_cos_sims_6[y] = pmi_sim_6_15('apple',y)"
   ]
  },
  {
   "cell_type": "code",
   "execution_count": 113,
   "id": "4e826295",
   "metadata": {},
   "outputs": [
    {
     "name": "stdout",
     "output_type": "stream",
     "text": [
      "['apple', 'microsoft', 'computers', 'os', 'desktop', 'mac', 'hardware', 'macintosh', 'software', 'devices', 'windows']\n"
     ]
    }
   ],
   "source": [
    "print(nlargest(11, apple_cos_sims_6, key = apple_cos_sims_6.get))"
   ]
  },
  {
   "cell_type": "markdown",
   "id": "a6f7948a",
   "metadata": {},
   "source": [
    "Now we try 'axes':"
   ]
  },
  {
   "cell_type": "code",
   "execution_count": 114,
   "id": "c9e1ce0e",
   "metadata": {},
   "outputs": [],
   "source": [
    "axes_cos_sims = {}\n",
    "for y in V:\n",
    "    axes_cos_sims[y] = pmi_sim_1_15('axes',y)"
   ]
  },
  {
   "cell_type": "code",
   "execution_count": 115,
   "id": "62743b9f",
   "metadata": {},
   "outputs": [
    {
     "name": "stdout",
     "output_type": "stream",
     "text": [
      "['axes', 'phases', 'tributaries', 'qualities', 'paths', 'viewpoints', 'spells', 'sorts', 'branches', 'motifs', 'frames']\n"
     ]
    }
   ],
   "source": [
    "print(nlargest(11, axes_cos_sims, key = axes_cos_sims.get))"
   ]
  },
  {
   "cell_type": "code",
   "execution_count": 116,
   "id": "85a4c723",
   "metadata": {},
   "outputs": [],
   "source": [
    "axes_cos_sims_6 = {}\n",
    "for y in V:\n",
    "    axes_cos_sims_6[y] = pmi_sim_6_15('axes',y)"
   ]
  },
  {
   "cell_type": "code",
   "execution_count": 117,
   "id": "f61e26bf",
   "metadata": {},
   "outputs": [
    {
     "name": "stdout",
     "output_type": "stream",
     "text": [
      "['axes', 'parallel', 'horizontal', 'angles', 'strings', 'dimensions', 'shapes', 'axis', 'frames', 'vertical', 'vector']\n"
     ]
    }
   ],
   "source": [
    "print(nlargest(11, axes_cos_sims_6, key = axes_cos_sims_6.get))"
   ]
  },
  {
   "cell_type": "markdown",
   "id": "907547f3",
   "metadata": {},
   "source": [
    "Now we try 'frame':"
   ]
  },
  {
   "cell_type": "code",
   "execution_count": 118,
   "id": "1f9cc30c",
   "metadata": {},
   "outputs": [],
   "source": [
    "frame_cos_sims = {}\n",
    "for y in V:\n",
    "    frame_cos_sims[y] = pmi_sim_1_15('frame',y)"
   ]
  },
  {
   "cell_type": "code",
   "execution_count": 119,
   "id": "6af3f1c4",
   "metadata": {},
   "outputs": [
    {
     "name": "stdout",
     "output_type": "stream",
     "text": [
      "['frame', 'brick', 'frames', 'two-story', 'rear', 'structure', 'panels', 'framed', 'storey', 'wooden', 'wheels']\n"
     ]
    }
   ],
   "source": [
    "print(nlargest(11, frame_cos_sims, key = frame_cos_sims.get))"
   ]
  },
  {
   "cell_type": "code",
   "execution_count": 120,
   "id": "76defc7e",
   "metadata": {},
   "outputs": [],
   "source": [
    "frame_cos_sims_6 = {}\n",
    "for y in V:\n",
    "    frame_cos_sims_6[y] = pmi_sim_6_15('frame',y)"
   ]
  },
  {
   "cell_type": "code",
   "execution_count": 121,
   "id": "69a6d9ff",
   "metadata": {},
   "outputs": [
    {
     "name": "stdout",
     "output_type": "stream",
     "text": [
      "['frame', 'roof', 'rear', 'wooden', 'structure', 'brick', 'rectangular', 'wheel', 'window', 'steel', 'concrete']\n"
     ]
    }
   ],
   "source": [
    "print(nlargest(11, frame_cos_sims_6, key = frame_cos_sims_6.get))"
   ]
  },
  {
   "cell_type": "markdown",
   "id": "136f8493",
   "metadata": {},
   "source": [
    "Now we try 'light':"
   ]
  },
  {
   "cell_type": "code",
   "execution_count": 122,
   "id": "1ee1a8ff",
   "metadata": {},
   "outputs": [],
   "source": [
    "light_cos_sims = {}\n",
    "for y in V:\n",
    "    light_cos_sims[y] = pmi_sim_1_15('light',y)"
   ]
  },
  {
   "cell_type": "code",
   "execution_count": 123,
   "id": "84cef02d",
   "metadata": {},
   "outputs": [
    {
     "name": "stdout",
     "output_type": "stream",
     "text": [
      "['light', 'heavy', 'lights', 'water', 'dark', 'fire', 'regiment', 'division', 'force', 'large', 'pale']\n"
     ]
    }
   ],
   "source": [
    "print(nlargest(11, light_cos_sims, key = light_cos_sims.get))"
   ]
  },
  {
   "cell_type": "code",
   "execution_count": 124,
   "id": "eeb1ced3",
   "metadata": {},
   "outputs": [],
   "source": [
    "light_cos_sims_6 = {}\n",
    "for y in V:\n",
    "    light_cos_sims_6[y] = pmi_sim_6_15('light',y)"
   ]
  },
  {
   "cell_type": "code",
   "execution_count": 125,
   "id": "5dd5851b",
   "metadata": {},
   "outputs": [
    {
     "name": "stdout",
     "output_type": "stream",
     "text": [
      "['light', 'heavy', 'surface', 'dark', 'color', 'body', 'water', 'sometimes', 'low', 'blue', 'type']\n"
     ]
    }
   ],
   "source": [
    "print(nlargest(11, light_cos_sims_6, key = light_cos_sims_6.get))"
   ]
  },
  {
   "cell_type": "markdown",
   "id": "ae235ba1",
   "metadata": {},
   "source": [
    "Now we try 'well':"
   ]
  },
  {
   "cell_type": "code",
   "execution_count": 126,
   "id": "fd3da174",
   "metadata": {},
   "outputs": [],
   "source": [
    "well_cos_sims = {}\n",
    "for y in V:\n",
    "    well_cos_sims[y] = pmi_sim_1_15('well',y)"
   ]
  },
  {
   "cell_type": "code",
   "execution_count": 127,
   "id": "5e2eee29",
   "metadata": {},
   "outputs": [
    {
     "name": "stdout",
     "output_type": "stream",
     "text": [
      "['well', 'poorly', 'be', 'however', 'there', 'been', 'united', 'preserved', 'discussion', 'debate', 'list']\n"
     ]
    }
   ],
   "source": [
    "print(nlargest(11, well_cos_sims, key = well_cos_sims.get))"
   ]
  },
  {
   "cell_type": "code",
   "execution_count": 128,
   "id": "9b76c893",
   "metadata": {},
   "outputs": [],
   "source": [
    "well_cos_sims_6 = {}\n",
    "for y in V:\n",
    "    well_cos_sims_6[y] = pmi_sim_6_15('well',y)"
   ]
  },
  {
   "cell_type": "code",
   "execution_count": 129,
   "id": "1442399c",
   "metadata": {},
   "outputs": [
    {
     "name": "stdout",
     "output_type": "stream",
     "text": [
      "['well', 'such', 'other', 'many', 'most', 'are', 'some', 'like', 'have', 'more', 'all']\n"
     ]
    }
   ],
   "source": [
    "print(nlargest(11, well_cos_sims_6, key = well_cos_sims_6.get))"
   ]
  },
  {
   "cell_type": "markdown",
   "id": "22f0a366",
   "metadata": {},
   "source": [
    "As we can see from this results, multisense words do tend to have much more variation in the POS tags of the words that appear in their nearest neighbors. For most, it appears to be the case that whenever the window size is of 1, the word tends to have as neighbors words with similar POS tags and which are related to it in its more traiditional sense, whereas when w = 6 the senses of the neighbors vary much more or are less traditional (see for instance 'apple', where for w = 6 all of its neighbors are related to computers). In general this shows that it is very hard to work with multisense words and determine their speech of tag based on the tags of its neighbors, but modulating the window size can help us narrow down to neighbors which have the same tag as the tag that would be assigned to the more common or traditional sense of a multisense word."
   ]
  }
 ],
 "metadata": {
  "accelerator": "GPU",
  "colab": {
   "gpuType": "T4",
   "provenance": []
  },
  "kernelspec": {
   "display_name": "Python 3 (ipykernel)",
   "language": "python",
   "name": "python3"
  },
  "language_info": {
   "codemirror_mode": {
    "name": "ipython",
    "version": 3
   },
   "file_extension": ".py",
   "mimetype": "text/x-python",
   "name": "python",
   "nbconvert_exporter": "python",
   "pygments_lexer": "ipython3",
   "version": "3.11.4"
  }
 },
 "nbformat": 4,
 "nbformat_minor": 5
}
