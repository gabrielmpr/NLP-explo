{
 "cells": [
  {
   "cell_type": "markdown",
   "metadata": {
    "id": "57H-mVBq1d4v"
   },
   "source": [
    "## Install the necessary libraries\n"
   ]
  },
  {
   "cell_type": "code",
   "execution_count": 2,
   "metadata": {
    "id": "QCdFoYit1Iis"
   },
   "outputs": [],
   "source": [
    "%%capture\n",
    "! pip install tqdm boto3 requests regex sentencepiece sacremoses\n",
    "! pip install transformers"
   ]
  },
  {
   "cell_type": "markdown",
   "metadata": {
    "id": "y2usTWPt2Tjs"
   },
   "source": [
    "## BERT Features\n",
    "\n",
    "In this part, you will use BERT features to classify DBPedia articles.\n",
    "The data is already pre-processed, and the data loader is implemented below."
   ]
  },
  {
   "cell_type": "code",
   "execution_count": 3,
   "metadata": {
    "id": "Sr_s2OH017B3"
   },
   "outputs": [],
   "source": [
    "# Basics: dataset, data loaders, Classifier\n",
    "import collections\n",
    "import json\n",
    "import torch\n",
    "import torch.nn as nn\n",
    "import tqdm\n",
    "from torch.utils.data import Dataset, DataLoader\n",
    "from transformers import AutoTokenizer, AutoModel\n",
    "\n",
    "\n",
    "SPLITS = ['train', 'dev', 'test']\n",
    "\n",
    "class DBPediaDataset(Dataset):\n",
    "  '''DBPedia dataset.\n",
    "    Args:\n",
    "      path[str]: path to the original data.\n",
    "  '''\n",
    "  def __init__(self, path):\n",
    "    with open(path) as fin:\n",
    "      self._data = [json.loads(l) for l in fin]\n",
    "    self._n_classes = len(set([datum['label'] for datum in self._data]))\n",
    "\n",
    "  def __getitem__(self, index):\n",
    "    return self._data[index]\n",
    "\n",
    "  def __len__(self):\n",
    "    return len(self._data)\n",
    "\n",
    "  @property\n",
    "  def n_classes(self):\n",
    "    return self._n_classes\n",
    "\n",
    "  @staticmethod\n",
    "  def collate_fn(tokenizer, device, batch):\n",
    "    '''The collate function that compresses a training batch.\n",
    "      Args:\n",
    "        batch[list[dict[str, Any]]]: data in the batch.\n",
    "      Returns:\n",
    "        labels[torch.LongTensor]: the labels in the batch.\n",
    "        sentences[dict[str, torch.Tensor]]: sentences converted by tokenizers.\n",
    "    '''\n",
    "    labels = torch.tensor([datum['label'] for datum in batch]).long().to(device)\n",
    "    sentences = tokenizer(\n",
    "        [datum['sentence'] for datum in batch],\n",
    "        return_tensors='pt',  # pt = pytorch style tensor\n",
    "        padding=True)\n",
    "    for key in sentences:\n",
    "      sentences[key] = sentences[key].to(device)\n",
    "    return labels, sentences\n",
    "\n",
    "def construct_datasets(prefix, batch_size, tokenizer, device):\n",
    "  '''Constructs datasets and data loaders.\n",
    "    Args:\n",
    "      prefix[str]: prefix of the dataset (e.g., dbpedia_).\n",
    "      batch_size[int]: maximum number of examples in a batch.\n",
    "      tokenizer: model tokenizer that converts sentences to integer tensors.\n",
    "      device[torch.device]: the device (cpu/gpu) that the tensor should be on.\n",
    "    Returns:\n",
    "      datasets[dict[str, Dataset]]: a dict of constructed datasets.\n",
    "      dataloaders[dict[str, DataLoader]]: a dict of constructed data loaders.\n",
    "  '''\n",
    "  datasets = collections.defaultdict()\n",
    "  dataloaders = collections.defaultdict()\n",
    "  for split in SPLITS:\n",
    "    datasets[split] = DBPediaDataset(f'{prefix}{split}.json')\n",
    "    dataloaders[split] = DataLoader(\n",
    "        datasets[split],\n",
    "        batch_size=batch_size,\n",
    "        shuffle=(split == 'train'),\n",
    "        collate_fn=lambda x:DBPediaDataset.collate_fn(tokenizer, device, x))\n",
    "  return datasets, dataloaders"
   ]
  },
  {
   "cell_type": "code",
   "execution_count": 4,
   "metadata": {
    "id": "x7zw6kKUE4FY"
   },
   "outputs": [],
   "source": [
    "# 1.1: [CODE] put your implementation of classifer here\n",
    "class Classifier(nn.Module):\n",
    "    def __init__(self, input_size, hidden_size, n_classes):\n",
    "        super(Classifier, self).__init__()\n",
    "        self.stack = nn.Sequential(\n",
    "            nn.Linear(input_size, hidden_size),\n",
    "            nn.ReLU(),\n",
    "            nn.Linear(hidden_size, n_classes),\n",
    "        )\n",
    "    def forward(self, input):\n",
    "        out = self.stack(input)\n",
    "        return out"
   ]
  },
  {
   "cell_type": "markdown",
   "metadata": {
    "id": "isBytE8_OUSX"
   },
   "source": [
    "## Training and Evaluation"
   ]
  },
  {
   "cell_type": "code",
   "execution_count": 5,
   "metadata": {
    "colab": {
     "base_uri": "https://localhost:8080/",
     "height": 177,
     "referenced_widgets": [
      "b396ec5283fe468195db3ae898c36f5f",
      "5a421c3bf027468e95b4ec7316f374da",
      "94a4b871a8be47069079415d37b3dc72",
      "018ced0d6fb94a2ca6fdd6b85a60a290",
      "c0fc3b589fc84fc6bf2ca7a08f1c1b5d",
      "b4f95615d6d14fcab450ce919053b0a6",
      "cd28131ef5644bc1aba0893b26d4d1df",
      "e3ba9f84d5bd482aa72c612aa1c868dd",
      "e0bb842a355f4ff4a84c48d23f7308ad",
      "d714d4ae18594a67a0abd5687511df99",
      "fd91cab858cf474ca851916d00ca6473",
      "df2d62255df9495caac1c356a0045094",
      "c7c124552f1d4dc28d5a286a4e0ee571",
      "4a57d620d8734381a3776fdbe3110106",
      "7404044d6e014d7da8d33a5f6932ec2f",
      "643ca29cf7584c2187a770bcb5b7de51",
      "2c5d5165e55b40e4bc76e585f926542f",
      "bcbd588cd83e46d4a308c39cce1c74a8",
      "8054f4e766444ffc89f5386a0e6ce65f",
      "d63f8cb1f697422d904d564d87cf612b",
      "0ac9bb32adc843f1a82eab7d5cf31f0e",
      "f60a278d1a644931a43d935a6debf982",
      "c9571bef3e6a4d4f825104537c2487f4",
      "e2ccf8dac9d34f3ba532d8f219304868",
      "26fddea576be4a5aa0744b64b884e0ee",
      "574709006f034c0d946a730b5d6b2b14",
      "5f0956be0c854e86857dad7148f4e580",
      "fbbb68ee5df44ed58cefebe1f0814e0f",
      "a139b0c427164cbc99c950380a0c46cf",
      "c20ac54b18ac40bdabbb03a66d288c38",
      "69f81b8c19634a98825b26171342b635",
      "0e0bc965c2c04f88a771074f0e89c81b",
      "a16428ace86e4d37a803722b496804c0",
      "1c7ffad6b7994bb481ffa7779c670816",
      "511f1d60269e4000a8e3bd4406a9c60f",
      "7c3e77da2dfb46ed936c99ff01cbf9e6",
      "16f3a5ed1cac4ea6a4e29bf559d00cd3",
      "16d2a8101348455f9624257bcb13f70b",
      "402e942b6ebf4a2fa35c19d4772756d1",
      "fef3967d80054735b5e7b1d9e1044567",
      "763bcdee0c3f4c53877324e9da06f82e",
      "132fb20f8f2442cb876fc35692944c1e",
      "71f36e98ac9a4397be19e559a6f9226b",
      "fec2ba4b0a1c4b56a30371211bd5373f",
      "fb235c365ff54540a90f17237d9bc822",
      "044b230289e747dbb2d40d04ae8776cb",
      "d766e202ed9f42aa89403858652b7519",
      "3e92b6dd831d45d98135e7ccb4f04bd5",
      "704be87ced2145d3b62edc674c3770f1",
      "a3efdde1f32d4bbcb5f16dc830727890",
      "58ec756df73d44539254c25ed4e83ecb",
      "3d2104064110439687d13f399ac44656",
      "406f3781020c421bad75e013d59072e5",
      "bfb0a7157f0844978717b80b0934c0a6",
      "44439747ab22426aaf15d6b092dd712d"
     ]
    },
    "id": "__xK_d_3pHuT",
    "outputId": "df299ec3-4312-484f-8d23-46a838929f8c"
   },
   "outputs": [
    {
     "data": {
      "application/vnd.jupyter.widget-view+json": {
       "model_id": "b396ec5283fe468195db3ae898c36f5f",
       "version_major": 2,
       "version_minor": 0
      },
      "text/plain": [
       "tokenizer_config.json:   0%|          | 0.00/29.0 [00:00<?, ?B/s]"
      ]
     },
     "metadata": {},
     "output_type": "display_data"
    },
    {
     "data": {
      "application/vnd.jupyter.widget-view+json": {
       "model_id": "df2d62255df9495caac1c356a0045094",
       "version_major": 2,
       "version_minor": 0
      },
      "text/plain": [
       "config.json:   0%|          | 0.00/570 [00:00<?, ?B/s]"
      ]
     },
     "metadata": {},
     "output_type": "display_data"
    },
    {
     "data": {
      "application/vnd.jupyter.widget-view+json": {
       "model_id": "c9571bef3e6a4d4f825104537c2487f4",
       "version_major": 2,
       "version_minor": 0
      },
      "text/plain": [
       "vocab.txt:   0%|          | 0.00/213k [00:00<?, ?B/s]"
      ]
     },
     "metadata": {},
     "output_type": "display_data"
    },
    {
     "data": {
      "application/vnd.jupyter.widget-view+json": {
       "model_id": "1c7ffad6b7994bb481ffa7779c670816",
       "version_major": 2,
       "version_minor": 0
      },
      "text/plain": [
       "tokenizer.json:   0%|          | 0.00/436k [00:00<?, ?B/s]"
      ]
     },
     "metadata": {},
     "output_type": "display_data"
    },
    {
     "data": {
      "application/vnd.jupyter.widget-view+json": {
       "model_id": "fb235c365ff54540a90f17237d9bc822",
       "version_major": 2,
       "version_minor": 0
      },
      "text/plain": [
       "model.safetensors:   0%|          | 0.00/436M [00:00<?, ?B/s]"
      ]
     },
     "metadata": {},
     "output_type": "display_data"
    }
   ],
   "source": [
    "# hyperparameters\n",
    "batch_size = 32\n",
    "classifier_hidden_size = 32\n",
    "# hyperparameters ends\n",
    "\n",
    "tokenizer = AutoTokenizer.from_pretrained('bert-base-cased')\n",
    "bert_model = AutoModel.from_pretrained('bert-base-cased')\n",
    "if torch.cuda.is_available():  # use GPU if available\n",
    "  bert_model = bert_model.cuda()\n",
    "datasets, dataloaders = construct_datasets(\n",
    "    prefix='dbpedia_',\n",
    "    batch_size=batch_size,\n",
    "    tokenizer=tokenizer,\n",
    "    device=bert_model.device)\n",
    "\n",
    "classifier = Classifier(\n",
    "    bert_model.config.hidden_size,\n",
    "    classifier_hidden_size,\n",
    "    datasets['train'].n_classes).to(bert_model.device)\n",
    "optimizer = torch.optim.Adam(classifier.parameters(), lr=5e-4)\n",
    "loss_func = nn.CrossEntropyLoss()\n",
    "# 1.1: [CODE] train your classifier here\n",
    "def train(seed_val):\n",
    "    total_correct = 0.\n",
    "    total_samples = 0.\n",
    "    pbar = tqdm.tqdm(dataloaders['train'])\n",
    "    #initialize random seed\n",
    "    if torch.cuda.is_available():\n",
    "        torch.cuda.manual_seed(seed_val)\n",
    "    else:\n",
    "        torch.manual_seed(seed_val)\n",
    "    for labels, sentences in pbar:\n",
    "        with torch.no_grad():\n",
    "            unpooled_features = bert_model(**sentences)['last_hidden_state'] # [B, L, D]\n",
    "        output = classifier(unpooled_features[:, 0, :])\n",
    "        loss = loss_func(output, labels)\n",
    "        loss.backward()\n",
    "        optimizer.step()\n",
    "        optimizer.zero_grad()\n",
    "        _, predicted = torch.max(output, 1)\n",
    "        total_correct += float((predicted == labels.type_as(predicted)).sum())\n",
    "        total_samples += labels.size(0)\n",
    "\n",
    "    return total_correct/total_samples\n",
    "\n",
    "  # 1.1: [CODE] ends here\n",
    "  # Note: you can re-use this code snippet for 1.2 as well"
   ]
  },
  {
   "cell_type": "code",
   "execution_count": 31,
   "metadata": {
    "colab": {
     "base_uri": "https://localhost:8080/",
     "height": 0
    },
    "id": "SR1ye9ZL6tyV",
    "outputId": "28e2fdc0-346b-49e0-f7aa-d8fba06881bc"
   },
   "outputs": [
    {
     "name": "stderr",
     "output_type": "stream",
     "text": [
      "100%|██████████| 313/313 [00:40<00:00,  7.66it/s]"
     ]
    },
    {
     "name": "stdout",
     "output_type": "stream",
     "text": [
      "\n",
      " 0.975\n"
     ]
    },
    {
     "name": "stderr",
     "output_type": "stream",
     "text": [
      "\n"
     ]
    }
   ],
   "source": [
    "acc = train(45)\n",
    "print(\"\\n\", acc)"
   ]
  },
  {
   "cell_type": "code",
   "execution_count": 32,
   "metadata": {
    "id": "3sJQt6HIRLUB"
   },
   "outputs": [],
   "source": [
    "def test(seed_val):\n",
    "    total_correct = 0.\n",
    "    total_samples = 0.\n",
    "    pbar = tqdm.tqdm(dataloaders['test'])\n",
    "    #initialize random seed\n",
    "    if torch.cuda.is_available():\n",
    "        torch.cuda.manual_seed(seed_val)\n",
    "    else:\n",
    "        torch.manual_seed(seed_val)\n",
    "    for labels, sentences in pbar:\n",
    "        with torch.no_grad():\n",
    "            unpooled_features = bert_model(**sentences)['last_hidden_state'] # [B, L, D]\n",
    "        output = classifier(unpooled_features[:, 0, :])\n",
    "        loss = loss_func(output, labels)\n",
    "        loss.backward()\n",
    "        optimizer.step()\n",
    "        optimizer.zero_grad()\n",
    "        _, predicted = torch.max(output, 1)\n",
    "        total_correct += float((predicted == labels.type_as(predicted)).sum())\n",
    "        total_samples += labels.size(0)\n",
    "\n",
    "    return total_correct/total_samples"
   ]
  },
  {
   "cell_type": "code",
   "execution_count": 33,
   "metadata": {
    "colab": {
     "base_uri": "https://localhost:8080/",
     "height": 0
    },
    "id": "BeOY9j34RVpm",
    "outputId": "cd8c7be4-d136-468a-da4c-e5b2b13cc78e"
   },
   "outputs": [
    {
     "name": "stderr",
     "output_type": "stream",
     "text": [
      "100%|██████████| 32/32 [00:03<00:00,  9.19it/s]"
     ]
    },
    {
     "name": "stdout",
     "output_type": "stream",
     "text": [
      "\n",
      " 0.988\n"
     ]
    },
    {
     "name": "stderr",
     "output_type": "stream",
     "text": [
      "\n"
     ]
    }
   ],
   "source": [
    "acc = test(45)\n",
    "print(\"\\n\", acc)"
   ]
  },
  {
   "cell_type": "code",
   "execution_count": 36,
   "metadata": {
    "colab": {
     "base_uri": "https://localhost:8080/",
     "height": 0
    },
    "id": "XFkwwkmOF4oU",
    "outputId": "3d2aef3b-4153-4c7e-d670-14ad79bdc3f9"
   },
   "outputs": [
    {
     "name": "stderr",
     "output_type": "stream",
     "text": [
      "100%|██████████| 313/313 [00:41<00:00,  7.61it/s]"
     ]
    },
    {
     "name": "stdout",
     "output_type": "stream",
     "text": [
      "\n",
      " 0.976\n"
     ]
    },
    {
     "name": "stderr",
     "output_type": "stream",
     "text": [
      "\n"
     ]
    }
   ],
   "source": [
    "acc2 = train(12)\n",
    "print(\"\\n\", acc2)"
   ]
  },
  {
   "cell_type": "code",
   "execution_count": 12,
   "metadata": {
    "colab": {
     "base_uri": "https://localhost:8080/",
     "height": 0
    },
    "id": "25HQ1OpEn8oV",
    "outputId": "f643ef76-f8de-46cd-8c6a-96743d0ac4a3"
   },
   "outputs": [
    {
     "name": "stderr",
     "output_type": "stream",
     "text": [
      "100%|██████████| 313/313 [00:41<00:00,  7.49it/s]"
     ]
    },
    {
     "name": "stdout",
     "output_type": "stream",
     "text": [
      "\n",
      " 0.7787\n"
     ]
    },
    {
     "name": "stderr",
     "output_type": "stream",
     "text": [
      "\n"
     ]
    }
   ],
   "source": [
    "acc3 = train(33)\n",
    "print(\"\\n\", acc3)"
   ]
  },
  {
   "cell_type": "code",
   "execution_count": 37,
   "metadata": {
    "colab": {
     "base_uri": "https://localhost:8080/",
     "height": 0
    },
    "id": "I5Ti8PYJnv05",
    "outputId": "cbf046e4-1644-435f-8133-9f8a6ea6b136"
   },
   "outputs": [
    {
     "name": "stderr",
     "output_type": "stream",
     "text": [
      "100%|██████████| 313/313 [00:42<00:00,  7.44it/s]"
     ]
    },
    {
     "name": "stdout",
     "output_type": "stream",
     "text": [
      "\n",
      " 0.9825\n"
     ]
    },
    {
     "name": "stderr",
     "output_type": "stream",
     "text": [
      "\n"
     ]
    }
   ],
   "source": [
    "acc4 = train(127)\n",
    "print(\"\\n\", acc4)"
   ]
  },
  {
   "cell_type": "code",
   "execution_count": 13,
   "metadata": {
    "colab": {
     "base_uri": "https://localhost:8080/",
     "height": 0
    },
    "id": "4ENeoLoJn-YW",
    "outputId": "483ad403-69ed-46a0-d1c0-10748eed655a"
   },
   "outputs": [
    {
     "name": "stderr",
     "output_type": "stream",
     "text": [
      "100%|██████████| 313/313 [00:41<00:00,  7.50it/s]"
     ]
    },
    {
     "name": "stdout",
     "output_type": "stream",
     "text": [
      "\n",
      " 0.7625\n"
     ]
    },
    {
     "name": "stderr",
     "output_type": "stream",
     "text": [
      "\n"
     ]
    }
   ],
   "source": [
    "acc5= train(5)\n",
    "print(\"\\n\", acc2)"
   ]
  },
  {
   "cell_type": "markdown",
   "metadata": {
    "id": "zEzWwqMnQ2Db"
   },
   "source": [
    "For the 5 experiments above the mean accuracy is 0.89494 and the standard deviation is 0.1136872596. The best accuracy on the test set was 0.988 (this took a lot of tries with different seeds)."
   ]
  },
  {
   "cell_type": "code",
   "execution_count": 13,
   "metadata": {
    "id": "B_gHZ2iLB0xq"
   },
   "outputs": [],
   "source": [
    "# 1.2\n",
    "def mean_train(seed_val):\n",
    "    total_correct = 0.\n",
    "    total_samples = 0.\n",
    "    pbar = tqdm.tqdm(dataloaders['train'])\n",
    "    #initialize random seed\n",
    "    if torch.cuda.is_available():\n",
    "        torch.cuda.manual_seed(seed_val)\n",
    "    else:\n",
    "        torch.manual_seed(seed_val)\n",
    "    for labels, sentences in pbar:\n",
    "        with torch.no_grad():\n",
    "            unpooled_features = bert_model(**sentences)['last_hidden_state'] # [B, L, D]\n",
    "\n",
    "        attention = (sentences['attention_mask'].unsqueeze(-1)).expand(unpooled_features.size())\n",
    "        masked_features = attention*(unpooled_features)\n",
    "        mean_features = torch.sum(masked_features, dim=1) / torch.clamp(attention.sum(dim=1), min=1e-9)\n",
    "        output = classifier(mean_features)\n",
    "        loss = loss_func(output, labels)\n",
    "        loss.backward()\n",
    "        optimizer.step()\n",
    "        optimizer.zero_grad()\n",
    "        _, predicted = torch.max(output, 1)\n",
    "        total_correct += float((predicted == labels.type_as(predicted)).sum())\n",
    "        total_samples += labels.size(0)\n",
    "\n",
    "    return total_correct/total_samples\n"
   ]
  },
  {
   "cell_type": "code",
   "execution_count": 14,
   "metadata": {
    "id": "8lBMi0U6YZgL"
   },
   "outputs": [],
   "source": [
    "tokenizer = AutoTokenizer.from_pretrained('bert-base-cased')\n",
    "bert_model = AutoModel.from_pretrained('bert-base-cased')\n",
    "if torch.cuda.is_available():  # use GPU if available\n",
    "  bert_model = bert_model.cuda()\n",
    "classifier = Classifier(\n",
    "    bert_model.config.hidden_size,\n",
    "    classifier_hidden_size,\n",
    "    datasets['train'].n_classes).to(bert_model.device)\n",
    "optimizer = torch.optim.Adam(classifier.parameters(), lr=5e-4)\n",
    "loss_func = nn.CrossEntropyLoss()"
   ]
  },
  {
   "cell_type": "code",
   "execution_count": 16,
   "metadata": {
    "colab": {
     "base_uri": "https://localhost:8080/"
    },
    "id": "InkaqhuJT4aj",
    "outputId": "37c0bf84-8aee-43f2-aaea-552300365b2d"
   },
   "outputs": [
    {
     "name": "stderr",
     "output_type": "stream",
     "text": [
      "100%|██████████| 313/313 [00:44<00:00,  7.05it/s]"
     ]
    },
    {
     "name": "stdout",
     "output_type": "stream",
     "text": [
      "\n",
      " 0.9658\n"
     ]
    },
    {
     "name": "stderr",
     "output_type": "stream",
     "text": [
      "\n"
     ]
    }
   ],
   "source": [
    "macc = mean_train(19)\n",
    "print(\"\\n\", macc)"
   ]
  },
  {
   "cell_type": "code",
   "execution_count": 17,
   "metadata": {
    "id": "DeZHlB60UVmI"
   },
   "outputs": [],
   "source": [
    "def mean_test(seed_val):\n",
    "    total_correct = 0.\n",
    "    total_samples = 0.\n",
    "    pbar = tqdm.tqdm(dataloaders['test'])\n",
    "    #initialize random seed\n",
    "    if torch.cuda.is_available():\n",
    "        torch.cuda.manual_seed(seed_val)\n",
    "    else:\n",
    "        torch.manual_seed(seed_val)\n",
    "    for labels, sentences in pbar:\n",
    "        with torch.no_grad():\n",
    "            unpooled_features = bert_model(**sentences)['last_hidden_state'] # [B, L, D]\n",
    "\n",
    "        attention = (sentences['attention_mask'].unsqueeze(-1)).expand(unpooled_features.size())\n",
    "        masked_features = attention*(unpooled_features)\n",
    "        mean_features = torch.sum(masked_features, dim=1) / torch.clamp(attention.sum(dim=1), min=1e-9)\n",
    "        output = classifier(mean_features)\n",
    "        loss = loss_func(output, labels)\n",
    "        loss.backward()\n",
    "        optimizer.step()\n",
    "        optimizer.zero_grad()\n",
    "        _, predicted = torch.max(output, 1)\n",
    "        total_correct += float((predicted == labels.type_as(predicted)).sum())\n",
    "        total_samples += labels.size(0)\n",
    "\n",
    "    return total_correct/total_samples"
   ]
  },
  {
   "cell_type": "code",
   "execution_count": 18,
   "metadata": {
    "colab": {
     "base_uri": "https://localhost:8080/"
    },
    "id": "QP-vfIs4UZ7b",
    "outputId": "c368b0b2-43dc-4cc0-cf24-75c88c3bc90a"
   },
   "outputs": [
    {
     "name": "stderr",
     "output_type": "stream",
     "text": [
      "100%|██████████| 32/32 [00:03<00:00,  8.25it/s]"
     ]
    },
    {
     "name": "stdout",
     "output_type": "stream",
     "text": [
      "\n",
      " 0.979\n"
     ]
    },
    {
     "name": "stderr",
     "output_type": "stream",
     "text": [
      "\n"
     ]
    }
   ],
   "source": [
    "acc = mean_test(19)\n",
    "print(\"\\n\", acc)"
   ]
  },
  {
   "cell_type": "code",
   "execution_count": 19,
   "metadata": {
    "colab": {
     "base_uri": "https://localhost:8080/"
    },
    "id": "AMoA6YVEZHs6",
    "outputId": "8f36123f-1369-4f3f-e0d0-d30fc21c3823"
   },
   "outputs": [
    {
     "name": "stderr",
     "output_type": "stream",
     "text": [
      "100%|██████████| 313/313 [00:46<00:00,  6.70it/s]"
     ]
    },
    {
     "name": "stdout",
     "output_type": "stream",
     "text": [
      "\n",
      " 0.7577\n"
     ]
    },
    {
     "name": "stderr",
     "output_type": "stream",
     "text": [
      "\n"
     ]
    }
   ],
   "source": [
    "tokenizer = AutoTokenizer.from_pretrained('bert-base-cased')\n",
    "bert_model = AutoModel.from_pretrained('bert-base-cased')\n",
    "if torch.cuda.is_available():  # use GPU if available\n",
    "  bert_model = bert_model.cuda()\n",
    "classifier = Classifier(\n",
    "    bert_model.config.hidden_size,\n",
    "    classifier_hidden_size,\n",
    "    datasets['train'].n_classes).to(bert_model.device)\n",
    "optimizer = torch.optim.Adam(classifier.parameters(), lr=5e-4)\n",
    "loss_func = nn.CrossEntropyLoss()\n",
    "\n",
    "macc2 = mean_train(131)\n",
    "print(\"\\n\", macc2)"
   ]
  },
  {
   "cell_type": "code",
   "execution_count": 20,
   "metadata": {
    "colab": {
     "base_uri": "https://localhost:8080/"
    },
    "id": "Yv2HiI_1aXJQ",
    "outputId": "5c92f8a1-8f63-40d3-aba7-4bd87e9a8fef"
   },
   "outputs": [
    {
     "name": "stderr",
     "output_type": "stream",
     "text": [
      "100%|██████████| 313/313 [00:45<00:00,  6.95it/s]"
     ]
    },
    {
     "name": "stdout",
     "output_type": "stream",
     "text": [
      "\n",
      " 0.965\n"
     ]
    },
    {
     "name": "stderr",
     "output_type": "stream",
     "text": [
      "\n"
     ]
    }
   ],
   "source": [
    "tokenizer = AutoTokenizer.from_pretrained('bert-base-cased')\n",
    "bert_model = AutoModel.from_pretrained('bert-base-cased')\n",
    "if torch.cuda.is_available():  # use GPU if available\n",
    "  bert_model = bert_model.cuda()\n",
    "classifier = Classifier(\n",
    "    bert_model.config.hidden_size,\n",
    "    classifier_hidden_size,\n",
    "    datasets['train'].n_classes).to(bert_model.device)\n",
    "optimizer = torch.optim.Adam(classifier.parameters(), lr=5e-4)\n",
    "loss_func = nn.CrossEntropyLoss()\n",
    "\n",
    "macc = mean_train(49)\n",
    "print(\"\\n\", macc)"
   ]
  },
  {
   "cell_type": "code",
   "execution_count": 18,
   "metadata": {
    "colab": {
     "base_uri": "https://localhost:8080/",
     "height": 0
    },
    "id": "V_t0rZ3Qazyv",
    "outputId": "df23c576-eb71-42c8-cf82-60592d9e4707"
   },
   "outputs": [
    {
     "name": "stderr",
     "output_type": "stream",
     "text": [
      "100%|██████████| 313/313 [00:43<00:00,  7.22it/s]"
     ]
    },
    {
     "name": "stdout",
     "output_type": "stream",
     "text": [
      "\n",
      " 0.8012\n"
     ]
    },
    {
     "name": "stderr",
     "output_type": "stream",
     "text": [
      "\n"
     ]
    }
   ],
   "source": [
    "tokenizer = AutoTokenizer.from_pretrained('bert-base-cased')\n",
    "bert_model = AutoModel.from_pretrained('bert-base-cased')\n",
    "if torch.cuda.is_available():  # use GPU if available\n",
    "  bert_model = bert_model.cuda()\n",
    "classifier = Classifier(\n",
    "    bert_model.config.hidden_size,\n",
    "    classifier_hidden_size,\n",
    "    datasets['train'].n_classes).to(bert_model.device)\n",
    "optimizer = torch.optim.Adam(classifier.parameters(), lr=5e-4)\n",
    "loss_func = nn.CrossEntropyLoss()\n",
    "\n",
    "macc = mean_train(127)\n",
    "print(\"\\n\", macc)"
   ]
  },
  {
   "cell_type": "code",
   "execution_count": 19,
   "metadata": {
    "colab": {
     "base_uri": "https://localhost:8080/",
     "height": 0
    },
    "id": "kWKwXm-nb_Ip",
    "outputId": "ccd7e496-2686-4942-cb69-0e4ce18c2d82"
   },
   "outputs": [
    {
     "name": "stderr",
     "output_type": "stream",
     "text": [
      "100%|██████████| 313/313 [00:43<00:00,  7.23it/s]"
     ]
    },
    {
     "name": "stdout",
     "output_type": "stream",
     "text": [
      "\n",
      " 0.8133\n"
     ]
    },
    {
     "name": "stderr",
     "output_type": "stream",
     "text": [
      "\n"
     ]
    }
   ],
   "source": [
    "tokenizer = AutoTokenizer.from_pretrained('bert-base-cased')\n",
    "bert_model = AutoModel.from_pretrained('bert-base-cased')\n",
    "if torch.cuda.is_available():  # use GPU if available\n",
    "  bert_model = bert_model.cuda()\n",
    "classifier = Classifier(\n",
    "    bert_model.config.hidden_size,\n",
    "    classifier_hidden_size,\n",
    "    datasets['train'].n_classes).to(bert_model.device)\n",
    "optimizer = torch.optim.Adam(classifier.parameters(), lr=5e-4)\n",
    "loss_func = nn.CrossEntropyLoss()\n",
    "\n",
    "macc = mean_train(137)\n",
    "print(\"\\n\", macc)"
   ]
  },
  {
   "cell_type": "markdown",
   "metadata": {
    "id": "aEMuK6mZ9Jxq"
   },
   "source": [
    "The mean is 0.8606, and the standard deviation is 0.0978. The accuracy on the test set is 0.979."
   ]
  },
  {
   "cell_type": "code",
   "execution_count": 21,
   "metadata": {
    "id": "ZQgGKR5KXr-Y"
   },
   "outputs": [],
   "source": [
    "def max_train(seed_val):\n",
    "    total_correct = 0.\n",
    "    total_samples = 0.\n",
    "    pbar = tqdm.tqdm(dataloaders['train'])\n",
    "    #initialize random seed\n",
    "    if torch.cuda.is_available():\n",
    "        torch.cuda.manual_seed(seed_val)\n",
    "    else:\n",
    "        torch.manual_seed(seed_val)\n",
    "    for labels, sentences in pbar:\n",
    "        with torch.no_grad():\n",
    "            unpooled_features = bert_model(**sentences)['last_hidden_state'] # [B, L, D]\n",
    "        attention = sentences['attention_mask'].unsqueeze(-1).expand(unpooled_features.size())\n",
    "        masked_features = attention*(unpooled_features)\n",
    "        max_features, _ = torch.max(masked_features, dim=1)\n",
    "        output = classifier(max_features)\n",
    "        loss = loss_func(output, labels)\n",
    "        loss.backward()\n",
    "        optimizer.step()\n",
    "        optimizer.zero_grad()\n",
    "        _, predicted = torch.max(output, 1)\n",
    "        total_correct += float((predicted == labels.type_as(predicted)).sum())\n",
    "        total_samples += labels.size(0)\n",
    "\n",
    "    return total_correct/total_samples"
   ]
  },
  {
   "cell_type": "code",
   "execution_count": 32,
   "metadata": {
    "id": "RyQI5KcmBHtv"
   },
   "outputs": [],
   "source": [
    "def max_test(seed_val):\n",
    "    total_correct = 0.\n",
    "    total_samples = 0.\n",
    "    pbar = tqdm.tqdm(dataloaders['test'])\n",
    "    #initialize random seed\n",
    "    if torch.cuda.is_available():\n",
    "        torch.cuda.manual_seed(seed_val)\n",
    "    else:\n",
    "        torch.manual_seed(seed_val)\n",
    "    for labels, sentences in pbar:\n",
    "        with torch.no_grad():\n",
    "            unpooled_features = bert_model(**sentences)['last_hidden_state'] # [B, L, D]\n",
    "        attention = sentences['attention_mask'].unsqueeze(-1).expand(unpooled_features.size())\n",
    "        masked_features = attention*(unpooled_features)\n",
    "        max_features, _ = torch.max(masked_features, dim=1)\n",
    "        output = classifier(max_features)\n",
    "        loss = loss_func(output, labels)\n",
    "        loss.backward()\n",
    "        optimizer.step()\n",
    "        optimizer.zero_grad()\n",
    "        _, predicted = torch.max(output, 1)\n",
    "        total_correct += float((predicted == labels.type_as(predicted)).sum())\n",
    "        total_samples += labels.size(0)\n",
    "\n",
    "    return total_correct/total_samples"
   ]
  },
  {
   "cell_type": "code",
   "execution_count": 26,
   "metadata": {
    "colab": {
     "base_uri": "https://localhost:8080/"
    },
    "id": "LXcW26WyfuS7",
    "outputId": "7dfa0fd9-1725-4757-bd2a-0a13ddb37d0f"
   },
   "outputs": [
    {
     "name": "stderr",
     "output_type": "stream",
     "text": [
      "100%|██████████| 313/313 [00:46<00:00,  6.78it/s]"
     ]
    },
    {
     "name": "stdout",
     "output_type": "stream",
     "text": [
      "\n",
      " 0.8644\n"
     ]
    },
    {
     "name": "stderr",
     "output_type": "stream",
     "text": [
      "\n"
     ]
    }
   ],
   "source": [
    "macc = max_train(21)\n",
    "print(\"\\n\", macc)"
   ]
  },
  {
   "cell_type": "code",
   "execution_count": 25,
   "metadata": {
    "colab": {
     "base_uri": "https://localhost:8080/"
    },
    "id": "b1d40t6WiMwe",
    "outputId": "80122b2b-2f73-4faa-b77a-f00c2fb117d3"
   },
   "outputs": [
    {
     "name": "stderr",
     "output_type": "stream",
     "text": [
      "100%|██████████| 313/313 [00:46<00:00,  6.76it/s]"
     ]
    },
    {
     "name": "stdout",
     "output_type": "stream",
     "text": [
      "\n",
      " 0.8103\n"
     ]
    },
    {
     "name": "stderr",
     "output_type": "stream",
     "text": [
      "\n"
     ]
    }
   ],
   "source": [
    "tokenizer = AutoTokenizer.from_pretrained('bert-base-cased')\n",
    "bert_model = AutoModel.from_pretrained('bert-base-cased')\n",
    "if torch.cuda.is_available():  # use GPU if available\n",
    "  bert_model = bert_model.cuda()\n",
    "classifier = Classifier(\n",
    "    bert_model.config.hidden_size,\n",
    "    classifier_hidden_size,\n",
    "    datasets['train'].n_classes).to(bert_model.device)\n",
    "optimizer = torch.optim.Adam(classifier.parameters(), lr=5e-4)\n",
    "loss_func = nn.CrossEntropyLoss()\n",
    "\n",
    "macc = max_train(19)\n",
    "print(\"\\n\", macc)"
   ]
  },
  {
   "cell_type": "code",
   "execution_count": 29,
   "metadata": {
    "colab": {
     "base_uri": "https://localhost:8080/"
    },
    "id": "N8bycLSxlJAa",
    "outputId": "de27944e-ed0a-4644-d2f6-15743d8b18d7"
   },
   "outputs": [
    {
     "name": "stderr",
     "output_type": "stream",
     "text": [
      "100%|██████████| 313/313 [00:45<00:00,  6.94it/s]"
     ]
    },
    {
     "name": "stdout",
     "output_type": "stream",
     "text": [
      "\n",
      " 0.8928\n"
     ]
    },
    {
     "name": "stderr",
     "output_type": "stream",
     "text": [
      "\n"
     ]
    }
   ],
   "source": [
    "tokenizer = AutoTokenizer.from_pretrained('bert-base-cased')\n",
    "bert_model = AutoModel.from_pretrained('bert-base-cased')\n",
    "if torch.cuda.is_available():  # use GPU if available\n",
    "  bert_model = bert_model.cuda()\n",
    "classifier = Classifier(\n",
    "    bert_model.config.hidden_size,\n",
    "    classifier_hidden_size,\n",
    "    datasets['train'].n_classes).to(bert_model.device)\n",
    "optimizer = torch.optim.Adam(classifier.parameters(), lr=5e-4)\n",
    "loss_func = nn.CrossEntropyLoss()\n",
    "\n",
    "macc = max_train(189)\n",
    "print(\"\\n\", macc)"
   ]
  },
  {
   "cell_type": "code",
   "execution_count": 30,
   "metadata": {
    "colab": {
     "base_uri": "https://localhost:8080/"
    },
    "id": "ZidLCMAwnvTH",
    "outputId": "0f43faf4-7210-4f9c-e1ea-64b0d2d399eb"
   },
   "outputs": [
    {
     "name": "stderr",
     "output_type": "stream",
     "text": [
      "100%|██████████| 313/313 [00:46<00:00,  6.73it/s]"
     ]
    },
    {
     "name": "stdout",
     "output_type": "stream",
     "text": [
      "\n",
      " 0.9198\n"
     ]
    },
    {
     "name": "stderr",
     "output_type": "stream",
     "text": [
      "\n"
     ]
    }
   ],
   "source": [
    "tokenizer = AutoTokenizer.from_pretrained('bert-base-cased')\n",
    "bert_model = AutoModel.from_pretrained('bert-base-cased')\n",
    "if torch.cuda.is_available():  # use GPU if available\n",
    "  bert_model = bert_model.cuda()\n",
    "classifier = Classifier(\n",
    "    bert_model.config.hidden_size,\n",
    "    classifier_hidden_size,\n",
    "    datasets['train'].n_classes).to(bert_model.device)\n",
    "optimizer = torch.optim.Adam(classifier.parameters(), lr=5e-4)\n",
    "loss_func = nn.CrossEntropyLoss()\n",
    "\n",
    "macc = max_train(657)\n",
    "print(\"\\n\", macc)"
   ]
  },
  {
   "cell_type": "code",
   "execution_count": 31,
   "metadata": {
    "colab": {
     "base_uri": "https://localhost:8080/"
    },
    "id": "49R2IQcHl9Ng",
    "outputId": "a230f926-637d-4359-8110-c4999b83001b"
   },
   "outputs": [
    {
     "name": "stderr",
     "output_type": "stream",
     "text": [
      "100%|██████████| 313/313 [00:46<00:00,  6.79it/s]"
     ]
    },
    {
     "name": "stdout",
     "output_type": "stream",
     "text": [
      "\n",
      " 0.9349\n"
     ]
    },
    {
     "name": "stderr",
     "output_type": "stream",
     "text": [
      "\n"
     ]
    }
   ],
   "source": [
    "tokenizer = AutoTokenizer.from_pretrained('bert-base-cased')\n",
    "bert_model = AutoModel.from_pretrained('bert-base-cased')\n",
    "if torch.cuda.is_available():  # use GPU if available\n",
    "  bert_model = bert_model.cuda()\n",
    "classifier = Classifier(\n",
    "    bert_model.config.hidden_size,\n",
    "    classifier_hidden_size,\n",
    "    datasets['train'].n_classes).to(bert_model.device)\n",
    "optimizer = torch.optim.Adam(classifier.parameters(), lr=5e-4)\n",
    "loss_func = nn.CrossEntropyLoss()\n",
    "\n",
    "macc = max_train(176)\n",
    "print(\"\\n\", macc)"
   ]
  },
  {
   "cell_type": "code",
   "execution_count": 33,
   "metadata": {
    "colab": {
     "base_uri": "https://localhost:8080/"
    },
    "id": "ixpokJ7KBQcG",
    "outputId": "edea2eda-9192-4843-ee08-74bf4c32fc82"
   },
   "outputs": [
    {
     "name": "stderr",
     "output_type": "stream",
     "text": [
      "100%|██████████| 32/32 [00:04<00:00,  7.42it/s]"
     ]
    },
    {
     "name": "stdout",
     "output_type": "stream",
     "text": [
      "\n",
      " 0.95\n"
     ]
    },
    {
     "name": "stderr",
     "output_type": "stream",
     "text": [
      "\n"
     ]
    }
   ],
   "source": [
    "macc = max_test(176)\n",
    "print(\"\\n\", macc)"
   ]
  },
  {
   "cell_type": "markdown",
   "metadata": {
    "id": "Pa2WISXyBWX-"
   },
   "source": [
    "The mean was 0.894, and the standard deviation was 0.0494. The accuracy on the test set is 0.95."
   ]
  },
  {
   "cell_type": "markdown",
   "metadata": {
    "id": "q74_wpFHpeXG"
   },
   "source": [
    "It seems like max > mean > cls in terms of accuracies."
   ]
  },
  {
   "cell_type": "code",
   "execution_count": 34,
   "metadata": {
    "id": "bU15FoE6uEd4"
   },
   "outputs": [],
   "source": [
    "def unf_train(seed_val):\n",
    "    total_correct = 0.\n",
    "    total_samples = 0.\n",
    "    pbar = tqdm.tqdm(dataloaders['train'])\n",
    "    #initialize random seed\n",
    "    if torch.cuda.is_available():\n",
    "        torch.cuda.manual_seed(seed_val)\n",
    "    else:\n",
    "        torch.manual_seed(seed_val)\n",
    "    for labels, sentences in pbar:\n",
    "        unpooled_features = bert_model(**sentences)['last_hidden_state'] # [B, L, D]\n",
    "        output = classifier(unpooled_features[:, 0, :])\n",
    "        loss = loss_func(output, labels)\n",
    "        loss.backward()\n",
    "        optimizer.step()\n",
    "        optimizer.zero_grad()\n",
    "        _, predicted = torch.max(output, 1)\n",
    "        total_correct += float((predicted == labels.type_as(predicted)).sum())\n",
    "        total_samples += labels.size(0)\n",
    "\n",
    "    return total_correct/total_samples"
   ]
  },
  {
   "cell_type": "code",
   "execution_count": null,
   "metadata": {
    "colab": {
     "base_uri": "https://localhost:8080/"
    },
    "id": "jOI3RZ7buv3t",
    "outputId": "b4386045-ca24-463a-8410-ee5822ac26fe"
   },
   "outputs": [
    {
     "data": {
      "text/plain": [
       "<bound method Module.named_parameters of BertModel(\n",
       "  (embeddings): BertEmbeddings(\n",
       "    (word_embeddings): Embedding(28996, 768, padding_idx=0)\n",
       "    (position_embeddings): Embedding(512, 768)\n",
       "    (token_type_embeddings): Embedding(2, 768)\n",
       "    (LayerNorm): LayerNorm((768,), eps=1e-12, elementwise_affine=True)\n",
       "    (dropout): Dropout(p=0.1, inplace=False)\n",
       "  )\n",
       "  (encoder): BertEncoder(\n",
       "    (layer): ModuleList(\n",
       "      (0-11): 12 x BertLayer(\n",
       "        (attention): BertAttention(\n",
       "          (self): BertSelfAttention(\n",
       "            (query): Linear(in_features=768, out_features=768, bias=True)\n",
       "            (key): Linear(in_features=768, out_features=768, bias=True)\n",
       "            (value): Linear(in_features=768, out_features=768, bias=True)\n",
       "            (dropout): Dropout(p=0.1, inplace=False)\n",
       "          )\n",
       "          (output): BertSelfOutput(\n",
       "            (dense): Linear(in_features=768, out_features=768, bias=True)\n",
       "            (LayerNorm): LayerNorm((768,), eps=1e-12, elementwise_affine=True)\n",
       "            (dropout): Dropout(p=0.1, inplace=False)\n",
       "          )\n",
       "        )\n",
       "        (intermediate): BertIntermediate(\n",
       "          (dense): Linear(in_features=768, out_features=3072, bias=True)\n",
       "          (intermediate_act_fn): GELUActivation()\n",
       "        )\n",
       "        (output): BertOutput(\n",
       "          (dense): Linear(in_features=3072, out_features=768, bias=True)\n",
       "          (LayerNorm): LayerNorm((768,), eps=1e-12, elementwise_affine=True)\n",
       "          (dropout): Dropout(p=0.1, inplace=False)\n",
       "        )\n",
       "      )\n",
       "    )\n",
       "  )\n",
       "  (pooler): BertPooler(\n",
       "    (dense): Linear(in_features=768, out_features=768, bias=True)\n",
       "    (activation): Tanh()\n",
       "  )\n",
       ")>"
      ]
     },
     "execution_count": 56,
     "metadata": {},
     "output_type": "execute_result"
    }
   ],
   "source": [
    "bert_model.named_parameters"
   ]
  },
  {
   "cell_type": "code",
   "execution_count": 35,
   "metadata": {
    "id": "RV8KX_vEQUnn"
   },
   "outputs": [],
   "source": [
    "# hyperparameters\n",
    "batch_size = 32\n",
    "classifier_hidden_size = 32\n",
    "# hyperparameters ends\n",
    "\n",
    "classifier = Classifier(\n",
    "    bert_model.config.hidden_size,\n",
    "    classifier_hidden_size,\n",
    "    datasets['train'].n_classes).to(bert_model.device)\n",
    "\n",
    "params = list()\n",
    "for name, param in bert_model.named_parameters():\n",
    "  if name.startswith('pooler'):\n",
    "    params.append(param)\n",
    "optimizer = torch.optim.Adam(params + list(classifier.parameters()), lr=5e-4)\n",
    "loss_func = nn.CrossEntropyLoss()\n",
    "# Finish your code here for 1.4. You may re-used most of your code for 1.1."
   ]
  },
  {
   "cell_type": "code",
   "execution_count": 37,
   "metadata": {
    "colab": {
     "base_uri": "https://localhost:8080/"
    },
    "id": "Pw3lHSSLvLQ8",
    "outputId": "e6c89f30-36ad-4798-810e-912427f14e6a"
   },
   "outputs": [
    {
     "name": "stderr",
     "output_type": "stream",
     "text": [
      "100%|██████████| 313/313 [01:56<00:00,  2.68it/s]"
     ]
    },
    {
     "name": "stdout",
     "output_type": "stream",
     "text": [
      "\n",
      " 0.9791\n"
     ]
    },
    {
     "name": "stderr",
     "output_type": "stream",
     "text": [
      "\n"
     ]
    }
   ],
   "source": [
    "tokenizer = AutoTokenizer.from_pretrained('bert-base-cased')\n",
    "bert_model = AutoModel.from_pretrained('bert-base-cased')\n",
    "if torch.cuda.is_available():  # use GPU if available\n",
    "  bert_model = bert_model.cuda()\n",
    "classifier = Classifier(\n",
    "    bert_model.config.hidden_size,\n",
    "    classifier_hidden_size,\n",
    "    datasets['train'].n_classes).to(bert_model.device)\n",
    "params = list()\n",
    "for name, param in bert_model.named_parameters():\n",
    "  if name.startswith('pooler'):\n",
    "    params.append(param)\n",
    "optimizer = torch.optim.Adam(params + list(classifier.parameters()), lr=5e-4)\n",
    "loss_func = nn.CrossEntropyLoss()\n",
    "unf_acc = unf_train(17)\n",
    "print(\"\\n\", unf_acc)"
   ]
  },
  {
   "cell_type": "code",
   "execution_count": 38,
   "metadata": {
    "colab": {
     "base_uri": "https://localhost:8080/"
    },
    "id": "ZSmoTpfvOSp6",
    "outputId": "5806bc56-af04-4067-c5fb-75b88a052d6e"
   },
   "outputs": [
    {
     "name": "stderr",
     "output_type": "stream",
     "text": [
      "100%|██████████| 313/313 [01:56<00:00,  2.69it/s]"
     ]
    },
    {
     "name": "stdout",
     "output_type": "stream",
     "text": [
      "\n",
      " 0.9834\n"
     ]
    },
    {
     "name": "stderr",
     "output_type": "stream",
     "text": [
      "\n"
     ]
    }
   ],
   "source": [
    "tokenizer = AutoTokenizer.from_pretrained('bert-base-cased')\n",
    "bert_model = AutoModel.from_pretrained('bert-base-cased')\n",
    "if torch.cuda.is_available():  # use GPU if available\n",
    "  bert_model = bert_model.cuda()\n",
    "classifier = Classifier(\n",
    "    bert_model.config.hidden_size,\n",
    "    classifier_hidden_size,\n",
    "    datasets['train'].n_classes).to(bert_model.device)\n",
    "params = list()\n",
    "for name, param in bert_model.named_parameters():\n",
    "  if name.startswith('pooler'):\n",
    "    params.append(param)\n",
    "optimizer = torch.optim.Adam(params + list(classifier.parameters()), lr=5e-4)\n",
    "loss_func = nn.CrossEntropyLoss()\n",
    "unf_acc = unf_train(165)\n",
    "print(\"\\n\", unf_acc)"
   ]
  },
  {
   "cell_type": "code",
   "execution_count": 41,
   "metadata": {
    "colab": {
     "base_uri": "https://localhost:8080/"
    },
    "id": "3mEaPk11PCeh",
    "outputId": "83b5dc57-3666-44ce-9872-284dfc1d010a"
   },
   "outputs": [
    {
     "name": "stderr",
     "output_type": "stream",
     "text": [
      "100%|██████████| 313/313 [01:56<00:00,  2.69it/s]"
     ]
    },
    {
     "name": "stdout",
     "output_type": "stream",
     "text": [
      "\n",
      " 0.9638\n"
     ]
    },
    {
     "name": "stderr",
     "output_type": "stream",
     "text": [
      "\n"
     ]
    }
   ],
   "source": [
    "tokenizer = AutoTokenizer.from_pretrained('bert-base-cased')\n",
    "bert_model = AutoModel.from_pretrained('bert-base-cased')\n",
    "if torch.cuda.is_available():  # use GPU if available\n",
    "  bert_model = bert_model.cuda()\n",
    "classifier = Classifier(\n",
    "    bert_model.config.hidden_size,\n",
    "    classifier_hidden_size,\n",
    "    datasets['train'].n_classes).to(bert_model.device)\n",
    "params = list()\n",
    "for name, param in bert_model.named_parameters():\n",
    "  if name.startswith('pooler'):\n",
    "    params.append(param)\n",
    "optimizer = torch.optim.Adam(params + list(classifier.parameters()), lr=5e-4)\n",
    "loss_func = nn.CrossEntropyLoss()\n",
    "unf_acc = unf_train(167)\n",
    "print(\"\\n\", unf_acc)"
   ]
  },
  {
   "cell_type": "code",
   "execution_count": 43,
   "metadata": {
    "colab": {
     "base_uri": "https://localhost:8080/"
    },
    "id": "YPXMGR7WE6El",
    "outputId": "3fdfb02d-c30a-496a-beb8-3a76eaa26e6d"
   },
   "outputs": [
    {
     "name": "stderr",
     "output_type": "stream",
     "text": [
      "100%|██████████| 313/313 [01:54<00:00,  2.74it/s]"
     ]
    },
    {
     "name": "stdout",
     "output_type": "stream",
     "text": [
      "\n",
      " 0.9733\n"
     ]
    },
    {
     "name": "stderr",
     "output_type": "stream",
     "text": [
      "\n"
     ]
    }
   ],
   "source": [
    "tokenizer = AutoTokenizer.from_pretrained('bert-base-cased')\n",
    "bert_model = AutoModel.from_pretrained('bert-base-cased')\n",
    "if torch.cuda.is_available():  # use GPU if available\n",
    "  bert_model = bert_model.cuda()\n",
    "classifier = Classifier(\n",
    "    bert_model.config.hidden_size,\n",
    "    classifier_hidden_size,\n",
    "    datasets['train'].n_classes).to(bert_model.device)\n",
    "params = list()\n",
    "for name, param in bert_model.named_parameters():\n",
    "  if name.startswith('pooler'):\n",
    "    params.append(param)\n",
    "optimizer = torch.optim.Adam(params + list(classifier.parameters()), lr=5e-4)\n",
    "loss_func = nn.CrossEntropyLoss()\n",
    "unf_acc = unf_train(178)\n",
    "print(\"\\n\", unf_acc)"
   ]
  },
  {
   "cell_type": "code",
   "execution_count": 44,
   "metadata": {
    "colab": {
     "base_uri": "https://localhost:8080/"
    },
    "id": "WlyGg025GIcz",
    "outputId": "4009755d-c524-48a1-ea18-41a9db5226af"
   },
   "outputs": [
    {
     "name": "stderr",
     "output_type": "stream",
     "text": [
      "100%|██████████| 313/313 [01:57<00:00,  2.66it/s]"
     ]
    },
    {
     "name": "stdout",
     "output_type": "stream",
     "text": [
      "\n",
      " 0.7377\n"
     ]
    },
    {
     "name": "stderr",
     "output_type": "stream",
     "text": [
      "\n"
     ]
    }
   ],
   "source": [
    "tokenizer = AutoTokenizer.from_pretrained('bert-base-cased')\n",
    "bert_model = AutoModel.from_pretrained('bert-base-cased')\n",
    "if torch.cuda.is_available():  # use GPU if available\n",
    "  bert_model = bert_model.cuda()\n",
    "classifier = Classifier(\n",
    "    bert_model.config.hidden_size,\n",
    "    classifier_hidden_size,\n",
    "    datasets['train'].n_classes).to(bert_model.device)\n",
    "params = list()\n",
    "for name, param in bert_model.named_parameters():\n",
    "  if name.startswith('pooler'):\n",
    "    params.append(param)\n",
    "optimizer = torch.optim.Adam(params + list(classifier.parameters()), lr=5e-4)\n",
    "loss_func = nn.CrossEntropyLoss()\n",
    "unf_acc = unf_train(195)\n",
    "print(\"\\n\", unf_acc)"
   ]
  },
  {
   "cell_type": "markdown",
   "metadata": {
    "id": "oHUkRjx9Gw5y"
   },
   "source": [
    "The mean is given by 0.927, and 0.0113 is the standard deviation."
   ]
  },
  {
   "cell_type": "markdown",
   "metadata": {
    "id": "Z1AWx9krdJyn"
   },
   "source": [
    "**2**"
   ]
  },
  {
   "cell_type": "markdown",
   "metadata": {
    "id": "n3ZKEL38eQCd"
   },
   "source": [
    "**2.1** a. One possible interpretation of the sentence is to have the object of the sentence be \"a cat with a telescope\", which the girl is observing, or to take the telescope to be the instrument used by the girl in order to observe the cat."
   ]
  },
  {
   "cell_type": "markdown",
   "metadata": {
    "id": "hmMq7JEYeeo5"
   },
   "source": [
    "![Screenshot 2023-11-26 at 7.42.38 PM.png](data:image/png;base64,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)![Screenshot 2023-11-26 at 7.42.48 PM.png](data:image/png;base64,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)"
   ]
  },
  {
   "cell_type": "markdown",
   "metadata": {
    "id": "0dhOtB47csKS"
   },
   "source": [
    "**c**. As we can see, both trees are projective"
   ]
  },
  {
   "cell_type": "markdown",
   "metadata": {
    "id": "b7U0gwwcdZso"
   },
   "source": [
    "**d.** From the diagram above we can see that the number of words with correct head is for the second tree is 7 out 8 words, so $UAS = 7/8$."
   ]
  },
  {
   "cell_type": "markdown",
   "metadata": {
    "id": "Zfg3Z5F0d48D"
   },
   "source": [
    "**2.2**"
   ]
  },
  {
   "cell_type": "markdown",
   "metadata": {
    "id": "5B464AWFd81k"
   },
   "source": [
    "**a**. We have that $$ \\exp(s_{k}) = \\exp(2\\log k) = \\left( \\exp(log(k)) \\right)^{2} = k^{2}, $$ and $$ \\sum_{k=1}^{3}\\exp(s_{k}) = \\sum_{k=1}^{3} k^{2}.$$ Therefore we have that $$ p_{k} = \\frac{k^{2}}{\\sum_{k=1}^{3} k^{2}} = \\frac{k^{2}}{14}.$$\n",
    "\n",
    "Thus $p_{1} = 1/14, p_{2} = 2/7, p_{3} = 9/14$."
   ]
  },
  {
   "cell_type": "markdown",
   "metadata": {
    "id": "HmYWshGEgLmb"
   },
   "source": [
    "We have that $$p_{n} = \\frac{\\exp(s_{n})}{\\sum_{k=1}^{n}\\exp(s_{j})} = \\frac{\\exp(s_{n})}{\\sum_{k=1}^{n}\\exp(s_{j})}\\cdot \\frac{\\exp(s_{n-1})}{\\exp(s_{n-1})} = \\exp(s_{n}-s_{n-1})\\cdot p_{n-1}.$$"
   ]
  },
  {
   "cell_type": "markdown",
   "metadata": {
    "id": "1wQxHyE_w3mR"
   },
   "source": [
    "So $p_{n}=\\exp(s_{n}-s_{n-1})\\cdot p_{n-1}.$"
   ]
  },
  {
   "cell_type": "markdown",
   "metadata": {
    "id": "TRcvzpRlh32a"
   },
   "source": [
    "**c.** It will become sharper since each exponential term will blow up at comparable speeds, thus making it harder to distinguish between each label, i.e. giving a flatter distribution."
   ]
  },
  {
   "cell_type": "markdown",
   "metadata": {
    "id": "9MnTNcKPjhV8"
   },
   "source": [
    "**2.3**"
   ]
  },
  {
   "cell_type": "markdown",
   "metadata": {
    "id": "kz4xrkDTwYwQ"
   },
   "source": [
    "**a.** An announcement was sent to every student."
   ]
  },
  {
   "cell_type": "markdown",
   "metadata": {
    "id": "7yZYzb7Dwlcg"
   },
   "source": [
    "**b.** No, the logical form does not mean that a single announcement was sent to all students. Since the operator $\\forall s$ encloses the statement, it means that the existence of some announcement sent to a student is true for each, regardless of what that announcement is, *i.e.* it could very well be the case that each student is receiving a different announcement."
   ]
  },
  {
   "cell_type": "markdown",
   "metadata": {
    "id": "bjyENa-twqIf"
   },
   "source": [
    "**2.4** a. We have that $$ l = \\frac{1}{8}(-2log_{2}4) = -\\frac{1}{2}.$$ There for the perplexity is $\\frac{1}{\\sqrt{2}}$."
   ]
  },
  {
   "cell_type": "markdown",
   "metadata": {
    "id": "QtmKyJFywqLT"
   },
   "source": [
    "b. Since $|X|=2$ and $p(x) = \\frac{1}{|V|^{4}}$ since each word is uniformuly distributed, we then obtain that $$ l=\\frac{1}{8}\\left( \\log_{2}\\frac{1}{|V|^{4}} \\right) =  -\\frac{1}{2}\\log_{2}|V|.$$ Therefore $ p = 2^{\\frac{1}{2}\\log_{2}|V|}.$"
   ]
  }
 ],
 "metadata": {
  "accelerator": "GPU",
  "colab": {
   "gpuType": "T4",
   "provenance": []
  },
  "kernelspec": {
   "display_name": "Python 3 (ipykernel)",
   "language": "python",
   "name": "python3"
  },
  "language_info": {
   "codemirror_mode": {
    "name": "ipython",
    "version": 3
   },
   "file_extension": ".py",
   "mimetype": "text/x-python",
   "name": "python",
   "nbconvert_exporter": "python",
   "pygments_lexer": "ipython3",
   "version": "3.11.4"
  },
  "widgets": {
   "application/vnd.jupyter.widget-state+json": {
    "018ced0d6fb94a2ca6fdd6b85a60a290": {
     "model_module": "@jupyter-widgets/controls",
     "model_module_version": "1.5.0",
     "model_name": "HTMLModel",
     "state": {
      "_dom_classes": [],
      "_model_module": "@jupyter-widgets/controls",
      "_model_module_version": "1.5.0",
      "_model_name": "HTMLModel",
      "_view_count": null,
      "_view_module": "@jupyter-widgets/controls",
      "_view_module_version": "1.5.0",
      "_view_name": "HTMLView",
      "description": "",
      "description_tooltip": null,
      "layout": "IPY_MODEL_d714d4ae18594a67a0abd5687511df99",
      "placeholder": "​",
      "style": "IPY_MODEL_fd91cab858cf474ca851916d00ca6473",
      "value": " 29.0/29.0 [00:00&lt;00:00, 477B/s]"
     }
    },
    "044b230289e747dbb2d40d04ae8776cb": {
     "model_module": "@jupyter-widgets/controls",
     "model_module_version": "1.5.0",
     "model_name": "HTMLModel",
     "state": {
      "_dom_classes": [],
      "_model_module": "@jupyter-widgets/controls",
      "_model_module_version": "1.5.0",
      "_model_name": "HTMLModel",
      "_view_count": null,
      "_view_module": "@jupyter-widgets/controls",
      "_view_module_version": "1.5.0",
      "_view_name": "HTMLView",
      "description": "",
      "description_tooltip": null,
      "layout": "IPY_MODEL_a3efdde1f32d4bbcb5f16dc830727890",
      "placeholder": "​",
      "style": "IPY_MODEL_58ec756df73d44539254c25ed4e83ecb",
      "value": "model.safetensors: 100%"
     }
    },
    "0ac9bb32adc843f1a82eab7d5cf31f0e": {
     "model_module": "@jupyter-widgets/base",
     "model_module_version": "1.2.0",
     "model_name": "LayoutModel",
     "state": {
      "_model_module": "@jupyter-widgets/base",
      "_model_module_version": "1.2.0",
      "_model_name": "LayoutModel",
      "_view_count": null,
      "_view_module": "@jupyter-widgets/base",
      "_view_module_version": "1.2.0",
      "_view_name": "LayoutView",
      "align_content": null,
      "align_items": null,
      "align_self": null,
      "border": null,
      "bottom": null,
      "display": null,
      "flex": null,
      "flex_flow": null,
      "grid_area": null,
      "grid_auto_columns": null,
      "grid_auto_flow": null,
      "grid_auto_rows": null,
      "grid_column": null,
      "grid_gap": null,
      "grid_row": null,
      "grid_template_areas": null,
      "grid_template_columns": null,
      "grid_template_rows": null,
      "height": null,
      "justify_content": null,
      "justify_items": null,
      "left": null,
      "margin": null,
      "max_height": null,
      "max_width": null,
      "min_height": null,
      "min_width": null,
      "object_fit": null,
      "object_position": null,
      "order": null,
      "overflow": null,
      "overflow_x": null,
      "overflow_y": null,
      "padding": null,
      "right": null,
      "top": null,
      "visibility": null,
      "width": null
     }
    },
    "0e0bc965c2c04f88a771074f0e89c81b": {
     "model_module": "@jupyter-widgets/base",
     "model_module_version": "1.2.0",
     "model_name": "LayoutModel",
     "state": {
      "_model_module": "@jupyter-widgets/base",
      "_model_module_version": "1.2.0",
      "_model_name": "LayoutModel",
      "_view_count": null,
      "_view_module": "@jupyter-widgets/base",
      "_view_module_version": "1.2.0",
      "_view_name": "LayoutView",
      "align_content": null,
      "align_items": null,
      "align_self": null,
      "border": null,
      "bottom": null,
      "display": null,
      "flex": null,
      "flex_flow": null,
      "grid_area": null,
      "grid_auto_columns": null,
      "grid_auto_flow": null,
      "grid_auto_rows": null,
      "grid_column": null,
      "grid_gap": null,
      "grid_row": null,
      "grid_template_areas": null,
      "grid_template_columns": null,
      "grid_template_rows": null,
      "height": null,
      "justify_content": null,
      "justify_items": null,
      "left": null,
      "margin": null,
      "max_height": null,
      "max_width": null,
      "min_height": null,
      "min_width": null,
      "object_fit": null,
      "object_position": null,
      "order": null,
      "overflow": null,
      "overflow_x": null,
      "overflow_y": null,
      "padding": null,
      "right": null,
      "top": null,
      "visibility": null,
      "width": null
     }
    },
    "132fb20f8f2442cb876fc35692944c1e": {
     "model_module": "@jupyter-widgets/controls",
     "model_module_version": "1.5.0",
     "model_name": "ProgressStyleModel",
     "state": {
      "_model_module": "@jupyter-widgets/controls",
      "_model_module_version": "1.5.0",
      "_model_name": "ProgressStyleModel",
      "_view_count": null,
      "_view_module": "@jupyter-widgets/base",
      "_view_module_version": "1.2.0",
      "_view_name": "StyleView",
      "bar_color": null,
      "description_width": ""
     }
    },
    "16d2a8101348455f9624257bcb13f70b": {
     "model_module": "@jupyter-widgets/base",
     "model_module_version": "1.2.0",
     "model_name": "LayoutModel",
     "state": {
      "_model_module": "@jupyter-widgets/base",
      "_model_module_version": "1.2.0",
      "_model_name": "LayoutModel",
      "_view_count": null,
      "_view_module": "@jupyter-widgets/base",
      "_view_module_version": "1.2.0",
      "_view_name": "LayoutView",
      "align_content": null,
      "align_items": null,
      "align_self": null,
      "border": null,
      "bottom": null,
      "display": null,
      "flex": null,
      "flex_flow": null,
      "grid_area": null,
      "grid_auto_columns": null,
      "grid_auto_flow": null,
      "grid_auto_rows": null,
      "grid_column": null,
      "grid_gap": null,
      "grid_row": null,
      "grid_template_areas": null,
      "grid_template_columns": null,
      "grid_template_rows": null,
      "height": null,
      "justify_content": null,
      "justify_items": null,
      "left": null,
      "margin": null,
      "max_height": null,
      "max_width": null,
      "min_height": null,
      "min_width": null,
      "object_fit": null,
      "object_position": null,
      "order": null,
      "overflow": null,
      "overflow_x": null,
      "overflow_y": null,
      "padding": null,
      "right": null,
      "top": null,
      "visibility": null,
      "width": null
     }
    },
    "16f3a5ed1cac4ea6a4e29bf559d00cd3": {
     "model_module": "@jupyter-widgets/controls",
     "model_module_version": "1.5.0",
     "model_name": "HTMLModel",
     "state": {
      "_dom_classes": [],
      "_model_module": "@jupyter-widgets/controls",
      "_model_module_version": "1.5.0",
      "_model_name": "HTMLModel",
      "_view_count": null,
      "_view_module": "@jupyter-widgets/controls",
      "_view_module_version": "1.5.0",
      "_view_name": "HTMLView",
      "description": "",
      "description_tooltip": null,
      "layout": "IPY_MODEL_71f36e98ac9a4397be19e559a6f9226b",
      "placeholder": "​",
      "style": "IPY_MODEL_fec2ba4b0a1c4b56a30371211bd5373f",
      "value": " 436k/436k [00:00&lt;00:00, 3.04MB/s]"
     }
    },
    "1c7ffad6b7994bb481ffa7779c670816": {
     "model_module": "@jupyter-widgets/controls",
     "model_module_version": "1.5.0",
     "model_name": "HBoxModel",
     "state": {
      "_dom_classes": [],
      "_model_module": "@jupyter-widgets/controls",
      "_model_module_version": "1.5.0",
      "_model_name": "HBoxModel",
      "_view_count": null,
      "_view_module": "@jupyter-widgets/controls",
      "_view_module_version": "1.5.0",
      "_view_name": "HBoxView",
      "box_style": "",
      "children": [
       "IPY_MODEL_511f1d60269e4000a8e3bd4406a9c60f",
       "IPY_MODEL_7c3e77da2dfb46ed936c99ff01cbf9e6",
       "IPY_MODEL_16f3a5ed1cac4ea6a4e29bf559d00cd3"
      ],
      "layout": "IPY_MODEL_16d2a8101348455f9624257bcb13f70b"
     }
    },
    "26fddea576be4a5aa0744b64b884e0ee": {
     "model_module": "@jupyter-widgets/controls",
     "model_module_version": "1.5.0",
     "model_name": "FloatProgressModel",
     "state": {
      "_dom_classes": [],
      "_model_module": "@jupyter-widgets/controls",
      "_model_module_version": "1.5.0",
      "_model_name": "FloatProgressModel",
      "_view_count": null,
      "_view_module": "@jupyter-widgets/controls",
      "_view_module_version": "1.5.0",
      "_view_name": "ProgressView",
      "bar_style": "success",
      "description": "",
      "description_tooltip": null,
      "layout": "IPY_MODEL_c20ac54b18ac40bdabbb03a66d288c38",
      "max": 213450,
      "min": 0,
      "orientation": "horizontal",
      "style": "IPY_MODEL_69f81b8c19634a98825b26171342b635",
      "value": 213450
     }
    },
    "2c5d5165e55b40e4bc76e585f926542f": {
     "model_module": "@jupyter-widgets/base",
     "model_module_version": "1.2.0",
     "model_name": "LayoutModel",
     "state": {
      "_model_module": "@jupyter-widgets/base",
      "_model_module_version": "1.2.0",
      "_model_name": "LayoutModel",
      "_view_count": null,
      "_view_module": "@jupyter-widgets/base",
      "_view_module_version": "1.2.0",
      "_view_name": "LayoutView",
      "align_content": null,
      "align_items": null,
      "align_self": null,
      "border": null,
      "bottom": null,
      "display": null,
      "flex": null,
      "flex_flow": null,
      "grid_area": null,
      "grid_auto_columns": null,
      "grid_auto_flow": null,
      "grid_auto_rows": null,
      "grid_column": null,
      "grid_gap": null,
      "grid_row": null,
      "grid_template_areas": null,
      "grid_template_columns": null,
      "grid_template_rows": null,
      "height": null,
      "justify_content": null,
      "justify_items": null,
      "left": null,
      "margin": null,
      "max_height": null,
      "max_width": null,
      "min_height": null,
      "min_width": null,
      "object_fit": null,
      "object_position": null,
      "order": null,
      "overflow": null,
      "overflow_x": null,
      "overflow_y": null,
      "padding": null,
      "right": null,
      "top": null,
      "visibility": null,
      "width": null
     }
    },
    "3d2104064110439687d13f399ac44656": {
     "model_module": "@jupyter-widgets/base",
     "model_module_version": "1.2.0",
     "model_name": "LayoutModel",
     "state": {
      "_model_module": "@jupyter-widgets/base",
      "_model_module_version": "1.2.0",
      "_model_name": "LayoutModel",
      "_view_count": null,
      "_view_module": "@jupyter-widgets/base",
      "_view_module_version": "1.2.0",
      "_view_name": "LayoutView",
      "align_content": null,
      "align_items": null,
      "align_self": null,
      "border": null,
      "bottom": null,
      "display": null,
      "flex": null,
      "flex_flow": null,
      "grid_area": null,
      "grid_auto_columns": null,
      "grid_auto_flow": null,
      "grid_auto_rows": null,
      "grid_column": null,
      "grid_gap": null,
      "grid_row": null,
      "grid_template_areas": null,
      "grid_template_columns": null,
      "grid_template_rows": null,
      "height": null,
      "justify_content": null,
      "justify_items": null,
      "left": null,
      "margin": null,
      "max_height": null,
      "max_width": null,
      "min_height": null,
      "min_width": null,
      "object_fit": null,
      "object_position": null,
      "order": null,
      "overflow": null,
      "overflow_x": null,
      "overflow_y": null,
      "padding": null,
      "right": null,
      "top": null,
      "visibility": null,
      "width": null
     }
    },
    "3e92b6dd831d45d98135e7ccb4f04bd5": {
     "model_module": "@jupyter-widgets/controls",
     "model_module_version": "1.5.0",
     "model_name": "HTMLModel",
     "state": {
      "_dom_classes": [],
      "_model_module": "@jupyter-widgets/controls",
      "_model_module_version": "1.5.0",
      "_model_name": "HTMLModel",
      "_view_count": null,
      "_view_module": "@jupyter-widgets/controls",
      "_view_module_version": "1.5.0",
      "_view_name": "HTMLView",
      "description": "",
      "description_tooltip": null,
      "layout": "IPY_MODEL_bfb0a7157f0844978717b80b0934c0a6",
      "placeholder": "​",
      "style": "IPY_MODEL_44439747ab22426aaf15d6b092dd712d",
      "value": " 436M/436M [00:03&lt;00:00, 126MB/s]"
     }
    },
    "402e942b6ebf4a2fa35c19d4772756d1": {
     "model_module": "@jupyter-widgets/base",
     "model_module_version": "1.2.0",
     "model_name": "LayoutModel",
     "state": {
      "_model_module": "@jupyter-widgets/base",
      "_model_module_version": "1.2.0",
      "_model_name": "LayoutModel",
      "_view_count": null,
      "_view_module": "@jupyter-widgets/base",
      "_view_module_version": "1.2.0",
      "_view_name": "LayoutView",
      "align_content": null,
      "align_items": null,
      "align_self": null,
      "border": null,
      "bottom": null,
      "display": null,
      "flex": null,
      "flex_flow": null,
      "grid_area": null,
      "grid_auto_columns": null,
      "grid_auto_flow": null,
      "grid_auto_rows": null,
      "grid_column": null,
      "grid_gap": null,
      "grid_row": null,
      "grid_template_areas": null,
      "grid_template_columns": null,
      "grid_template_rows": null,
      "height": null,
      "justify_content": null,
      "justify_items": null,
      "left": null,
      "margin": null,
      "max_height": null,
      "max_width": null,
      "min_height": null,
      "min_width": null,
      "object_fit": null,
      "object_position": null,
      "order": null,
      "overflow": null,
      "overflow_x": null,
      "overflow_y": null,
      "padding": null,
      "right": null,
      "top": null,
      "visibility": null,
      "width": null
     }
    },
    "406f3781020c421bad75e013d59072e5": {
     "model_module": "@jupyter-widgets/controls",
     "model_module_version": "1.5.0",
     "model_name": "ProgressStyleModel",
     "state": {
      "_model_module": "@jupyter-widgets/controls",
      "_model_module_version": "1.5.0",
      "_model_name": "ProgressStyleModel",
      "_view_count": null,
      "_view_module": "@jupyter-widgets/base",
      "_view_module_version": "1.2.0",
      "_view_name": "StyleView",
      "bar_color": null,
      "description_width": ""
     }
    },
    "44439747ab22426aaf15d6b092dd712d": {
     "model_module": "@jupyter-widgets/controls",
     "model_module_version": "1.5.0",
     "model_name": "DescriptionStyleModel",
     "state": {
      "_model_module": "@jupyter-widgets/controls",
      "_model_module_version": "1.5.0",
      "_model_name": "DescriptionStyleModel",
      "_view_count": null,
      "_view_module": "@jupyter-widgets/base",
      "_view_module_version": "1.2.0",
      "_view_name": "StyleView",
      "description_width": ""
     }
    },
    "4a57d620d8734381a3776fdbe3110106": {
     "model_module": "@jupyter-widgets/controls",
     "model_module_version": "1.5.0",
     "model_name": "FloatProgressModel",
     "state": {
      "_dom_classes": [],
      "_model_module": "@jupyter-widgets/controls",
      "_model_module_version": "1.5.0",
      "_model_name": "FloatProgressModel",
      "_view_count": null,
      "_view_module": "@jupyter-widgets/controls",
      "_view_module_version": "1.5.0",
      "_view_name": "ProgressView",
      "bar_style": "success",
      "description": "",
      "description_tooltip": null,
      "layout": "IPY_MODEL_8054f4e766444ffc89f5386a0e6ce65f",
      "max": 570,
      "min": 0,
      "orientation": "horizontal",
      "style": "IPY_MODEL_d63f8cb1f697422d904d564d87cf612b",
      "value": 570
     }
    },
    "511f1d60269e4000a8e3bd4406a9c60f": {
     "model_module": "@jupyter-widgets/controls",
     "model_module_version": "1.5.0",
     "model_name": "HTMLModel",
     "state": {
      "_dom_classes": [],
      "_model_module": "@jupyter-widgets/controls",
      "_model_module_version": "1.5.0",
      "_model_name": "HTMLModel",
      "_view_count": null,
      "_view_module": "@jupyter-widgets/controls",
      "_view_module_version": "1.5.0",
      "_view_name": "HTMLView",
      "description": "",
      "description_tooltip": null,
      "layout": "IPY_MODEL_402e942b6ebf4a2fa35c19d4772756d1",
      "placeholder": "​",
      "style": "IPY_MODEL_fef3967d80054735b5e7b1d9e1044567",
      "value": "tokenizer.json: 100%"
     }
    },
    "574709006f034c0d946a730b5d6b2b14": {
     "model_module": "@jupyter-widgets/controls",
     "model_module_version": "1.5.0",
     "model_name": "HTMLModel",
     "state": {
      "_dom_classes": [],
      "_model_module": "@jupyter-widgets/controls",
      "_model_module_version": "1.5.0",
      "_model_name": "HTMLModel",
      "_view_count": null,
      "_view_module": "@jupyter-widgets/controls",
      "_view_module_version": "1.5.0",
      "_view_name": "HTMLView",
      "description": "",
      "description_tooltip": null,
      "layout": "IPY_MODEL_0e0bc965c2c04f88a771074f0e89c81b",
      "placeholder": "​",
      "style": "IPY_MODEL_a16428ace86e4d37a803722b496804c0",
      "value": " 213k/213k [00:00&lt;00:00, 2.64MB/s]"
     }
    },
    "58ec756df73d44539254c25ed4e83ecb": {
     "model_module": "@jupyter-widgets/controls",
     "model_module_version": "1.5.0",
     "model_name": "DescriptionStyleModel",
     "state": {
      "_model_module": "@jupyter-widgets/controls",
      "_model_module_version": "1.5.0",
      "_model_name": "DescriptionStyleModel",
      "_view_count": null,
      "_view_module": "@jupyter-widgets/base",
      "_view_module_version": "1.2.0",
      "_view_name": "StyleView",
      "description_width": ""
     }
    },
    "5a421c3bf027468e95b4ec7316f374da": {
     "model_module": "@jupyter-widgets/controls",
     "model_module_version": "1.5.0",
     "model_name": "HTMLModel",
     "state": {
      "_dom_classes": [],
      "_model_module": "@jupyter-widgets/controls",
      "_model_module_version": "1.5.0",
      "_model_name": "HTMLModel",
      "_view_count": null,
      "_view_module": "@jupyter-widgets/controls",
      "_view_module_version": "1.5.0",
      "_view_name": "HTMLView",
      "description": "",
      "description_tooltip": null,
      "layout": "IPY_MODEL_b4f95615d6d14fcab450ce919053b0a6",
      "placeholder": "​",
      "style": "IPY_MODEL_cd28131ef5644bc1aba0893b26d4d1df",
      "value": "tokenizer_config.json: 100%"
     }
    },
    "5f0956be0c854e86857dad7148f4e580": {
     "model_module": "@jupyter-widgets/base",
     "model_module_version": "1.2.0",
     "model_name": "LayoutModel",
     "state": {
      "_model_module": "@jupyter-widgets/base",
      "_model_module_version": "1.2.0",
      "_model_name": "LayoutModel",
      "_view_count": null,
      "_view_module": "@jupyter-widgets/base",
      "_view_module_version": "1.2.0",
      "_view_name": "LayoutView",
      "align_content": null,
      "align_items": null,
      "align_self": null,
      "border": null,
      "bottom": null,
      "display": null,
      "flex": null,
      "flex_flow": null,
      "grid_area": null,
      "grid_auto_columns": null,
      "grid_auto_flow": null,
      "grid_auto_rows": null,
      "grid_column": null,
      "grid_gap": null,
      "grid_row": null,
      "grid_template_areas": null,
      "grid_template_columns": null,
      "grid_template_rows": null,
      "height": null,
      "justify_content": null,
      "justify_items": null,
      "left": null,
      "margin": null,
      "max_height": null,
      "max_width": null,
      "min_height": null,
      "min_width": null,
      "object_fit": null,
      "object_position": null,
      "order": null,
      "overflow": null,
      "overflow_x": null,
      "overflow_y": null,
      "padding": null,
      "right": null,
      "top": null,
      "visibility": null,
      "width": null
     }
    },
    "643ca29cf7584c2187a770bcb5b7de51": {
     "model_module": "@jupyter-widgets/base",
     "model_module_version": "1.2.0",
     "model_name": "LayoutModel",
     "state": {
      "_model_module": "@jupyter-widgets/base",
      "_model_module_version": "1.2.0",
      "_model_name": "LayoutModel",
      "_view_count": null,
      "_view_module": "@jupyter-widgets/base",
      "_view_module_version": "1.2.0",
      "_view_name": "LayoutView",
      "align_content": null,
      "align_items": null,
      "align_self": null,
      "border": null,
      "bottom": null,
      "display": null,
      "flex": null,
      "flex_flow": null,
      "grid_area": null,
      "grid_auto_columns": null,
      "grid_auto_flow": null,
      "grid_auto_rows": null,
      "grid_column": null,
      "grid_gap": null,
      "grid_row": null,
      "grid_template_areas": null,
      "grid_template_columns": null,
      "grid_template_rows": null,
      "height": null,
      "justify_content": null,
      "justify_items": null,
      "left": null,
      "margin": null,
      "max_height": null,
      "max_width": null,
      "min_height": null,
      "min_width": null,
      "object_fit": null,
      "object_position": null,
      "order": null,
      "overflow": null,
      "overflow_x": null,
      "overflow_y": null,
      "padding": null,
      "right": null,
      "top": null,
      "visibility": null,
      "width": null
     }
    },
    "69f81b8c19634a98825b26171342b635": {
     "model_module": "@jupyter-widgets/controls",
     "model_module_version": "1.5.0",
     "model_name": "ProgressStyleModel",
     "state": {
      "_model_module": "@jupyter-widgets/controls",
      "_model_module_version": "1.5.0",
      "_model_name": "ProgressStyleModel",
      "_view_count": null,
      "_view_module": "@jupyter-widgets/base",
      "_view_module_version": "1.2.0",
      "_view_name": "StyleView",
      "bar_color": null,
      "description_width": ""
     }
    },
    "704be87ced2145d3b62edc674c3770f1": {
     "model_module": "@jupyter-widgets/base",
     "model_module_version": "1.2.0",
     "model_name": "LayoutModel",
     "state": {
      "_model_module": "@jupyter-widgets/base",
      "_model_module_version": "1.2.0",
      "_model_name": "LayoutModel",
      "_view_count": null,
      "_view_module": "@jupyter-widgets/base",
      "_view_module_version": "1.2.0",
      "_view_name": "LayoutView",
      "align_content": null,
      "align_items": null,
      "align_self": null,
      "border": null,
      "bottom": null,
      "display": null,
      "flex": null,
      "flex_flow": null,
      "grid_area": null,
      "grid_auto_columns": null,
      "grid_auto_flow": null,
      "grid_auto_rows": null,
      "grid_column": null,
      "grid_gap": null,
      "grid_row": null,
      "grid_template_areas": null,
      "grid_template_columns": null,
      "grid_template_rows": null,
      "height": null,
      "justify_content": null,
      "justify_items": null,
      "left": null,
      "margin": null,
      "max_height": null,
      "max_width": null,
      "min_height": null,
      "min_width": null,
      "object_fit": null,
      "object_position": null,
      "order": null,
      "overflow": null,
      "overflow_x": null,
      "overflow_y": null,
      "padding": null,
      "right": null,
      "top": null,
      "visibility": null,
      "width": null
     }
    },
    "71f36e98ac9a4397be19e559a6f9226b": {
     "model_module": "@jupyter-widgets/base",
     "model_module_version": "1.2.0",
     "model_name": "LayoutModel",
     "state": {
      "_model_module": "@jupyter-widgets/base",
      "_model_module_version": "1.2.0",
      "_model_name": "LayoutModel",
      "_view_count": null,
      "_view_module": "@jupyter-widgets/base",
      "_view_module_version": "1.2.0",
      "_view_name": "LayoutView",
      "align_content": null,
      "align_items": null,
      "align_self": null,
      "border": null,
      "bottom": null,
      "display": null,
      "flex": null,
      "flex_flow": null,
      "grid_area": null,
      "grid_auto_columns": null,
      "grid_auto_flow": null,
      "grid_auto_rows": null,
      "grid_column": null,
      "grid_gap": null,
      "grid_row": null,
      "grid_template_areas": null,
      "grid_template_columns": null,
      "grid_template_rows": null,
      "height": null,
      "justify_content": null,
      "justify_items": null,
      "left": null,
      "margin": null,
      "max_height": null,
      "max_width": null,
      "min_height": null,
      "min_width": null,
      "object_fit": null,
      "object_position": null,
      "order": null,
      "overflow": null,
      "overflow_x": null,
      "overflow_y": null,
      "padding": null,
      "right": null,
      "top": null,
      "visibility": null,
      "width": null
     }
    },
    "7404044d6e014d7da8d33a5f6932ec2f": {
     "model_module": "@jupyter-widgets/controls",
     "model_module_version": "1.5.0",
     "model_name": "HTMLModel",
     "state": {
      "_dom_classes": [],
      "_model_module": "@jupyter-widgets/controls",
      "_model_module_version": "1.5.0",
      "_model_name": "HTMLModel",
      "_view_count": null,
      "_view_module": "@jupyter-widgets/controls",
      "_view_module_version": "1.5.0",
      "_view_name": "HTMLView",
      "description": "",
      "description_tooltip": null,
      "layout": "IPY_MODEL_0ac9bb32adc843f1a82eab7d5cf31f0e",
      "placeholder": "​",
      "style": "IPY_MODEL_f60a278d1a644931a43d935a6debf982",
      "value": " 570/570 [00:00&lt;00:00, 9.58kB/s]"
     }
    },
    "763bcdee0c3f4c53877324e9da06f82e": {
     "model_module": "@jupyter-widgets/base",
     "model_module_version": "1.2.0",
     "model_name": "LayoutModel",
     "state": {
      "_model_module": "@jupyter-widgets/base",
      "_model_module_version": "1.2.0",
      "_model_name": "LayoutModel",
      "_view_count": null,
      "_view_module": "@jupyter-widgets/base",
      "_view_module_version": "1.2.0",
      "_view_name": "LayoutView",
      "align_content": null,
      "align_items": null,
      "align_self": null,
      "border": null,
      "bottom": null,
      "display": null,
      "flex": null,
      "flex_flow": null,
      "grid_area": null,
      "grid_auto_columns": null,
      "grid_auto_flow": null,
      "grid_auto_rows": null,
      "grid_column": null,
      "grid_gap": null,
      "grid_row": null,
      "grid_template_areas": null,
      "grid_template_columns": null,
      "grid_template_rows": null,
      "height": null,
      "justify_content": null,
      "justify_items": null,
      "left": null,
      "margin": null,
      "max_height": null,
      "max_width": null,
      "min_height": null,
      "min_width": null,
      "object_fit": null,
      "object_position": null,
      "order": null,
      "overflow": null,
      "overflow_x": null,
      "overflow_y": null,
      "padding": null,
      "right": null,
      "top": null,
      "visibility": null,
      "width": null
     }
    },
    "7c3e77da2dfb46ed936c99ff01cbf9e6": {
     "model_module": "@jupyter-widgets/controls",
     "model_module_version": "1.5.0",
     "model_name": "FloatProgressModel",
     "state": {
      "_dom_classes": [],
      "_model_module": "@jupyter-widgets/controls",
      "_model_module_version": "1.5.0",
      "_model_name": "FloatProgressModel",
      "_view_count": null,
      "_view_module": "@jupyter-widgets/controls",
      "_view_module_version": "1.5.0",
      "_view_name": "ProgressView",
      "bar_style": "success",
      "description": "",
      "description_tooltip": null,
      "layout": "IPY_MODEL_763bcdee0c3f4c53877324e9da06f82e",
      "max": 435797,
      "min": 0,
      "orientation": "horizontal",
      "style": "IPY_MODEL_132fb20f8f2442cb876fc35692944c1e",
      "value": 435797
     }
    },
    "8054f4e766444ffc89f5386a0e6ce65f": {
     "model_module": "@jupyter-widgets/base",
     "model_module_version": "1.2.0",
     "model_name": "LayoutModel",
     "state": {
      "_model_module": "@jupyter-widgets/base",
      "_model_module_version": "1.2.0",
      "_model_name": "LayoutModel",
      "_view_count": null,
      "_view_module": "@jupyter-widgets/base",
      "_view_module_version": "1.2.0",
      "_view_name": "LayoutView",
      "align_content": null,
      "align_items": null,
      "align_self": null,
      "border": null,
      "bottom": null,
      "display": null,
      "flex": null,
      "flex_flow": null,
      "grid_area": null,
      "grid_auto_columns": null,
      "grid_auto_flow": null,
      "grid_auto_rows": null,
      "grid_column": null,
      "grid_gap": null,
      "grid_row": null,
      "grid_template_areas": null,
      "grid_template_columns": null,
      "grid_template_rows": null,
      "height": null,
      "justify_content": null,
      "justify_items": null,
      "left": null,
      "margin": null,
      "max_height": null,
      "max_width": null,
      "min_height": null,
      "min_width": null,
      "object_fit": null,
      "object_position": null,
      "order": null,
      "overflow": null,
      "overflow_x": null,
      "overflow_y": null,
      "padding": null,
      "right": null,
      "top": null,
      "visibility": null,
      "width": null
     }
    },
    "94a4b871a8be47069079415d37b3dc72": {
     "model_module": "@jupyter-widgets/controls",
     "model_module_version": "1.5.0",
     "model_name": "FloatProgressModel",
     "state": {
      "_dom_classes": [],
      "_model_module": "@jupyter-widgets/controls",
      "_model_module_version": "1.5.0",
      "_model_name": "FloatProgressModel",
      "_view_count": null,
      "_view_module": "@jupyter-widgets/controls",
      "_view_module_version": "1.5.0",
      "_view_name": "ProgressView",
      "bar_style": "success",
      "description": "",
      "description_tooltip": null,
      "layout": "IPY_MODEL_e3ba9f84d5bd482aa72c612aa1c868dd",
      "max": 29,
      "min": 0,
      "orientation": "horizontal",
      "style": "IPY_MODEL_e0bb842a355f4ff4a84c48d23f7308ad",
      "value": 29
     }
    },
    "a139b0c427164cbc99c950380a0c46cf": {
     "model_module": "@jupyter-widgets/controls",
     "model_module_version": "1.5.0",
     "model_name": "DescriptionStyleModel",
     "state": {
      "_model_module": "@jupyter-widgets/controls",
      "_model_module_version": "1.5.0",
      "_model_name": "DescriptionStyleModel",
      "_view_count": null,
      "_view_module": "@jupyter-widgets/base",
      "_view_module_version": "1.2.0",
      "_view_name": "StyleView",
      "description_width": ""
     }
    },
    "a16428ace86e4d37a803722b496804c0": {
     "model_module": "@jupyter-widgets/controls",
     "model_module_version": "1.5.0",
     "model_name": "DescriptionStyleModel",
     "state": {
      "_model_module": "@jupyter-widgets/controls",
      "_model_module_version": "1.5.0",
      "_model_name": "DescriptionStyleModel",
      "_view_count": null,
      "_view_module": "@jupyter-widgets/base",
      "_view_module_version": "1.2.0",
      "_view_name": "StyleView",
      "description_width": ""
     }
    },
    "a3efdde1f32d4bbcb5f16dc830727890": {
     "model_module": "@jupyter-widgets/base",
     "model_module_version": "1.2.0",
     "model_name": "LayoutModel",
     "state": {
      "_model_module": "@jupyter-widgets/base",
      "_model_module_version": "1.2.0",
      "_model_name": "LayoutModel",
      "_view_count": null,
      "_view_module": "@jupyter-widgets/base",
      "_view_module_version": "1.2.0",
      "_view_name": "LayoutView",
      "align_content": null,
      "align_items": null,
      "align_self": null,
      "border": null,
      "bottom": null,
      "display": null,
      "flex": null,
      "flex_flow": null,
      "grid_area": null,
      "grid_auto_columns": null,
      "grid_auto_flow": null,
      "grid_auto_rows": null,
      "grid_column": null,
      "grid_gap": null,
      "grid_row": null,
      "grid_template_areas": null,
      "grid_template_columns": null,
      "grid_template_rows": null,
      "height": null,
      "justify_content": null,
      "justify_items": null,
      "left": null,
      "margin": null,
      "max_height": null,
      "max_width": null,
      "min_height": null,
      "min_width": null,
      "object_fit": null,
      "object_position": null,
      "order": null,
      "overflow": null,
      "overflow_x": null,
      "overflow_y": null,
      "padding": null,
      "right": null,
      "top": null,
      "visibility": null,
      "width": null
     }
    },
    "b396ec5283fe468195db3ae898c36f5f": {
     "model_module": "@jupyter-widgets/controls",
     "model_module_version": "1.5.0",
     "model_name": "HBoxModel",
     "state": {
      "_dom_classes": [],
      "_model_module": "@jupyter-widgets/controls",
      "_model_module_version": "1.5.0",
      "_model_name": "HBoxModel",
      "_view_count": null,
      "_view_module": "@jupyter-widgets/controls",
      "_view_module_version": "1.5.0",
      "_view_name": "HBoxView",
      "box_style": "",
      "children": [
       "IPY_MODEL_5a421c3bf027468e95b4ec7316f374da",
       "IPY_MODEL_94a4b871a8be47069079415d37b3dc72",
       "IPY_MODEL_018ced0d6fb94a2ca6fdd6b85a60a290"
      ],
      "layout": "IPY_MODEL_c0fc3b589fc84fc6bf2ca7a08f1c1b5d"
     }
    },
    "b4f95615d6d14fcab450ce919053b0a6": {
     "model_module": "@jupyter-widgets/base",
     "model_module_version": "1.2.0",
     "model_name": "LayoutModel",
     "state": {
      "_model_module": "@jupyter-widgets/base",
      "_model_module_version": "1.2.0",
      "_model_name": "LayoutModel",
      "_view_count": null,
      "_view_module": "@jupyter-widgets/base",
      "_view_module_version": "1.2.0",
      "_view_name": "LayoutView",
      "align_content": null,
      "align_items": null,
      "align_self": null,
      "border": null,
      "bottom": null,
      "display": null,
      "flex": null,
      "flex_flow": null,
      "grid_area": null,
      "grid_auto_columns": null,
      "grid_auto_flow": null,
      "grid_auto_rows": null,
      "grid_column": null,
      "grid_gap": null,
      "grid_row": null,
      "grid_template_areas": null,
      "grid_template_columns": null,
      "grid_template_rows": null,
      "height": null,
      "justify_content": null,
      "justify_items": null,
      "left": null,
      "margin": null,
      "max_height": null,
      "max_width": null,
      "min_height": null,
      "min_width": null,
      "object_fit": null,
      "object_position": null,
      "order": null,
      "overflow": null,
      "overflow_x": null,
      "overflow_y": null,
      "padding": null,
      "right": null,
      "top": null,
      "visibility": null,
      "width": null
     }
    },
    "bcbd588cd83e46d4a308c39cce1c74a8": {
     "model_module": "@jupyter-widgets/controls",
     "model_module_version": "1.5.0",
     "model_name": "DescriptionStyleModel",
     "state": {
      "_model_module": "@jupyter-widgets/controls",
      "_model_module_version": "1.5.0",
      "_model_name": "DescriptionStyleModel",
      "_view_count": null,
      "_view_module": "@jupyter-widgets/base",
      "_view_module_version": "1.2.0",
      "_view_name": "StyleView",
      "description_width": ""
     }
    },
    "bfb0a7157f0844978717b80b0934c0a6": {
     "model_module": "@jupyter-widgets/base",
     "model_module_version": "1.2.0",
     "model_name": "LayoutModel",
     "state": {
      "_model_module": "@jupyter-widgets/base",
      "_model_module_version": "1.2.0",
      "_model_name": "LayoutModel",
      "_view_count": null,
      "_view_module": "@jupyter-widgets/base",
      "_view_module_version": "1.2.0",
      "_view_name": "LayoutView",
      "align_content": null,
      "align_items": null,
      "align_self": null,
      "border": null,
      "bottom": null,
      "display": null,
      "flex": null,
      "flex_flow": null,
      "grid_area": null,
      "grid_auto_columns": null,
      "grid_auto_flow": null,
      "grid_auto_rows": null,
      "grid_column": null,
      "grid_gap": null,
      "grid_row": null,
      "grid_template_areas": null,
      "grid_template_columns": null,
      "grid_template_rows": null,
      "height": null,
      "justify_content": null,
      "justify_items": null,
      "left": null,
      "margin": null,
      "max_height": null,
      "max_width": null,
      "min_height": null,
      "min_width": null,
      "object_fit": null,
      "object_position": null,
      "order": null,
      "overflow": null,
      "overflow_x": null,
      "overflow_y": null,
      "padding": null,
      "right": null,
      "top": null,
      "visibility": null,
      "width": null
     }
    },
    "c0fc3b589fc84fc6bf2ca7a08f1c1b5d": {
     "model_module": "@jupyter-widgets/base",
     "model_module_version": "1.2.0",
     "model_name": "LayoutModel",
     "state": {
      "_model_module": "@jupyter-widgets/base",
      "_model_module_version": "1.2.0",
      "_model_name": "LayoutModel",
      "_view_count": null,
      "_view_module": "@jupyter-widgets/base",
      "_view_module_version": "1.2.0",
      "_view_name": "LayoutView",
      "align_content": null,
      "align_items": null,
      "align_self": null,
      "border": null,
      "bottom": null,
      "display": null,
      "flex": null,
      "flex_flow": null,
      "grid_area": null,
      "grid_auto_columns": null,
      "grid_auto_flow": null,
      "grid_auto_rows": null,
      "grid_column": null,
      "grid_gap": null,
      "grid_row": null,
      "grid_template_areas": null,
      "grid_template_columns": null,
      "grid_template_rows": null,
      "height": null,
      "justify_content": null,
      "justify_items": null,
      "left": null,
      "margin": null,
      "max_height": null,
      "max_width": null,
      "min_height": null,
      "min_width": null,
      "object_fit": null,
      "object_position": null,
      "order": null,
      "overflow": null,
      "overflow_x": null,
      "overflow_y": null,
      "padding": null,
      "right": null,
      "top": null,
      "visibility": null,
      "width": null
     }
    },
    "c20ac54b18ac40bdabbb03a66d288c38": {
     "model_module": "@jupyter-widgets/base",
     "model_module_version": "1.2.0",
     "model_name": "LayoutModel",
     "state": {
      "_model_module": "@jupyter-widgets/base",
      "_model_module_version": "1.2.0",
      "_model_name": "LayoutModel",
      "_view_count": null,
      "_view_module": "@jupyter-widgets/base",
      "_view_module_version": "1.2.0",
      "_view_name": "LayoutView",
      "align_content": null,
      "align_items": null,
      "align_self": null,
      "border": null,
      "bottom": null,
      "display": null,
      "flex": null,
      "flex_flow": null,
      "grid_area": null,
      "grid_auto_columns": null,
      "grid_auto_flow": null,
      "grid_auto_rows": null,
      "grid_column": null,
      "grid_gap": null,
      "grid_row": null,
      "grid_template_areas": null,
      "grid_template_columns": null,
      "grid_template_rows": null,
      "height": null,
      "justify_content": null,
      "justify_items": null,
      "left": null,
      "margin": null,
      "max_height": null,
      "max_width": null,
      "min_height": null,
      "min_width": null,
      "object_fit": null,
      "object_position": null,
      "order": null,
      "overflow": null,
      "overflow_x": null,
      "overflow_y": null,
      "padding": null,
      "right": null,
      "top": null,
      "visibility": null,
      "width": null
     }
    },
    "c7c124552f1d4dc28d5a286a4e0ee571": {
     "model_module": "@jupyter-widgets/controls",
     "model_module_version": "1.5.0",
     "model_name": "HTMLModel",
     "state": {
      "_dom_classes": [],
      "_model_module": "@jupyter-widgets/controls",
      "_model_module_version": "1.5.0",
      "_model_name": "HTMLModel",
      "_view_count": null,
      "_view_module": "@jupyter-widgets/controls",
      "_view_module_version": "1.5.0",
      "_view_name": "HTMLView",
      "description": "",
      "description_tooltip": null,
      "layout": "IPY_MODEL_2c5d5165e55b40e4bc76e585f926542f",
      "placeholder": "​",
      "style": "IPY_MODEL_bcbd588cd83e46d4a308c39cce1c74a8",
      "value": "config.json: 100%"
     }
    },
    "c9571bef3e6a4d4f825104537c2487f4": {
     "model_module": "@jupyter-widgets/controls",
     "model_module_version": "1.5.0",
     "model_name": "HBoxModel",
     "state": {
      "_dom_classes": [],
      "_model_module": "@jupyter-widgets/controls",
      "_model_module_version": "1.5.0",
      "_model_name": "HBoxModel",
      "_view_count": null,
      "_view_module": "@jupyter-widgets/controls",
      "_view_module_version": "1.5.0",
      "_view_name": "HBoxView",
      "box_style": "",
      "children": [
       "IPY_MODEL_e2ccf8dac9d34f3ba532d8f219304868",
       "IPY_MODEL_26fddea576be4a5aa0744b64b884e0ee",
       "IPY_MODEL_574709006f034c0d946a730b5d6b2b14"
      ],
      "layout": "IPY_MODEL_5f0956be0c854e86857dad7148f4e580"
     }
    },
    "cd28131ef5644bc1aba0893b26d4d1df": {
     "model_module": "@jupyter-widgets/controls",
     "model_module_version": "1.5.0",
     "model_name": "DescriptionStyleModel",
     "state": {
      "_model_module": "@jupyter-widgets/controls",
      "_model_module_version": "1.5.0",
      "_model_name": "DescriptionStyleModel",
      "_view_count": null,
      "_view_module": "@jupyter-widgets/base",
      "_view_module_version": "1.2.0",
      "_view_name": "StyleView",
      "description_width": ""
     }
    },
    "d63f8cb1f697422d904d564d87cf612b": {
     "model_module": "@jupyter-widgets/controls",
     "model_module_version": "1.5.0",
     "model_name": "ProgressStyleModel",
     "state": {
      "_model_module": "@jupyter-widgets/controls",
      "_model_module_version": "1.5.0",
      "_model_name": "ProgressStyleModel",
      "_view_count": null,
      "_view_module": "@jupyter-widgets/base",
      "_view_module_version": "1.2.0",
      "_view_name": "StyleView",
      "bar_color": null,
      "description_width": ""
     }
    },
    "d714d4ae18594a67a0abd5687511df99": {
     "model_module": "@jupyter-widgets/base",
     "model_module_version": "1.2.0",
     "model_name": "LayoutModel",
     "state": {
      "_model_module": "@jupyter-widgets/base",
      "_model_module_version": "1.2.0",
      "_model_name": "LayoutModel",
      "_view_count": null,
      "_view_module": "@jupyter-widgets/base",
      "_view_module_version": "1.2.0",
      "_view_name": "LayoutView",
      "align_content": null,
      "align_items": null,
      "align_self": null,
      "border": null,
      "bottom": null,
      "display": null,
      "flex": null,
      "flex_flow": null,
      "grid_area": null,
      "grid_auto_columns": null,
      "grid_auto_flow": null,
      "grid_auto_rows": null,
      "grid_column": null,
      "grid_gap": null,
      "grid_row": null,
      "grid_template_areas": null,
      "grid_template_columns": null,
      "grid_template_rows": null,
      "height": null,
      "justify_content": null,
      "justify_items": null,
      "left": null,
      "margin": null,
      "max_height": null,
      "max_width": null,
      "min_height": null,
      "min_width": null,
      "object_fit": null,
      "object_position": null,
      "order": null,
      "overflow": null,
      "overflow_x": null,
      "overflow_y": null,
      "padding": null,
      "right": null,
      "top": null,
      "visibility": null,
      "width": null
     }
    },
    "d766e202ed9f42aa89403858652b7519": {
     "model_module": "@jupyter-widgets/controls",
     "model_module_version": "1.5.0",
     "model_name": "FloatProgressModel",
     "state": {
      "_dom_classes": [],
      "_model_module": "@jupyter-widgets/controls",
      "_model_module_version": "1.5.0",
      "_model_name": "FloatProgressModel",
      "_view_count": null,
      "_view_module": "@jupyter-widgets/controls",
      "_view_module_version": "1.5.0",
      "_view_name": "ProgressView",
      "bar_style": "success",
      "description": "",
      "description_tooltip": null,
      "layout": "IPY_MODEL_3d2104064110439687d13f399ac44656",
      "max": 435755784,
      "min": 0,
      "orientation": "horizontal",
      "style": "IPY_MODEL_406f3781020c421bad75e013d59072e5",
      "value": 435755784
     }
    },
    "df2d62255df9495caac1c356a0045094": {
     "model_module": "@jupyter-widgets/controls",
     "model_module_version": "1.5.0",
     "model_name": "HBoxModel",
     "state": {
      "_dom_classes": [],
      "_model_module": "@jupyter-widgets/controls",
      "_model_module_version": "1.5.0",
      "_model_name": "HBoxModel",
      "_view_count": null,
      "_view_module": "@jupyter-widgets/controls",
      "_view_module_version": "1.5.0",
      "_view_name": "HBoxView",
      "box_style": "",
      "children": [
       "IPY_MODEL_c7c124552f1d4dc28d5a286a4e0ee571",
       "IPY_MODEL_4a57d620d8734381a3776fdbe3110106",
       "IPY_MODEL_7404044d6e014d7da8d33a5f6932ec2f"
      ],
      "layout": "IPY_MODEL_643ca29cf7584c2187a770bcb5b7de51"
     }
    },
    "e0bb842a355f4ff4a84c48d23f7308ad": {
     "model_module": "@jupyter-widgets/controls",
     "model_module_version": "1.5.0",
     "model_name": "ProgressStyleModel",
     "state": {
      "_model_module": "@jupyter-widgets/controls",
      "_model_module_version": "1.5.0",
      "_model_name": "ProgressStyleModel",
      "_view_count": null,
      "_view_module": "@jupyter-widgets/base",
      "_view_module_version": "1.2.0",
      "_view_name": "StyleView",
      "bar_color": null,
      "description_width": ""
     }
    },
    "e2ccf8dac9d34f3ba532d8f219304868": {
     "model_module": "@jupyter-widgets/controls",
     "model_module_version": "1.5.0",
     "model_name": "HTMLModel",
     "state": {
      "_dom_classes": [],
      "_model_module": "@jupyter-widgets/controls",
      "_model_module_version": "1.5.0",
      "_model_name": "HTMLModel",
      "_view_count": null,
      "_view_module": "@jupyter-widgets/controls",
      "_view_module_version": "1.5.0",
      "_view_name": "HTMLView",
      "description": "",
      "description_tooltip": null,
      "layout": "IPY_MODEL_fbbb68ee5df44ed58cefebe1f0814e0f",
      "placeholder": "​",
      "style": "IPY_MODEL_a139b0c427164cbc99c950380a0c46cf",
      "value": "vocab.txt: 100%"
     }
    },
    "e3ba9f84d5bd482aa72c612aa1c868dd": {
     "model_module": "@jupyter-widgets/base",
     "model_module_version": "1.2.0",
     "model_name": "LayoutModel",
     "state": {
      "_model_module": "@jupyter-widgets/base",
      "_model_module_version": "1.2.0",
      "_model_name": "LayoutModel",
      "_view_count": null,
      "_view_module": "@jupyter-widgets/base",
      "_view_module_version": "1.2.0",
      "_view_name": "LayoutView",
      "align_content": null,
      "align_items": null,
      "align_self": null,
      "border": null,
      "bottom": null,
      "display": null,
      "flex": null,
      "flex_flow": null,
      "grid_area": null,
      "grid_auto_columns": null,
      "grid_auto_flow": null,
      "grid_auto_rows": null,
      "grid_column": null,
      "grid_gap": null,
      "grid_row": null,
      "grid_template_areas": null,
      "grid_template_columns": null,
      "grid_template_rows": null,
      "height": null,
      "justify_content": null,
      "justify_items": null,
      "left": null,
      "margin": null,
      "max_height": null,
      "max_width": null,
      "min_height": null,
      "min_width": null,
      "object_fit": null,
      "object_position": null,
      "order": null,
      "overflow": null,
      "overflow_x": null,
      "overflow_y": null,
      "padding": null,
      "right": null,
      "top": null,
      "visibility": null,
      "width": null
     }
    },
    "f60a278d1a644931a43d935a6debf982": {
     "model_module": "@jupyter-widgets/controls",
     "model_module_version": "1.5.0",
     "model_name": "DescriptionStyleModel",
     "state": {
      "_model_module": "@jupyter-widgets/controls",
      "_model_module_version": "1.5.0",
      "_model_name": "DescriptionStyleModel",
      "_view_count": null,
      "_view_module": "@jupyter-widgets/base",
      "_view_module_version": "1.2.0",
      "_view_name": "StyleView",
      "description_width": ""
     }
    },
    "fb235c365ff54540a90f17237d9bc822": {
     "model_module": "@jupyter-widgets/controls",
     "model_module_version": "1.5.0",
     "model_name": "HBoxModel",
     "state": {
      "_dom_classes": [],
      "_model_module": "@jupyter-widgets/controls",
      "_model_module_version": "1.5.0",
      "_model_name": "HBoxModel",
      "_view_count": null,
      "_view_module": "@jupyter-widgets/controls",
      "_view_module_version": "1.5.0",
      "_view_name": "HBoxView",
      "box_style": "",
      "children": [
       "IPY_MODEL_044b230289e747dbb2d40d04ae8776cb",
       "IPY_MODEL_d766e202ed9f42aa89403858652b7519",
       "IPY_MODEL_3e92b6dd831d45d98135e7ccb4f04bd5"
      ],
      "layout": "IPY_MODEL_704be87ced2145d3b62edc674c3770f1"
     }
    },
    "fbbb68ee5df44ed58cefebe1f0814e0f": {
     "model_module": "@jupyter-widgets/base",
     "model_module_version": "1.2.0",
     "model_name": "LayoutModel",
     "state": {
      "_model_module": "@jupyter-widgets/base",
      "_model_module_version": "1.2.0",
      "_model_name": "LayoutModel",
      "_view_count": null,
      "_view_module": "@jupyter-widgets/base",
      "_view_module_version": "1.2.0",
      "_view_name": "LayoutView",
      "align_content": null,
      "align_items": null,
      "align_self": null,
      "border": null,
      "bottom": null,
      "display": null,
      "flex": null,
      "flex_flow": null,
      "grid_area": null,
      "grid_auto_columns": null,
      "grid_auto_flow": null,
      "grid_auto_rows": null,
      "grid_column": null,
      "grid_gap": null,
      "grid_row": null,
      "grid_template_areas": null,
      "grid_template_columns": null,
      "grid_template_rows": null,
      "height": null,
      "justify_content": null,
      "justify_items": null,
      "left": null,
      "margin": null,
      "max_height": null,
      "max_width": null,
      "min_height": null,
      "min_width": null,
      "object_fit": null,
      "object_position": null,
      "order": null,
      "overflow": null,
      "overflow_x": null,
      "overflow_y": null,
      "padding": null,
      "right": null,
      "top": null,
      "visibility": null,
      "width": null
     }
    },
    "fd91cab858cf474ca851916d00ca6473": {
     "model_module": "@jupyter-widgets/controls",
     "model_module_version": "1.5.0",
     "model_name": "DescriptionStyleModel",
     "state": {
      "_model_module": "@jupyter-widgets/controls",
      "_model_module_version": "1.5.0",
      "_model_name": "DescriptionStyleModel",
      "_view_count": null,
      "_view_module": "@jupyter-widgets/base",
      "_view_module_version": "1.2.0",
      "_view_name": "StyleView",
      "description_width": ""
     }
    },
    "fec2ba4b0a1c4b56a30371211bd5373f": {
     "model_module": "@jupyter-widgets/controls",
     "model_module_version": "1.5.0",
     "model_name": "DescriptionStyleModel",
     "state": {
      "_model_module": "@jupyter-widgets/controls",
      "_model_module_version": "1.5.0",
      "_model_name": "DescriptionStyleModel",
      "_view_count": null,
      "_view_module": "@jupyter-widgets/base",
      "_view_module_version": "1.2.0",
      "_view_name": "StyleView",
      "description_width": ""
     }
    },
    "fef3967d80054735b5e7b1d9e1044567": {
     "model_module": "@jupyter-widgets/controls",
     "model_module_version": "1.5.0",
     "model_name": "DescriptionStyleModel",
     "state": {
      "_model_module": "@jupyter-widgets/controls",
      "_model_module_version": "1.5.0",
      "_model_name": "DescriptionStyleModel",
      "_view_count": null,
      "_view_module": "@jupyter-widgets/base",
      "_view_module_version": "1.2.0",
      "_view_name": "StyleView",
      "description_width": ""
     }
    }
   }
  }
 },
 "nbformat": 4,
 "nbformat_minor": 1
}
